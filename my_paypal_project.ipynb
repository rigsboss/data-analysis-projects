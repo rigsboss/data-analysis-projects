<!DOCTYPE html>
<html lang="en-US" class="theme-gitea">
<head data-suburl="">
	<meta charset="utf-8">
	<meta name="viewport" content="width=device-width, initial-scale=1">
	<meta http-equiv="x-ua-compatible" content="ie=edge">
	<title>my_paypal_179910_ujjb3q/my_paypal - my_paypal_project.ipynb at dev -  my_paypal - git </title>
	<link rel="manifest" href="/manifest.json" crossorigin="use-credentials">
	<meta name="theme-color" content="#6cc644">
	<meta name="author" content="my_paypal_179910_ujjb3q" />
	<meta name="description" content="my_paypal" />
	<meta name="keywords" content="go,git,self-hosted,gitea">
	<meta name="referrer" content="no-referrer" />
	<meta name="_csrf" content="SpQuJrqHTiXgkVTKGrm2ZQ6K3Tk6MTc0NjM1ODE2MjA5ODY5MzMxNA" />
	
		<meta name="_uid" content="185696" />
	
	
	

	<script>
		window.config = {
			AppVer: '',
			AppSubUrl: '',
			StaticUrlPrefix: '',
			UseServiceWorker:  true ,
			csrf: 'SpQuJrqHTiXgkVTKGrm2ZQ6K3Tk6MTc0NjM1ODE2MjA5ODY5MzMxNA',
			HighlightJS: false,
			SimpleMDE: false,
			Tribute: false,
			U2F: false,
			Heatmap: false,
			heatmapUser: null,
			NotificationSettings: {
				MinTimeout:  10000 ,
				TimeoutStep:   10000 ,
				MaxTimeout:  60000 ,
				EventSourceUpdateTime:  10000 ,
			},
			PageIsProjects: false,
      
		};
	</script>
	<link rel="icon" href="/img/favicon.svg" type="image/svg+xml">
	<link rel="alternate icon" href="/img/favicon.png" type="image/png">
	<link rel="mask-icon" href="/img/gitea-safari.svg" color="#609926">
	<link rel="fluid-icon" href="/img/gitea-lg.png" title="git">

	<link rel="stylesheet" href="/css/index.css?v=d41d8cd98f00b204e9800998ecf8427e">
	<noscript>
		<style>
			.dropdown:hover > .menu { display: block; }
			.ui.secondary.menu .dropdown.item > .menu { margin-top: 0; }
		</style>
	</noscript>
	<style class="list-search-style"></style>

	
		<meta property="og:title" content="my_paypal" />
		<meta property="og:url" content="https://git.us.qwasar.io/my_paypal_179910_ujjb3q/my_paypal" />
		
	
	<meta property="og:type" content="object" />
	
		<meta property="og:image" content="https://git.us.qwasar.io/user/avatar/my_paypal_179910_ujjb3q/-1" />
	

<meta property="og:site_name" content="git" />

	


</head>
<body>
	

	<div class="full height">
		<noscript>This website works better with JavaScript.</noscript>

		

		
			<div class="ui top secondary stackable main menu following bar light">
				<div class="ui container" id="navbar">
	<div class="item brand" style="justify-content: space-between;">
		<a href="/">
			<img class="ui mini image" src="/img/gitea-sm.png">
		</a>
		<div class="ui basic icon button mobile-only" id="navbar-expand-toggle">
			<i class="sidebar icon"></i>
		</div>
	</div>

	
		<a class="item " href="/">Dashboard</a>
		
		<a class="item " href="/issues">Issues</a>
		
		
		<a class="item " href="/pulls">Pull Requests</a>
		
		
		<a class="item " href="/milestones">Milestones</a>
		
		<a class="item " href="/explore/repos">Explore</a>
	

	

	


	
		<div class="right stackable menu">
			<a href="/notifications" class="item poping up" data-content='Notifications' data-variation="tiny inverted">
				<span class="text">
					<span class="fitted"><svg viewBox="0 0 16 16" class="svg octicon-bell" width="16" height="16" aria-hidden="true"><path d="M8 16a2 2 0 001.985-1.75c.017-.137-.097-.25-.235-.25h-3.5c-.138 0-.252.113-.235.25A2 2 0 008 16z"/><path fill-rule="evenodd" d="M8 1.5A3.5 3.5 0 004.5 5v2.947c0 .346-.102.683-.294.97l-1.703 2.556a.018.018 0 00-.003.01l.001.006c0 .002.002.004.004.006a.017.017 0 00.006.004l.007.001h10.964l.007-.001a.016.016 0 00.006-.004.016.016 0 00.004-.006l.001-.007a.017.017 0 00-.003-.01l-1.703-2.554a1.75 1.75 0 01-.294-.97V5A3.5 3.5 0 008 1.5zM3 5a5 5 0 0110 0v2.947c0 .05.015.098.042.139l1.703 2.555A1.518 1.518 0 0113.482 13H2.518a1.518 1.518 0 01-1.263-2.36l1.703-2.554A.25.25 0 003 7.947V5z"/></svg></span>
					<span class="sr-mobile-only">Notifications</span>
					
					
					<span class="ui red label  notification_count">
						61
					</span>
				</span>
			</a>

			<div class="ui dropdown jump item poping up" data-content="Create…" data-variation="tiny inverted">
				<span class="text">
					<span class="fitted"><svg viewBox="0 0 16 16" class="svg octicon-plus" width="16" height="16" aria-hidden="true"><path fill-rule="evenodd" d="M8 2a.75.75 0 01.75.75v4.5h4.5a.75.75 0 010 1.5h-4.5v4.5a.75.75 0 01-1.5 0v-4.5h-4.5a.75.75 0 010-1.5h4.5v-4.5A.75.75 0 018 2z"/></svg></span>
					<span class="sr-mobile-only">Create…</span>
					<span class="fitted not-mobile"><svg viewBox="0 0 16 16" class="svg octicon-triangle-down" width="16" height="16" aria-hidden="true"><path d="M4.427 7.427l3.396 3.396a.25.25 0 00.354 0l3.396-3.396A.25.25 0 0011.396 7H4.604a.25.25 0 00-.177.427z"/></svg></span>
				</span>
				<div class="menu">
					<a class="item" href="/repo/create">
						<span class="fitted"><svg viewBox="0 0 16 16" class="svg octicon-plus" width="16" height="16" aria-hidden="true"><path fill-rule="evenodd" d="M8 2a.75.75 0 01.75.75v4.5h4.5a.75.75 0 010 1.5h-4.5v4.5a.75.75 0 01-1.5 0v-4.5h-4.5a.75.75 0 010-1.5h4.5v-4.5A.75.75 0 018 2z"/></svg></span> New Repository
					</a>
					<a class="item" href="/repo/migrate">
						<span class="fitted"><svg viewBox="0 0 16 16" class="svg octicon-repo-push" width="16" height="16" aria-hidden="true"><path fill-rule="evenodd" d="M1 2.5A2.5 2.5 0 013.5 0h8.75a.75.75 0 01.75.75v3.5a.75.75 0 01-1.5 0V1.5h-8a1 1 0 00-1 1v6.708A2.492 2.492 0 013.5 9h3.25a.75.75 0 010 1.5H3.5a1 1 0 100 2h5.75a.75.75 0 010 1.5H3.5A2.5 2.5 0 011 11.5v-9zm13.23 7.79a.75.75 0 001.06-1.06l-2.505-2.505a.75.75 0 00-1.06 0L9.22 9.229a.75.75 0 001.06 1.061l1.225-1.224v6.184a.75.75 0 001.5 0V9.066l1.224 1.224z"/></svg></span> New Migration
					</a>
					
					<a class="item" href="/org/create">
						<span class="fitted"><svg viewBox="0 0 16 16" class="svg octicon-organization" width="16" height="16" aria-hidden="true"><path fill-rule="evenodd" d="M1.5 14.25c0 .138.112.25.25.25H4v-1.25a.75.75 0 01.75-.75h2.5a.75.75 0 01.75.75v1.25h2.25a.25.25 0 00.25-.25V1.75a.25.25 0 00-.25-.25h-8.5a.25.25 0 00-.25.25v12.5zM1.75 16A1.75 1.75 0 010 14.25V1.75C0 .784.784 0 1.75 0h8.5C11.216 0 12 .784 12 1.75v12.5c0 .085-.006.168-.018.25h2.268a.25.25 0 00.25-.25V8.285a.25.25 0 00-.111-.208l-1.055-.703a.75.75 0 11.832-1.248l1.055.703c.487.325.779.871.779 1.456v5.965A1.75 1.75 0 0114.25 16h-3.5a.75.75 0 01-.197-.026c-.099.017-.2.026-.303.026h-3a.75.75 0 01-.75-.75V14h-1v1.25a.75.75 0 01-.75.75h-3zM3 3.75A.75.75 0 013.75 3h.5a.75.75 0 010 1.5h-.5A.75.75 0 013 3.75zM3.75 6a.75.75 0 000 1.5h.5a.75.75 0 000-1.5h-.5zM3 9.75A.75.75 0 013.75 9h.5a.75.75 0 010 1.5h-.5A.75.75 0 013 9.75zM7.75 9a.75.75 0 000 1.5h.5a.75.75 0 000-1.5h-.5zM7 6.75A.75.75 0 017.75 6h.5a.75.75 0 010 1.5h-.5A.75.75 0 017 6.75zM7.75 3a.75.75 0 000 1.5h.5a.75.75 0 000-1.5h-.5z"/></svg></span> New Organization
					</a>
					
				</div>
			</div>

			<div class="ui dropdown jump item poping up" tabindex="-1" data-content="Profile and Settings…" data-variation="tiny inverted">
				<span class="text">
					<img class="ui tiny avatar image" width="24" height="24" src="/user/avatar/mahanan_r/-1">
					<span class="sr-only">Profile and Settings…</span>
					<span class="mobile-only">mahanan_r</span>
					<span class="fitted not-mobile" tabindex="-1"><svg viewBox="0 0 16 16" class="svg octicon-triangle-down" width="16" height="16" aria-hidden="true"><path d="M4.427 7.427l3.396 3.396a.25.25 0 00.354 0l3.396-3.396A.25.25 0 0011.396 7H4.604a.25.25 0 00-.177.427z"/></svg></span>
				</span>
				<div class="menu user-menu" tabindex="-1">
					<div class="ui header">
						Signed in as <strong>mahanan_r</strong>
					</div>

					<div class="divider"></div>
					<a class="item" href="/mahanan_r">
						<svg viewBox="0 0 16 16" class="svg octicon-person" width="16" height="16" aria-hidden="true"><path fill-rule="evenodd" d="M10.5 5a2.5 2.5 0 11-5 0 2.5 2.5 0 015 0zm.061 3.073a4 4 0 10-5.123 0 6.004 6.004 0 00-3.431 5.142.75.75 0 001.498.07 4.5 4.5 0 018.99 0 .75.75 0 101.498-.07 6.005 6.005 0 00-3.432-5.142z"/></svg>
						Profile
					</a>
					<a class="item" href="/mahanan_r?tab=stars">
						<svg viewBox="0 0 16 16" class="svg octicon-star" width="16" height="16" aria-hidden="true"><path fill-rule="evenodd" d="M8 .25a.75.75 0 01.673.418l1.882 3.815 4.21.612a.75.75 0 01.416 1.279l-3.046 2.97.719 4.192a.75.75 0 01-1.088.791L8 12.347l-3.766 1.98a.75.75 0 01-1.088-.79l.72-4.194L.818 6.374a.75.75 0 01.416-1.28l4.21-.611L7.327.668A.75.75 0 018 .25zm0 2.445L6.615 5.5a.75.75 0 01-.564.41l-3.097.45 2.24 2.184a.75.75 0 01.216.664l-.528 3.084 2.769-1.456a.75.75 0 01.698 0l2.77 1.456-.53-3.084a.75.75 0 01.216-.664l2.24-2.183-3.096-.45a.75.75 0 01-.564-.41L8 2.694v.001z"/></svg>
						Starred
					</a>
					<a class=" item" href="/user/settings">
						<svg viewBox="0 0 16 16" class="svg octicon-tools" width="16" height="16" aria-hidden="true"><path fill-rule="evenodd" d="M5.433 2.304A4.494 4.494 0 003.5 6c0 1.598.832 3.002 2.09 3.802.518.328.929.923.902 1.64v.008l-.164 3.337a.75.75 0 11-1.498-.073l.163-3.33c.002-.085-.05-.216-.207-.316A5.996 5.996 0 012 6a5.994 5.994 0 012.567-4.92 1.482 1.482 0 011.673-.04c.462.296.76.827.76 1.423v2.82c0 .082.041.16.11.206l.75.51a.25.25 0 00.28 0l.75-.51A.25.25 0 009 5.282V2.463c0-.596.298-1.127.76-1.423a1.482 1.482 0 011.673.04A5.994 5.994 0 0114 6a5.996 5.996 0 01-2.786 5.068c-.157.1-.209.23-.207.315l.163 3.33a.75.75 0 11-1.498.074l-.164-3.345c-.027-.717.384-1.312.902-1.64A4.496 4.496 0 0012.5 6a4.494 4.494 0 00-1.933-3.696c-.024.017-.067.067-.067.16v2.818a1.75 1.75 0 01-.767 1.448l-.75.51a1.75 1.75 0 01-1.966 0l-.75-.51A1.75 1.75 0 015.5 5.282V2.463c0-.092-.043-.142-.067-.159zm.01-.005z"/></svg>
						Settings
					</a>
					<a class="item" target="_blank" rel="noopener noreferrer" href="https://docs.gitea.io">
						<svg viewBox="0 0 16 16" class="svg octicon-question" width="16" height="16" aria-hidden="true"><path fill-rule="evenodd" d="M8 1.5a6.5 6.5 0 100 13 6.5 6.5 0 000-13zM0 8a8 8 0 1116 0A8 8 0 010 8zm9 3a1 1 0 11-2 0 1 1 0 012 0zM6.92 6.085c.081-.16.19-.299.34-.398.145-.097.371-.187.74-.187.28 0 .553.087.738.225A.613.613 0 019 6.25c0 .177-.04.264-.077.318a.956.956 0 01-.277.245c-.076.051-.158.1-.258.161l-.007.004a7.728 7.728 0 00-.313.195 2.416 2.416 0 00-.692.661.75.75 0 001.248.832.956.956 0 01.276-.245 6.3 6.3 0 01.26-.16l.006-.004c.093-.057.204-.123.313-.195.222-.149.487-.355.692-.662.214-.32.329-.702.329-1.15 0-.76-.36-1.348-.863-1.725A2.76 2.76 0 008 4c-.631 0-1.155.16-1.572.438-.413.276-.68.638-.849.977a.75.75 0 101.342.67z"/></svg>
						Help
					</a>
					

					<div class="divider"></div>
					<a class="item link-action" href data-url="/user/logout" data-redirect="/">
						<svg viewBox="0 0 16 16" class="svg octicon-sign-out" width="16" height="16" aria-hidden="true"><path fill-rule="evenodd" d="M2 2.75C2 1.784 2.784 1 3.75 1h2.5a.75.75 0 010 1.5h-2.5a.25.25 0 00-.25.25v10.5c0 .138.112.25.25.25h2.5a.75.75 0 010 1.5h-2.5A1.75 1.75 0 012 13.25V2.75zm10.44 4.5H6.75a.75.75 0 000 1.5h5.69l-1.97 1.97a.75.75 0 101.06 1.06l3.25-3.25a.75.75 0 000-1.06l-3.25-3.25a.75.75 0 10-1.06 1.06l1.97 1.97z"/></svg>
						Sign Out
					</a>
				</div>
			</div>
		</div>
	
</div>

			</div>
		


<div class="repository file list ">
	<div class="header-wrapper">

	<div class="ui container">
		<div class="repo-header">
			<div class="ui huge breadcrumb repo-title">
				
					<div class="repo-header-icon">
	
		
			<svg viewBox="0 0 16 16" class="svg octicon-lock" width="32" height="32" aria-hidden="true"><path fill-rule="evenodd" d="M4 4v2h-.25A1.75 1.75 0 002 7.75v5.5c0 .966.784 1.75 1.75 1.75h8.5A1.75 1.75 0 0014 13.25v-5.5A1.75 1.75 0 0012.25 6H12V4a4 4 0 10-8 0zm6.5 2V4a2.5 2.5 0 00-5 0v2h5zM12 7.5h.25a.25.25 0 01.25.25v5.5a.25.25 0 01-.25.25h-8.5a.25.25 0 01-.25-.25v-5.5a.25.25 0 01.25-.25H12z"/></svg>
		
	
</div>

				
				<a href="/my_paypal_179910_ujjb3q">my_paypal_179910_ujjb3q</a>
				<div class="divider"> / </div>
				<a href="/my_paypal_179910_ujjb3q/my_paypal">my_paypal</a>
				
					
						<span class="ui basic label">Private</span>
					
				
				
				
				
				
			</div>
			
				<div class="repo-buttons">
					<form method="post" action="/my_paypal_179910_ujjb3q/my_paypal/action/unwatch?redirect_to=%2fmy_paypal_179910_ujjb3q%2fmy_paypal%2fsrc%2fbranch%2fdev%2fmy_paypal_project.ipynb">
						<input type="hidden" name="_csrf" value="SpQuJrqHTiXgkVTKGrm2ZQ6K3Tk6MTc0NjM1ODE2MjA5ODY5MzMxNA">
						<div class="ui labeled button" tabindex="0">
							<button type="submit" class="ui compact basic button">
								<svg viewBox="0 0 16 16" class="svg octicon-eye-closed" width="16" height="16" aria-hidden="true"><path fill-rule="evenodd" d="M.143 2.31a.75.75 0 011.047-.167l14.5 10.5a.75.75 0 11-.88 1.214l-2.248-1.628C11.346 13.19 9.792 14 8 14c-1.981 0-3.67-.992-4.933-2.078C1.797 10.832.88 9.577.43 8.9a1.618 1.618 0 010-1.797c.353-.533.995-1.42 1.868-2.305L.31 3.357A.75.75 0 01.143 2.31zm3.386 3.378a14.21 14.21 0 00-1.85 2.244.12.12 0 00-.022.068c0 .021.006.045.022.068.412.621 1.242 1.75 2.366 2.717C5.175 11.758 6.527 12.5 8 12.5c1.195 0 2.31-.488 3.29-1.191L9.063 9.695A2 2 0 016.058 7.52l-2.53-1.832zM8 3.5c-.516 0-1.017.09-1.499.251a.75.75 0 11-.473-1.423A6.23 6.23 0 018 2c1.981 0 3.67.992 4.933 2.078 1.27 1.091 2.187 2.345 2.637 3.023a1.619 1.619 0 010 1.798c-.11.166-.248.365-.41.587a.75.75 0 11-1.21-.887c.148-.201.272-.382.371-.53a.119.119 0 000-.137c-.412-.621-1.242-1.75-2.366-2.717C10.825 4.242 9.473 3.5 8 3.5z"/></svg>Unwatch
							</button>
							<a class="ui basic label" href="/my_paypal_179910_ujjb3q/my_paypal/watchers">
								4
							</a>
						</div>
					</form>
					<form method="post" action="/my_paypal_179910_ujjb3q/my_paypal/action/star?redirect_to=%2fmy_paypal_179910_ujjb3q%2fmy_paypal%2fsrc%2fbranch%2fdev%2fmy_paypal_project.ipynb">
						<input type="hidden" name="_csrf" value="SpQuJrqHTiXgkVTKGrm2ZQ6K3Tk6MTc0NjM1ODE2MjA5ODY5MzMxNA">
						<div class="ui labeled button" tabindex="0">
							<button type="submit" class="ui compact basic button">
								<svg viewBox="0 0 16 16" class="svg octicon-star" width="16" height="16" aria-hidden="true"><path fill-rule="evenodd" d="M8 .25a.75.75 0 01.673.418l1.882 3.815 4.21.612a.75.75 0 01.416 1.279l-3.046 2.97.719 4.192a.75.75 0 01-1.088.791L8 12.347l-3.766 1.98a.75.75 0 01-1.088-.79l.72-4.194L.818 6.374a.75.75 0 01.416-1.28l4.21-.611L7.327.668A.75.75 0 018 .25zm0 2.445L6.615 5.5a.75.75 0 01-.564.41l-3.097.45 2.24 2.184a.75.75 0 01.216.664l-.528 3.084 2.769-1.456a.75.75 0 01.698 0l2.77 1.456-.53-3.084a.75.75 0 01.216-.664l2.24-2.183-3.096-.45a.75.75 0 01-.564-.41L8 2.694v.001z"/></svg>Star
							</button>
							<a class="ui basic label" href="/my_paypal_179910_ujjb3q/my_paypal/stars">
								0
							</a>
						</div>
					</form>
					
						<div class="ui labeled button " tabindex="0">
							<a class="ui compact basic button " href="/repo/fork/182824" data-position="top center" data-variation="tiny">
								<svg viewBox="0 0 16 16" class="svg octicon-repo-forked" width="16" height="16" aria-hidden="true"><path fill-rule="evenodd" d="M5 3.25a.75.75 0 11-1.5 0 .75.75 0 011.5 0zm0 2.122a2.25 2.25 0 10-1.5 0v.878A2.25 2.25 0 005.75 8.5h1.5v2.128a2.251 2.251 0 101.5 0V8.5h1.5a2.25 2.25 0 002.25-2.25v-.878a2.25 2.25 0 10-1.5 0v.878a.75.75 0 01-.75.75h-4.5A.75.75 0 015 6.25v-.878zm3.75 7.378a.75.75 0 11-1.5 0 .75.75 0 011.5 0zm3-8.75a.75.75 0 100-1.5.75.75 0 000 1.5z"/></svg>Fork
							</a>
							<a class="ui basic label" href="/my_paypal_179910_ujjb3q/my_paypal/forks">
								0
							</a>
						</div>
					
				</div>
			
		</div>
	</div>

	<div class="ui tabs container">
		
			<div class="ui tabular stackable menu navbar">
				
				<a class="active item" href="/my_paypal_179910_ujjb3q/my_paypal">
					<svg viewBox="0 0 16 16" class="svg octicon-code" width="16" height="16" aria-hidden="true"><path fill-rule="evenodd" d="M4.72 3.22a.75.75 0 011.06 1.06L2.06 8l3.72 3.72a.75.75 0 11-1.06 1.06L.47 8.53a.75.75 0 010-1.06l4.25-4.25zm6.56 0a.75.75 0 10-1.06 1.06L13.94 8l-3.72 3.72a.75.75 0 101.06 1.06l4.25-4.25a.75.75 0 000-1.06l-4.25-4.25z"/></svg> Code
				</a>
				

				

				

				
					<a class=" item" href="/my_paypal_179910_ujjb3q/my_paypal/pulls">
						<svg viewBox="0 0 16 16" class="svg octicon-git-pull-request" width="16" height="16" aria-hidden="true"><path fill-rule="evenodd" d="M7.177 3.073L9.573.677A.25.25 0 0110 .854v4.792a.25.25 0 01-.427.177L7.177 3.427a.25.25 0 010-.354zM3.75 2.5a.75.75 0 100 1.5.75.75 0 000-1.5zm-2.25.75a2.25 2.25 0 113 2.122v5.256a2.251 2.251 0 11-1.5 0V5.372A2.25 2.25 0 011.5 3.25zM11 2.5h-1V4h1a1 1 0 011 1v5.628a2.251 2.251 0 101.5 0V5A2.5 2.5 0 0011 2.5zm1 10.25a.75.75 0 111.5 0 .75.75 0 01-1.5 0zM3.75 12a.75.75 0 100 1.5.75.75 0 000-1.5z"/></svg> Pull Requests <span class="ui gray small label">0</span>
					</a>
				

				

				

				

				
					<a class=" item" href="/my_paypal_179910_ujjb3q/my_paypal/activity">
						<svg viewBox="0 0 16 16" class="svg octicon-pulse" width="16" height="16" aria-hidden="true"><path fill-rule="evenodd" d="M6 2a.75.75 0 01.696.471L10 10.731l1.304-3.26A.75.75 0 0112 7h3.25a.75.75 0 010 1.5h-2.742l-1.812 4.528a.75.75 0 01-1.392 0L6 4.77 4.696 8.03A.75.75 0 014 8.5H.75a.75.75 0 010-1.5h2.742l1.812-4.529A.75.75 0 016 2z"/></svg> Activity
					</a>
				

				

				
					<div class="right menu">
						<a class=" item" href="/my_paypal_179910_ujjb3q/my_paypal/settings">
							<svg viewBox="0 0 16 16" class="svg octicon-tools" width="16" height="16" aria-hidden="true"><path fill-rule="evenodd" d="M5.433 2.304A4.494 4.494 0 003.5 6c0 1.598.832 3.002 2.09 3.802.518.328.929.923.902 1.64v.008l-.164 3.337a.75.75 0 11-1.498-.073l.163-3.33c.002-.085-.05-.216-.207-.316A5.996 5.996 0 012 6a5.994 5.994 0 012.567-4.92 1.482 1.482 0 011.673-.04c.462.296.76.827.76 1.423v2.82c0 .082.041.16.11.206l.75.51a.25.25 0 00.28 0l.75-.51A.25.25 0 009 5.282V2.463c0-.596.298-1.127.76-1.423a1.482 1.482 0 011.673.04A5.994 5.994 0 0114 6a5.996 5.996 0 01-2.786 5.068c-.157.1-.209.23-.207.315l.163 3.33a.75.75 0 11-1.498.074l-.164-3.345c-.027-.717.384-1.312.902-1.64A4.496 4.496 0 0012.5 6a4.494 4.494 0 00-1.933-3.696c-.024.017-.067.067-.067.16v2.818a1.75 1.75 0 01-.767 1.448l-.75.51a1.75 1.75 0 01-1.966 0l-.75-.51A1.75 1.75 0 015.5 5.282V2.463c0-.092-.043-.142-.067-.159zm.01-.005z"/></svg> Settings
						</a>
					</div>
				
			</div>
		
	</div>
	<div class="ui tabs divider"></div>
</div>

	<div class="ui container ">
		



		<div class="ui repo-description">
			<div id="repo-desc">
				<span class="no-description text-italic">No Description</span>
				<a class="link" href=""></a>
			</div>
			
		</div>
		<div class="ui" id="repo-topics">
		
		<a id="manage_topic">Manage Topics</a>
		</div>
		
		<div class="ui repo-topic-edit grid form segment error" id="topic_edit" style="display:none">
			<div class="fourteen wide column">
				<div class="field">
					<div class="ui fluid multiple search selection dropdown">
						<input type="hidden" name="topics" value="">
						
						<div class="text"></div>
					</div>
				</div>
			</div>
			<div class="two wide column">
				<a class="ui button primary" href="javascript:;" id="save_topic"
				data-link="/my_paypal_179910_ujjb3q/my_paypal/topics">Done</a>
			</div>
		</div>
		
		<div class="hide" id="validate_prompt">
			<span id="count_prompt">You can not select more than 25 topics</span>
			<span id="format_prompt">Topics must start with a letter or number, can include dashes (&#39;-&#39;) and can be up to 35 characters long.</span>
		</div>
		
		<div class="ui segments repository-summary">
	<div class="ui segment sub-menu repository-menu">
		<div class="ui two horizontal center link list">
			
				<div class="item">
					<a class="ui" href="/my_paypal_179910_ujjb3q/my_paypal/commits/branch/dev"><svg viewBox="0 0 16 16" class="svg octicon-history" width="16" height="16" aria-hidden="true"><path fill-rule="evenodd" d="M1.643 3.143L.427 1.927A.25.25 0 000 2.104V5.75c0 .138.112.25.25.25h3.646a.25.25 0 00.177-.427L2.715 4.215a6.5 6.5 0 11-1.18 4.458.75.75 0 10-1.493.154 8.001 8.001 0 101.6-5.684zM7.75 4a.75.75 0 01.75.75v2.992l2.028.812a.75.75 0 01-.557 1.392l-2.5-1A.75.75 0 017 8.25v-3.5A.75.75 0 017.75 4z"/></svg> <b>10</b> Commits</a>
				</div>
			
			
				<div class="item">
					<a class="ui" href="/my_paypal_179910_ujjb3q/my_paypal/branches/"><svg viewBox="0 0 16 16" class="svg octicon-git-branch" width="16" height="16" aria-hidden="true"><path fill-rule="evenodd" d="M11.75 2.5a.75.75 0 100 1.5.75.75 0 000-1.5zm-2.25.75a2.25 2.25 0 113 2.122V6A2.5 2.5 0 0110 8.5H6a1 1 0 00-1 1v1.128a2.251 2.251 0 11-1.5 0V5.372a2.25 2.25 0 111.5 0v1.836A2.492 2.492 0 016 7h4a1 1 0 001-1v-.628A2.25 2.25 0 019.5 3.25zM4.25 12a.75.75 0 100 1.5.75.75 0 000-1.5zM3.5 3.25a.75.75 0 111.5 0 .75.75 0 01-1.5 0z"/></svg> <b>5</b> Branches</a>
				</div>
				<div class="item">
					<span class="ui"><svg viewBox="0 0 16 16" class="svg octicon-database" width="16" height="16" aria-hidden="true"><path fill-rule="evenodd" d="M2.5 3.5c0-.133.058-.318.282-.55.227-.237.592-.484 1.1-.708C4.899 1.795 6.354 1.5 8 1.5c1.647 0 3.102.295 4.117.742.51.224.874.47 1.101.707.224.233.282.418.282.551 0 .133-.058.318-.282.55-.227.237-.592.484-1.1.708C11.101 5.205 9.646 5.5 8 5.5c-1.647 0-3.102-.295-4.117-.742-.51-.224-.874-.47-1.101-.707-.224-.233-.282-.418-.282-.551zM1 3.5c0-.626.292-1.165.7-1.59.406-.422.956-.767 1.579-1.041C4.525.32 6.195 0 8 0c1.805 0 3.475.32 4.722.869.622.274 1.172.62 1.578 1.04.408.426.7.965.7 1.591v9c0 .626-.292 1.165-.7 1.59-.406.422-.956.767-1.579 1.041C11.476 15.68 9.806 16 8 16c-1.805 0-3.475-.32-4.721-.869-.623-.274-1.173-.62-1.579-1.04-.408-.426-.7-.965-.7-1.591v-9zM2.5 8V5.724c.241.15.503.286.779.407C4.525 6.68 6.195 7 8 7c1.805 0 3.475-.32 4.722-.869.275-.121.537-.257.778-.407V8c0 .133-.058.318-.282.55-.227.237-.592.484-1.1.708C11.101 9.705 9.646 10 8 10c-1.647 0-3.102-.295-4.117-.742-.51-.224-.874-.47-1.101-.707C2.558 8.318 2.5 8.133 2.5 8zm0 2.225V12.5c0 .133.058.318.282.55.227.237.592.484 1.1.708 1.016.447 2.471.742 4.118.742 1.647 0 3.102-.295 4.117-.742.51-.224.874-.47 1.101-.707.224-.233.282-.418.282-.551v-2.275c-.241.15-.503.285-.778.406-1.247.549-2.917.869-4.722.869-1.805 0-3.475-.32-4.721-.869a6.236 6.236 0 01-.779-.406z"/></svg> <b>76 MiB</b></span>
				</div>
			
		</div>
	</div>
	
	<div class="ui segment sub-menu language-stats-details" style="display: none">
		<div class="ui horizontal center link list">
			
			<div class="item">
				<i class="color-icon" style="background-color: #DA5B0B"></i>
				<span class="ui"><b>
				
					Jupyter Notebook
				
				</b> 100%</span>
			</div>
			
		</div>
	</div>
	<a class="ui segment language-stats">
		
		<div class="bar" style="width: 100%; background-color: #DA5B0B">&nbsp;</div>
		
	</a>
	
</div>

		<div class="ui stackable secondary menu mobile--margin-between-items mobile--no-negative-margins">
			<div class="fitted item choose reference">
	<div class="ui floating filter dropdown custom" data-can-create-branch="true" data-no-results="No results found.">
		<div class="ui basic small compact button" @click="menuVisible = !menuVisible" @keyup.enter="menuVisible = !menuVisible">
			<span class="text">
				<svg viewBox="0 0 16 16" class="svg octicon-git-branch" width="16" height="16" aria-hidden="true"><path fill-rule="evenodd" d="M11.75 2.5a.75.75 0 100 1.5.75.75 0 000-1.5zm-2.25.75a2.25 2.25 0 113 2.122V6A2.5 2.5 0 0110 8.5H6a1 1 0 00-1 1v1.128a2.251 2.251 0 11-1.5 0V5.372a2.25 2.25 0 111.5 0v1.836A2.492 2.492 0 016 7h4a1 1 0 001-1v-.628A2.25 2.25 0 019.5 3.25zM4.25 12a.75.75 0 100 1.5.75.75 0 000-1.5zM3.5 3.25a.75.75 0 111.5 0 .75.75 0 01-1.5 0z"/></svg>
				Branch:
				<strong>dev</strong>
			</span>
			<i class="dropdown icon"></i>
		</div>
		<div class="data" style="display: none" data-mode="branches">
			
				<div class="item branch selected" data-url="/my_paypal_179910_ujjb3q/my_paypal/src/branch/dev/my_paypal_project.ipynb">dev</div>
			
				<div class="item branch " data-url="/my_paypal_179910_ujjb3q/my_paypal/src/branch/dev_0/my_paypal_project.ipynb">dev_0</div>
			
				<div class="item branch " data-url="/my_paypal_179910_ujjb3q/my_paypal/src/branch/dev_1/my_paypal_project.ipynb">dev_1</div>
			
				<div class="item branch " data-url="/my_paypal_179910_ujjb3q/my_paypal/src/branch/dev_2/my_paypal_project.ipynb">dev_2</div>
			
				<div class="item branch " data-url="/my_paypal_179910_ujjb3q/my_paypal/src/branch/master/my_paypal_project.ipynb">master</div>
			
			
		</div>
		<div class="menu transition" :class="{visible: menuVisible}" v-if="menuVisible" v-cloak>
			<div class="ui icon search input">
				<i class="filter icon"></i>
				<input name="search" ref="searchField" v-model="searchTerm" @keydown="keydown($event)" placeholder="Filter branch or tag...">
			</div>
			<div class="header branch-tag-choice">
				<div class="ui grid">
					<div class="two column row">
						<a class="reference column" href="#" @click="mode = 'branches'; focusSearchField()">
							<span class="text" :class="{black: mode == 'branches'}">
								<svg viewBox="0 0 16 16" class="svg octicon-git-branch" width="16" height="16" aria-hidden="true"><path fill-rule="evenodd" d="M11.75 2.5a.75.75 0 100 1.5.75.75 0 000-1.5zm-2.25.75a2.25 2.25 0 113 2.122V6A2.5 2.5 0 0110 8.5H6a1 1 0 00-1 1v1.128a2.251 2.251 0 11-1.5 0V5.372a2.25 2.25 0 111.5 0v1.836A2.492 2.492 0 016 7h4a1 1 0 001-1v-.628A2.25 2.25 0 019.5 3.25zM4.25 12a.75.75 0 100 1.5.75.75 0 000-1.5zM3.5 3.25a.75.75 0 111.5 0 .75.75 0 01-1.5 0z"/></svg> Branches
							</span>
						</a>
						<a class="reference column" href="#" @click="mode = 'tags'; focusSearchField()">
							<span class="text" :class="{black: mode == 'tags'}">
								<i class="reference tags icon"></i> Tags
							</span>
						</a>
					</div>
				</div>
			</div>
			<div class="scrolling menu" ref="scrollContainer">
				<div v-for="(item, index) in filteredItems" :key="item.name" class="item" :class="{selected: item.selected, active: active == index}" @click="selectItem(item)" :ref="'listItem' + index">${ item.name }</div>
				<div class="item" v-if="showCreateNewBranch" :class="{active: active == filteredItems.length}" :ref="'listItem' + filteredItems.length">
					<a href="#" @click="createNewBranch()">
						<div>
							<svg viewBox="0 0 16 16" class="svg octicon-git-branch" width="16" height="16" aria-hidden="true"><path fill-rule="evenodd" d="M11.75 2.5a.75.75 0 100 1.5.75.75 0 000-1.5zm-2.25.75a2.25 2.25 0 113 2.122V6A2.5 2.5 0 0110 8.5H6a1 1 0 00-1 1v1.128a2.251 2.251 0 11-1.5 0V5.372a2.25 2.25 0 111.5 0v1.836A2.492 2.492 0 016 7h4a1 1 0 001-1v-.628A2.25 2.25 0 019.5 3.25zM4.25 12a.75.75 0 100 1.5.75.75 0 000-1.5zM3.5 3.25a.75.75 0 111.5 0 .75.75 0 01-1.5 0z"/></svg>
							Create branch <strong>${ searchTerm }</strong>
						</div>
						<div class="text small">
							
								from &#39;dev&#39;
							
						</div>
					</a>
					<form ref="newBranchForm" action="/my_paypal_179910_ujjb3q/my_paypal/branches/_new/branch/dev" method="post">
						<input type="hidden" name="_csrf" value="SpQuJrqHTiXgkVTKGrm2ZQ6K3Tk6MTc0NjM1ODE2MjA5ODY5MzMxNA">
						<input type="hidden" name="new_branch_name" v-model="searchTerm">
					</form>
				</div>
			</div>
			<div class="message" v-if="showNoResults">${ noResults }</div>
		</div>
	</div>
</div>

			
			
			
			
				<div class="fitted item"><span class="ui breadcrumb repo-path"><a class="section" href="/my_paypal_179910_ujjb3q/my_paypal/src/branch/dev" title="my_paypal">my_paypal</a><span class="divider">/</span><span class="active section" title="my_paypal_project.ipynb">my_paypal_project.ipynb</span></span></div>
			
			<div class="right fitted item" id="file-buttons">
				<div class="ui tiny blue buttons">
					
						
						
					
					
				</div>

			</div>
			<div class="fitted item">
				
			</div>
			<div class="fitted item">

				
				
			</div>
		</div>
		
			<div class="tab-size-8 non-diff-file-content">
	<h4 class="file-header ui top attached header">
		<div class="file-header-left df ac">
			
				<div class="file-info text grey normal mono">
					
					
						<div class="file-info-entry">
							495 lines
						</div>
					
					
						<div class="file-info-entry">
							279 KiB
						</div>
					
					
				</div>
			
		</div>
		
		<div class="file-header-right df ac">
			<div class="ui right file-actions">
				<div class="ui buttons">
					<a class="ui button" href="/my_paypal_179910_ujjb3q/my_paypal/raw/branch/dev/my_paypal_project.ipynb">Raw</a>
					
						<a class="ui button" href="/my_paypal_179910_ujjb3q/my_paypal/src/commit/5e6fd06c06363e18d13ea9917d9a851e18990634/my_paypal_project.ipynb">Permalink</a>
					
					
						<a class="ui button" href="/my_paypal_179910_ujjb3q/my_paypal/blame/branch/dev/my_paypal_project.ipynb">Blame</a>
					
					<a class="ui button" href="/my_paypal_179910_ujjb3q/my_paypal/commits/branch/dev/my_paypal_project.ipynb">History</a>
				</div>
				
					
						<a href="/my_paypal_179910_ujjb3q/my_paypal/_edit/dev/my_paypal_project.ipynb"><span class="btn-octicon poping up"  data-content="Edit File" data-position="bottom center" data-variation="tiny inverted"><svg viewBox="0 0 16 16" class="svg octicon-pencil" width="16" height="16" aria-hidden="true"><path fill-rule="evenodd" d="M11.013 1.427a1.75 1.75 0 012.474 0l1.086 1.086a1.75 1.75 0 010 2.474l-8.61 8.61c-.21.21-.47.364-.756.445l-3.251.93a.75.75 0 01-.927-.928l.929-3.25a1.75 1.75 0 01.445-.758l8.61-8.61zm1.414 1.06a.25.25 0 00-.354 0L10.811 3.75l1.439 1.44 1.263-1.263a.25.25 0 000-.354l-1.086-1.086zM11.189 6.25L9.75 4.81l-6.286 6.287a.25.25 0 00-.064.108l-.558 1.953 1.953-.558a.249.249 0 00.108-.064l6.286-6.286z"/></svg></span></a>
					
					
						<a href="/my_paypal_179910_ujjb3q/my_paypal/_delete/dev/my_paypal_project.ipynb"><span class="btn-octicon btn-octicon-danger poping up"  data-content="Delete File" data-position="bottom center" data-variation="tiny inverted"><svg viewBox="0 0 16 16" class="svg octicon-trashcan" width="16" height="16" aria-hidden="true"><path fill-rule="evenodd" d="M6.5 1.75a.25.25 0 01.25-.25h2.5a.25.25 0 01.25.25V3h-3V1.75zm4.5 0V3h2.25a.75.75 0 010 1.5H2.75a.75.75 0 010-1.5H5V1.75C5 .784 5.784 0 6.75 0h2.5C10.216 0 11 .784 11 1.75zM4.496 6.675a.75.75 0 10-1.492.15l.66 6.6A1.75 1.75 0 005.405 15h5.19c.9 0 1.652-.681 1.741-1.576l.66-6.6a.75.75 0 00-1.492-.149l-.66 6.6a.25.25 0 01-.249.225h-5.19a.25.25 0 01-.249-.225l-.66-6.6z"/></svg></span></a>
					
				
			</div>
		</div>
		
	</h4>
	<div class="ui attached table unstackable segment">
		<div class="file-view code-view">
			
				
				<table>
					<tbody>
						
						<tr>
							<td id="L1" class="lines-num">
								<span id="L1" data-line-number="1"></span>
							</td>
							<td rel="L1" class="lines-code chroma">
								<code>{</code>
							</td>
						</tr>
						
						<tr>
							<td id="L2" class="lines-num">
								<span id="L2" data-line-number="2"></span>
							</td>
							<td rel="L2" class="lines-code chroma">
								<code>  &#34;cells&#34;: [</code>
							</td>
						</tr>
						
						<tr>
							<td id="L3" class="lines-num">
								<span id="L3" data-line-number="3"></span>
							</td>
							<td rel="L3" class="lines-code chroma">
								<code>    {</code>
							</td>
						</tr>
						
						<tr>
							<td id="L4" class="lines-num">
								<span id="L4" data-line-number="4"></span>
							</td>
							<td rel="L4" class="lines-code chroma">
								<code>      &#34;cell_type&#34;: &#34;markdown&#34;,</code>
							</td>
						</tr>
						
						<tr>
							<td id="L5" class="lines-num">
								<span id="L5" data-line-number="5"></span>
							</td>
							<td rel="L5" class="lines-code chroma">
								<code>      &#34;id&#34;: &#34;c04fb215-54c4-4159-b8ef-758f80c1034e&#34;,</code>
							</td>
						</tr>
						
						<tr>
							<td id="L6" class="lines-num">
								<span id="L6" data-line-number="6"></span>
							</td>
							<td rel="L6" class="lines-code chroma">
								<code>      &#34;metadata&#34;: {</code>
							</td>
						</tr>
						
						<tr>
							<td id="L7" class="lines-num">
								<span id="L7" data-line-number="7"></span>
							</td>
							<td rel="L7" class="lines-code chroma">
								<code>        &#34;id&#34;: &#34;c04fb215-54c4-4159-b8ef-758f80c1034e&#34;</code>
							</td>
						</tr>
						
						<tr>
							<td id="L8" class="lines-num">
								<span id="L8" data-line-number="8"></span>
							</td>
							<td rel="L8" class="lines-code chroma">
								<code>      },</code>
							</td>
						</tr>
						
						<tr>
							<td id="L9" class="lines-num">
								<span id="L9" data-line-number="9"></span>
							</td>
							<td rel="L9" class="lines-code chroma">
								<code>      &#34;source&#34;: [</code>
							</td>
						</tr>
						
						<tr>
							<td id="L10" class="lines-num">
								<span id="L10" data-line-number="10"></span>
							</td>
							<td rel="L10" class="lines-code chroma">
								<code>        &#34;## Import necessary libraries&#34;</code>
							</td>
						</tr>
						
						<tr>
							<td id="L11" class="lines-num">
								<span id="L11" data-line-number="11"></span>
							</td>
							<td rel="L11" class="lines-code chroma">
								<code>      ]</code>
							</td>
						</tr>
						
						<tr>
							<td id="L12" class="lines-num">
								<span id="L12" data-line-number="12"></span>
							</td>
							<td rel="L12" class="lines-code chroma">
								<code>    },</code>
							</td>
						</tr>
						
						<tr>
							<td id="L13" class="lines-num">
								<span id="L13" data-line-number="13"></span>
							</td>
							<td rel="L13" class="lines-code chroma">
								<code>    {</code>
							</td>
						</tr>
						
						<tr>
							<td id="L14" class="lines-num">
								<span id="L14" data-line-number="14"></span>
							</td>
							<td rel="L14" class="lines-code chroma">
								<code>      &#34;cell_type&#34;: &#34;code&#34;,</code>
							</td>
						</tr>
						
						<tr>
							<td id="L15" class="lines-num">
								<span id="L15" data-line-number="15"></span>
							</td>
							<td rel="L15" class="lines-code chroma">
								<code>      &#34;execution_count&#34;: 1,</code>
							</td>
						</tr>
						
						<tr>
							<td id="L16" class="lines-num">
								<span id="L16" data-line-number="16"></span>
							</td>
							<td rel="L16" class="lines-code chroma">
								<code>      &#34;id&#34;: &#34;73b4dcbf-7a60-4730-b4de-6c29e4e7cad9&#34;,</code>
							</td>
						</tr>
						
						<tr>
							<td id="L17" class="lines-num">
								<span id="L17" data-line-number="17"></span>
							</td>
							<td rel="L17" class="lines-code chroma">
								<code>      &#34;metadata&#34;: {</code>
							</td>
						</tr>
						
						<tr>
							<td id="L18" class="lines-num">
								<span id="L18" data-line-number="18"></span>
							</td>
							<td rel="L18" class="lines-code chroma">
								<code>        &#34;id&#34;: &#34;73b4dcbf-7a60-4730-b4de-6c29e4e7cad9&#34;</code>
							</td>
						</tr>
						
						<tr>
							<td id="L19" class="lines-num">
								<span id="L19" data-line-number="19"></span>
							</td>
							<td rel="L19" class="lines-code chroma">
								<code>      },</code>
							</td>
						</tr>
						
						<tr>
							<td id="L20" class="lines-num">
								<span id="L20" data-line-number="20"></span>
							</td>
							<td rel="L20" class="lines-code chroma">
								<code>      &#34;outputs&#34;: [],</code>
							</td>
						</tr>
						
						<tr>
							<td id="L21" class="lines-num">
								<span id="L21" data-line-number="21"></span>
							</td>
							<td rel="L21" class="lines-code chroma">
								<code>      &#34;source&#34;: [</code>
							</td>
						</tr>
						
						<tr>
							<td id="L22" class="lines-num">
								<span id="L22" data-line-number="22"></span>
							</td>
							<td rel="L22" class="lines-code chroma">
								<code>        &#34;import pandas as pd\n&#34;,</code>
							</td>
						</tr>
						
						<tr>
							<td id="L23" class="lines-num">
								<span id="L23" data-line-number="23"></span>
							</td>
							<td rel="L23" class="lines-code chroma">
								<code>        &#34;import numpy as np\n&#34;,</code>
							</td>
						</tr>
						
						<tr>
							<td id="L24" class="lines-num">
								<span id="L24" data-line-number="24"></span>
							</td>
							<td rel="L24" class="lines-code chroma">
								<code>        &#34;import matplotlib.pyplot as plt\n&#34;,</code>
							</td>
						</tr>
						
						<tr>
							<td id="L25" class="lines-num">
								<span id="L25" data-line-number="25"></span>
							</td>
							<td rel="L25" class="lines-code chroma">
								<code>        &#34;import seaborn as sns\n&#34;,</code>
							</td>
						</tr>
						
						<tr>
							<td id="L26" class="lines-num">
								<span id="L26" data-line-number="26"></span>
							</td>
							<td rel="L26" class="lines-code chroma">
								<code>        &#34;from sklearn.model_selection import train_test_split\n&#34;,</code>
							</td>
						</tr>
						
						<tr>
							<td id="L27" class="lines-num">
								<span id="L27" data-line-number="27"></span>
							</td>
							<td rel="L27" class="lines-code chroma">
								<code>        &#34;from sklearn.preprocessing import StandardScaler\n&#34;,</code>
							</td>
						</tr>
						
						<tr>
							<td id="L28" class="lines-num">
								<span id="L28" data-line-number="28"></span>
							</td>
							<td rel="L28" class="lines-code chroma">
								<code>        &#34;from sklearn.ensemble import RandomForestClassifier\n&#34;,</code>
							</td>
						</tr>
						
						<tr>
							<td id="L29" class="lines-num">
								<span id="L29" data-line-number="29"></span>
							</td>
							<td rel="L29" class="lines-code chroma">
								<code>        &#34;from sklearn.tree import DecisionTreeClassifier\n&#34;,</code>
							</td>
						</tr>
						
						<tr>
							<td id="L30" class="lines-num">
								<span id="L30" data-line-number="30"></span>
							</td>
							<td rel="L30" class="lines-code chroma">
								<code>        &#34;from sklearn.naive_bayes import GaussianNB\n&#34;,</code>
							</td>
						</tr>
						
						<tr>
							<td id="L31" class="lines-num">
								<span id="L31" data-line-number="31"></span>
							</td>
							<td rel="L31" class="lines-code chroma">
								<code>        &#34;from sklearn.linear_model import LogisticRegression\n&#34;,</code>
							</td>
						</tr>
						
						<tr>
							<td id="L32" class="lines-num">
								<span id="L32" data-line-number="32"></span>
							</td>
							<td rel="L32" class="lines-code chroma">
								<code>        &#34;from xgboost import XGBClassifier\n&#34;,</code>
							</td>
						</tr>
						
						<tr>
							<td id="L33" class="lines-num">
								<span id="L33" data-line-number="33"></span>
							</td>
							<td rel="L33" class="lines-code chroma">
								<code>        &#34;from sklearn.metrics import precision_recall_curve, auc, confusion_matrix, classification_report\n&#34;,</code>
							</td>
						</tr>
						
						<tr>
							<td id="L34" class="lines-num">
								<span id="L34" data-line-number="34"></span>
							</td>
							<td rel="L34" class="lines-code chroma">
								<code>        &#34;from imblearn.over_sampling import SMOTE&#34;</code>
							</td>
						</tr>
						
						<tr>
							<td id="L35" class="lines-num">
								<span id="L35" data-line-number="35"></span>
							</td>
							<td rel="L35" class="lines-code chroma">
								<code>      ]</code>
							</td>
						</tr>
						
						<tr>
							<td id="L36" class="lines-num">
								<span id="L36" data-line-number="36"></span>
							</td>
							<td rel="L36" class="lines-code chroma">
								<code>    },</code>
							</td>
						</tr>
						
						<tr>
							<td id="L37" class="lines-num">
								<span id="L37" data-line-number="37"></span>
							</td>
							<td rel="L37" class="lines-code chroma">
								<code>    {</code>
							</td>
						</tr>
						
						<tr>
							<td id="L38" class="lines-num">
								<span id="L38" data-line-number="38"></span>
							</td>
							<td rel="L38" class="lines-code chroma">
								<code>      &#34;cell_type&#34;: &#34;markdown&#34;,</code>
							</td>
						</tr>
						
						<tr>
							<td id="L39" class="lines-num">
								<span id="L39" data-line-number="39"></span>
							</td>
							<td rel="L39" class="lines-code chroma">
								<code>      &#34;id&#34;: &#34;6bdcb11e-aba1-4011-9dc0-82194c4d6d25&#34;,</code>
							</td>
						</tr>
						
						<tr>
							<td id="L40" class="lines-num">
								<span id="L40" data-line-number="40"></span>
							</td>
							<td rel="L40" class="lines-code chroma">
								<code>      &#34;metadata&#34;: {</code>
							</td>
						</tr>
						
						<tr>
							<td id="L41" class="lines-num">
								<span id="L41" data-line-number="41"></span>
							</td>
							<td rel="L41" class="lines-code chroma">
								<code>        &#34;id&#34;: &#34;6bdcb11e-aba1-4011-9dc0-82194c4d6d25&#34;</code>
							</td>
						</tr>
						
						<tr>
							<td id="L42" class="lines-num">
								<span id="L42" data-line-number="42"></span>
							</td>
							<td rel="L42" class="lines-code chroma">
								<code>      },</code>
							</td>
						</tr>
						
						<tr>
							<td id="L43" class="lines-num">
								<span id="L43" data-line-number="43"></span>
							</td>
							<td rel="L43" class="lines-code chroma">
								<code>      &#34;source&#34;: [</code>
							</td>
						</tr>
						
						<tr>
							<td id="L44" class="lines-num">
								<span id="L44" data-line-number="44"></span>
							</td>
							<td rel="L44" class="lines-code chroma">
								<code>        &#34;## Load and clean the datset&#34;</code>
							</td>
						</tr>
						
						<tr>
							<td id="L45" class="lines-num">
								<span id="L45" data-line-number="45"></span>
							</td>
							<td rel="L45" class="lines-code chroma">
								<code>      ]</code>
							</td>
						</tr>
						
						<tr>
							<td id="L46" class="lines-num">
								<span id="L46" data-line-number="46"></span>
							</td>
							<td rel="L46" class="lines-code chroma">
								<code>    },</code>
							</td>
						</tr>
						
						<tr>
							<td id="L47" class="lines-num">
								<span id="L47" data-line-number="47"></span>
							</td>
							<td rel="L47" class="lines-code chroma">
								<code>    {</code>
							</td>
						</tr>
						
						<tr>
							<td id="L48" class="lines-num">
								<span id="L48" data-line-number="48"></span>
							</td>
							<td rel="L48" class="lines-code chroma">
								<code>      &#34;cell_type&#34;: &#34;code&#34;,</code>
							</td>
						</tr>
						
						<tr>
							<td id="L49" class="lines-num">
								<span id="L49" data-line-number="49"></span>
							</td>
							<td rel="L49" class="lines-code chroma">
								<code>      &#34;execution_count&#34;: 2,</code>
							</td>
						</tr>
						
						<tr>
							<td id="L50" class="lines-num">
								<span id="L50" data-line-number="50"></span>
							</td>
							<td rel="L50" class="lines-code chroma">
								<code>      &#34;id&#34;: &#34;4fdafdb0-0046-4b20-af0d-995727bc109c&#34;,</code>
							</td>
						</tr>
						
						<tr>
							<td id="L51" class="lines-num">
								<span id="L51" data-line-number="51"></span>
							</td>
							<td rel="L51" class="lines-code chroma">
								<code>      &#34;metadata&#34;: {</code>
							</td>
						</tr>
						
						<tr>
							<td id="L52" class="lines-num">
								<span id="L52" data-line-number="52"></span>
							</td>
							<td rel="L52" class="lines-code chroma">
								<code>        &#34;colab&#34;: {</code>
							</td>
						</tr>
						
						<tr>
							<td id="L53" class="lines-num">
								<span id="L53" data-line-number="53"></span>
							</td>
							<td rel="L53" class="lines-code chroma">
								<code>          &#34;base_uri&#34;: &#34;https://localhost:8080/&#34;</code>
							</td>
						</tr>
						
						<tr>
							<td id="L54" class="lines-num">
								<span id="L54" data-line-number="54"></span>
							</td>
							<td rel="L54" class="lines-code chroma">
								<code>        },</code>
							</td>
						</tr>
						
						<tr>
							<td id="L55" class="lines-num">
								<span id="L55" data-line-number="55"></span>
							</td>
							<td rel="L55" class="lines-code chroma">
								<code>        &#34;id&#34;: &#34;4fdafdb0-0046-4b20-af0d-995727bc109c&#34;,</code>
							</td>
						</tr>
						
						<tr>
							<td id="L56" class="lines-num">
								<span id="L56" data-line-number="56"></span>
							</td>
							<td rel="L56" class="lines-code chroma">
								<code>        &#34;outputId&#34;: &#34;fc8c2887-bf39-4562-fbc7-c665b0da2c01&#34;</code>
							</td>
						</tr>
						
						<tr>
							<td id="L57" class="lines-num">
								<span id="L57" data-line-number="57"></span>
							</td>
							<td rel="L57" class="lines-code chroma">
								<code>      },</code>
							</td>
						</tr>
						
						<tr>
							<td id="L58" class="lines-num">
								<span id="L58" data-line-number="58"></span>
							</td>
							<td rel="L58" class="lines-code chroma">
								<code>      &#34;outputs&#34;: [</code>
							</td>
						</tr>
						
						<tr>
							<td id="L59" class="lines-num">
								<span id="L59" data-line-number="59"></span>
							</td>
							<td rel="L59" class="lines-code chroma">
								<code>        {</code>
							</td>
						</tr>
						
						<tr>
							<td id="L60" class="lines-num">
								<span id="L60" data-line-number="60"></span>
							</td>
							<td rel="L60" class="lines-code chroma">
								<code>          &#34;output_type&#34;: &#34;stream&#34;,</code>
							</td>
						</tr>
						
						<tr>
							<td id="L61" class="lines-num">
								<span id="L61" data-line-number="61"></span>
							</td>
							<td rel="L61" class="lines-code chroma">
								<code>          &#34;name&#34;: &#34;stdout&#34;,</code>
							</td>
						</tr>
						
						<tr>
							<td id="L62" class="lines-num">
								<span id="L62" data-line-number="62"></span>
							</td>
							<td rel="L62" class="lines-code chroma">
								<code>          &#34;text&#34;: [</code>
							</td>
						</tr>
						
						<tr>
							<td id="L63" class="lines-num">
								<span id="L63" data-line-number="63"></span>
							</td>
							<td rel="L63" class="lines-code chroma">
								<code>            &#34;Initial dataset shape: (284807, 31)\n&#34;,</code>
							</td>
						</tr>
						
						<tr>
							<td id="L64" class="lines-num">
								<span id="L64" data-line-number="64"></span>
							</td>
							<td rel="L64" class="lines-code chroma">
								<code>            &#34;Dataset shape after cleaning: (283726, 31)\n&#34;</code>
							</td>
						</tr>
						
						<tr>
							<td id="L65" class="lines-num">
								<span id="L65" data-line-number="65"></span>
							</td>
							<td rel="L65" class="lines-code chroma">
								<code>          ]</code>
							</td>
						</tr>
						
						<tr>
							<td id="L66" class="lines-num">
								<span id="L66" data-line-number="66"></span>
							</td>
							<td rel="L66" class="lines-code chroma">
								<code>        }</code>
							</td>
						</tr>
						
						<tr>
							<td id="L67" class="lines-num">
								<span id="L67" data-line-number="67"></span>
							</td>
							<td rel="L67" class="lines-code chroma">
								<code>      ],</code>
							</td>
						</tr>
						
						<tr>
							<td id="L68" class="lines-num">
								<span id="L68" data-line-number="68"></span>
							</td>
							<td rel="L68" class="lines-code chroma">
								<code>      &#34;source&#34;: [</code>
							</td>
						</tr>
						
						<tr>
							<td id="L69" class="lines-num">
								<span id="L69" data-line-number="69"></span>
							</td>
							<td rel="L69" class="lines-code chroma">
								<code>        &#34;np.random.seed(42)\n&#34;,</code>
							</td>
						</tr>
						
						<tr>
							<td id="L70" class="lines-num">
								<span id="L70" data-line-number="70"></span>
							</td>
							<td rel="L70" class="lines-code chroma">
								<code>        &#34;\n&#34;,</code>
							</td>
						</tr>
						
						<tr>
							<td id="L71" class="lines-num">
								<span id="L71" data-line-number="71"></span>
							</td>
							<td rel="L71" class="lines-code chroma">
								<code>        &#34;def load_and_clean_data(filepath):\n&#34;,</code>
							</td>
						</tr>
						
						<tr>
							<td id="L72" class="lines-num">
								<span id="L72" data-line-number="72"></span>
							</td>
							<td rel="L72" class="lines-code chroma">
								<code>        &#34;    df = pd.read_csv(filepath)\n&#34;,</code>
							</td>
						</tr>
						
						<tr>
							<td id="L73" class="lines-num">
								<span id="L73" data-line-number="73"></span>
							</td>
							<td rel="L73" class="lines-code chroma">
								<code>        &#34;    print(\&#34;Initial dataset shape:\&#34;, df.shape)\n&#34;,</code>
							</td>
						</tr>
						
						<tr>
							<td id="L74" class="lines-num">
								<span id="L74" data-line-number="74"></span>
							</td>
							<td rel="L74" class="lines-code chroma">
								<code>        &#34;    df = df.dropna().drop_duplicates()\n&#34;,</code>
							</td>
						</tr>
						
						<tr>
							<td id="L75" class="lines-num">
								<span id="L75" data-line-number="75"></span>
							</td>
							<td rel="L75" class="lines-code chroma">
								<code>        &#34;    print(\&#34;Dataset shape after cleaning:\&#34;, df.shape)\n&#34;,</code>
							</td>
						</tr>
						
						<tr>
							<td id="L76" class="lines-num">
								<span id="L76" data-line-number="76"></span>
							</td>
							<td rel="L76" class="lines-code chroma">
								<code>        &#34;    return df\n&#34;,</code>
							</td>
						</tr>
						
						<tr>
							<td id="L77" class="lines-num">
								<span id="L77" data-line-number="77"></span>
							</td>
							<td rel="L77" class="lines-code chroma">
								<code>        &#34;\n&#34;,</code>
							</td>
						</tr>
						
						<tr>
							<td id="L78" class="lines-num">
								<span id="L78" data-line-number="78"></span>
							</td>
							<td rel="L78" class="lines-code chroma">
								<code>        &#34;df = load_and_clean_data(\&#34;my_paypal_creditcard.csv\&#34;)&#34;</code>
							</td>
						</tr>
						
						<tr>
							<td id="L79" class="lines-num">
								<span id="L79" data-line-number="79"></span>
							</td>
							<td rel="L79" class="lines-code chroma">
								<code>      ]</code>
							</td>
						</tr>
						
						<tr>
							<td id="L80" class="lines-num">
								<span id="L80" data-line-number="80"></span>
							</td>
							<td rel="L80" class="lines-code chroma">
								<code>    },</code>
							</td>
						</tr>
						
						<tr>
							<td id="L81" class="lines-num">
								<span id="L81" data-line-number="81"></span>
							</td>
							<td rel="L81" class="lines-code chroma">
								<code>    {</code>
							</td>
						</tr>
						
						<tr>
							<td id="L82" class="lines-num">
								<span id="L82" data-line-number="82"></span>
							</td>
							<td rel="L82" class="lines-code chroma">
								<code>      &#34;cell_type&#34;: &#34;markdown&#34;,</code>
							</td>
						</tr>
						
						<tr>
							<td id="L83" class="lines-num">
								<span id="L83" data-line-number="83"></span>
							</td>
							<td rel="L83" class="lines-code chroma">
								<code>      &#34;id&#34;: &#34;8ad6caf9-a136-4466-a29e-226213d999fd&#34;,</code>
							</td>
						</tr>
						
						<tr>
							<td id="L84" class="lines-num">
								<span id="L84" data-line-number="84"></span>
							</td>
							<td rel="L84" class="lines-code chroma">
								<code>      &#34;metadata&#34;: {</code>
							</td>
						</tr>
						
						<tr>
							<td id="L85" class="lines-num">
								<span id="L85" data-line-number="85"></span>
							</td>
							<td rel="L85" class="lines-code chroma">
								<code>        &#34;id&#34;: &#34;8ad6caf9-a136-4466-a29e-226213d999fd&#34;</code>
							</td>
						</tr>
						
						<tr>
							<td id="L86" class="lines-num">
								<span id="L86" data-line-number="86"></span>
							</td>
							<td rel="L86" class="lines-code chroma">
								<code>      },</code>
							</td>
						</tr>
						
						<tr>
							<td id="L87" class="lines-num">
								<span id="L87" data-line-number="87"></span>
							</td>
							<td rel="L87" class="lines-code chroma">
								<code>      &#34;source&#34;: [</code>
							</td>
						</tr>
						
						<tr>
							<td id="L88" class="lines-num">
								<span id="L88" data-line-number="88"></span>
							</td>
							<td rel="L88" class="lines-code chroma">
								<code>        &#34;## Data Exploration&#34;</code>
							</td>
						</tr>
						
						<tr>
							<td id="L89" class="lines-num">
								<span id="L89" data-line-number="89"></span>
							</td>
							<td rel="L89" class="lines-code chroma">
								<code>      ]</code>
							</td>
						</tr>
						
						<tr>
							<td id="L90" class="lines-num">
								<span id="L90" data-line-number="90"></span>
							</td>
							<td rel="L90" class="lines-code chroma">
								<code>    },</code>
							</td>
						</tr>
						
						<tr>
							<td id="L91" class="lines-num">
								<span id="L91" data-line-number="91"></span>
							</td>
							<td rel="L91" class="lines-code chroma">
								<code>    {</code>
							</td>
						</tr>
						
						<tr>
							<td id="L92" class="lines-num">
								<span id="L92" data-line-number="92"></span>
							</td>
							<td rel="L92" class="lines-code chroma">
								<code>      &#34;cell_type&#34;: &#34;code&#34;,</code>
							</td>
						</tr>
						
						<tr>
							<td id="L93" class="lines-num">
								<span id="L93" data-line-number="93"></span>
							</td>
							<td rel="L93" class="lines-code chroma">
								<code>      &#34;execution_count&#34;: 3,</code>
							</td>
						</tr>
						
						<tr>
							<td id="L94" class="lines-num">
								<span id="L94" data-line-number="94"></span>
							</td>
							<td rel="L94" class="lines-code chroma">
								<code>      &#34;id&#34;: &#34;f7a87265-afc8-40d7-b4b5-8fa186e77c4d&#34;,</code>
							</td>
						</tr>
						
						<tr>
							<td id="L95" class="lines-num">
								<span id="L95" data-line-number="95"></span>
							</td>
							<td rel="L95" class="lines-code chroma">
								<code>      &#34;metadata&#34;: {</code>
							</td>
						</tr>
						
						<tr>
							<td id="L96" class="lines-num">
								<span id="L96" data-line-number="96"></span>
							</td>
							<td rel="L96" class="lines-code chroma">
								<code>        &#34;colab&#34;: {</code>
							</td>
						</tr>
						
						<tr>
							<td id="L97" class="lines-num">
								<span id="L97" data-line-number="97"></span>
							</td>
							<td rel="L97" class="lines-code chroma">
								<code>          &#34;base_uri&#34;: &#34;https://localhost:8080/&#34;</code>
							</td>
						</tr>
						
						<tr>
							<td id="L98" class="lines-num">
								<span id="L98" data-line-number="98"></span>
							</td>
							<td rel="L98" class="lines-code chroma">
								<code>        },</code>
							</td>
						</tr>
						
						<tr>
							<td id="L99" class="lines-num">
								<span id="L99" data-line-number="99"></span>
							</td>
							<td rel="L99" class="lines-code chroma">
								<code>        &#34;id&#34;: &#34;f7a87265-afc8-40d7-b4b5-8fa186e77c4d&#34;,</code>
							</td>
						</tr>
						
						<tr>
							<td id="L100" class="lines-num">
								<span id="L100" data-line-number="100"></span>
							</td>
							<td rel="L100" class="lines-code chroma">
								<code>        &#34;outputId&#34;: &#34;34e9ded9-b13a-4552-9577-dfdb665c17c4&#34;</code>
							</td>
						</tr>
						
						<tr>
							<td id="L101" class="lines-num">
								<span id="L101" data-line-number="101"></span>
							</td>
							<td rel="L101" class="lines-code chroma">
								<code>      },</code>
							</td>
						</tr>
						
						<tr>
							<td id="L102" class="lines-num">
								<span id="L102" data-line-number="102"></span>
							</td>
							<td rel="L102" class="lines-code chroma">
								<code>      &#34;outputs&#34;: [</code>
							</td>
						</tr>
						
						<tr>
							<td id="L103" class="lines-num">
								<span id="L103" data-line-number="103"></span>
							</td>
							<td rel="L103" class="lines-code chroma">
								<code>        {</code>
							</td>
						</tr>
						
						<tr>
							<td id="L104" class="lines-num">
								<span id="L104" data-line-number="104"></span>
							</td>
							<td rel="L104" class="lines-code chroma">
								<code>          &#34;output_type&#34;: &#34;stream&#34;,</code>
							</td>
						</tr>
						
						<tr>
							<td id="L105" class="lines-num">
								<span id="L105" data-line-number="105"></span>
							</td>
							<td rel="L105" class="lines-code chroma">
								<code>          &#34;name&#34;: &#34;stdout&#34;,</code>
							</td>
						</tr>
						
						<tr>
							<td id="L106" class="lines-num">
								<span id="L106" data-line-number="106"></span>
							</td>
							<td rel="L106" class="lines-code chroma">
								<code>          &#34;text&#34;: [</code>
							</td>
						</tr>
						
						<tr>
							<td id="L107" class="lines-num">
								<span id="L107" data-line-number="107"></span>
							</td>
							<td rel="L107" class="lines-code chroma">
								<code>            &#34;Class distribution: Class\n&#34;,</code>
							</td>
						</tr>
						
						<tr>
							<td id="L108" class="lines-num">
								<span id="L108" data-line-number="108"></span>
							</td>
							<td rel="L108" class="lines-code chroma">
								<code>            &#34;0    0.998333\n&#34;,</code>
							</td>
						</tr>
						
						<tr>
							<td id="L109" class="lines-num">
								<span id="L109" data-line-number="109"></span>
							</td>
							<td rel="L109" class="lines-code chroma">
								<code>            &#34;1    0.001667\n&#34;,</code>
							</td>
						</tr>
						
						<tr>
							<td id="L110" class="lines-num">
								<span id="L110" data-line-number="110"></span>
							</td>
							<td rel="L110" class="lines-code chroma">
								<code>            &#34;Name: proportion, dtype: float64\n&#34;,</code>
							</td>
						</tr>
						
						<tr>
							<td id="L111" class="lines-num">
								<span id="L111" data-line-number="111"></span>
							</td>
							<td rel="L111" class="lines-code chroma">
								<code>            &#34;\n&#34;,</code>
							</td>
						</tr>
						
						<tr>
							<td id="L112" class="lines-num">
								<span id="L112" data-line-number="112"></span>
							</td>
							<td rel="L112" class="lines-code chroma">
								<code>            &#34;Feature Correlations:\n&#34;,</code>
							</td>
						</tr>
						
						<tr>
							<td id="L113" class="lines-num">
								<span id="L113" data-line-number="113"></span>
							</td>
							<td rel="L113" class="lines-code chroma">
								<code>            &#34;Class     1.000000\n&#34;,</code>
							</td>
						</tr>
						
						<tr>
							<td id="L114" class="lines-num">
								<span id="L114" data-line-number="114"></span>
							</td>
							<td rel="L114" class="lines-code chroma">
								<code>            &#34;V11       0.149067\n&#34;,</code>
							</td>
						</tr>
						
						<tr>
							<td id="L115" class="lines-num">
								<span id="L115" data-line-number="115"></span>
							</td>
							<td rel="L115" class="lines-code chroma">
								<code>            &#34;V4        0.129326\n&#34;,</code>
							</td>
						</tr>
						
						<tr>
							<td id="L116" class="lines-num">
								<span id="L116" data-line-number="116"></span>
							</td>
							<td rel="L116" class="lines-code chroma">
								<code>            &#34;V2        0.084624\n&#34;,</code>
							</td>
						</tr>
						
						<tr>
							<td id="L117" class="lines-num">
								<span id="L117" data-line-number="117"></span>
							</td>
							<td rel="L117" class="lines-code chroma">
								<code>            &#34;V19       0.033631\n&#34;,</code>
							</td>
						</tr>
						
						<tr>
							<td id="L118" class="lines-num">
								<span id="L118" data-line-number="118"></span>
							</td>
							<td rel="L118" class="lines-code chroma">
								<code>            &#34;V8        0.033068\n&#34;,</code>
							</td>
						</tr>
						
						<tr>
							<td id="L119" class="lines-num">
								<span id="L119" data-line-number="119"></span>
							</td>
							<td rel="L119" class="lines-code chroma">
								<code>            &#34;V21       0.026357\n&#34;,</code>
							</td>
						</tr>
						
						<tr>
							<td id="L120" class="lines-num">
								<span id="L120" data-line-number="120"></span>
							</td>
							<td rel="L120" class="lines-code chroma">
								<code>            &#34;V27       0.021892\n&#34;,</code>
							</td>
						</tr>
						
						<tr>
							<td id="L121" class="lines-num">
								<span id="L121" data-line-number="121"></span>
							</td>
							<td rel="L121" class="lines-code chroma">
								<code>            &#34;V20       0.021486\n&#34;,</code>
							</td>
						</tr>
						
						<tr>
							<td id="L122" class="lines-num">
								<span id="L122" data-line-number="122"></span>
							</td>
							<td rel="L122" class="lines-code chroma">
								<code>            &#34;V28       0.009682\n&#34;,</code>
							</td>
						</tr>
						
						<tr>
							<td id="L123" class="lines-num">
								<span id="L123" data-line-number="123"></span>
							</td>
							<td rel="L123" class="lines-code chroma">
								<code>            &#34;Amount    0.005777\n&#34;,</code>
							</td>
						</tr>
						
						<tr>
							<td id="L124" class="lines-num">
								<span id="L124" data-line-number="124"></span>
							</td>
							<td rel="L124" class="lines-code chroma">
								<code>            &#34;V22       0.004887\n&#34;,</code>
							</td>
						</tr>
						
						<tr>
							<td id="L125" class="lines-num">
								<span id="L125" data-line-number="125"></span>
							</td>
							<td rel="L125" class="lines-code chroma">
								<code>            &#34;V26       0.004265\n&#34;,</code>
							</td>
						</tr>
						
						<tr>
							<td id="L126" class="lines-num">
								<span id="L126" data-line-number="126"></span>
							</td>
							<td rel="L126" class="lines-code chroma">
								<code>            &#34;V25       0.003202\n&#34;,</code>
							</td>
						</tr>
						
						<tr>
							<td id="L127" class="lines-num">
								<span id="L127" data-line-number="127"></span>
							</td>
							<td rel="L127" class="lines-code chroma">
								<code>            &#34;V15      -0.003300\n&#34;,</code>
							</td>
						</tr>
						
						<tr>
							<td id="L128" class="lines-num">
								<span id="L128" data-line-number="128"></span>
							</td>
							<td rel="L128" class="lines-code chroma">
								<code>            &#34;V13      -0.003897\n&#34;,</code>
							</td>
						</tr>
						
						<tr>
							<td id="L129" class="lines-num">
								<span id="L129" data-line-number="129"></span>
							</td>
							<td rel="L129" class="lines-code chroma">
								<code>            &#34;V23      -0.006333\n&#34;,</code>
							</td>
						</tr>
						
						<tr>
							<td id="L130" class="lines-num">
								<span id="L130" data-line-number="130"></span>
							</td>
							<td rel="L130" class="lines-code chroma">
								<code>            &#34;V24      -0.007210\n&#34;,</code>
							</td>
						</tr>
						
						<tr>
							<td id="L131" class="lines-num">
								<span id="L131" data-line-number="131"></span>
							</td>
							<td rel="L131" class="lines-code chroma">
								<code>            &#34;Time     -0.012359\n&#34;,</code>
							</td>
						</tr>
						
						<tr>
							<td id="L132" class="lines-num">
								<span id="L132" data-line-number="132"></span>
							</td>
							<td rel="L132" class="lines-code chroma">
								<code>            &#34;V6       -0.043915\n&#34;,</code>
							</td>
						</tr>
						
						<tr>
							<td id="L133" class="lines-num">
								<span id="L133" data-line-number="133"></span>
							</td>
							<td rel="L133" class="lines-code chroma">
								<code>            &#34;V5       -0.087812\n&#34;,</code>
							</td>
						</tr>
						
						<tr>
							<td id="L134" class="lines-num">
								<span id="L134" data-line-number="134"></span>
							</td>
							<td rel="L134" class="lines-code chroma">
								<code>            &#34;V9       -0.094021\n&#34;,</code>
							</td>
						</tr>
						
						<tr>
							<td id="L135" class="lines-num">
								<span id="L135" data-line-number="135"></span>
							</td>
							<td rel="L135" class="lines-code chroma">
								<code>            &#34;V1       -0.094486\n&#34;,</code>
							</td>
						</tr>
						
						<tr>
							<td id="L136" class="lines-num">
								<span id="L136" data-line-number="136"></span>
							</td>
							<td rel="L136" class="lines-code chroma">
								<code>            &#34;V18      -0.105340\n&#34;,</code>
							</td>
						</tr>
						
						<tr>
							<td id="L137" class="lines-num">
								<span id="L137" data-line-number="137"></span>
							</td>
							<td rel="L137" class="lines-code chroma">
								<code>            &#34;V7       -0.172347\n&#34;,</code>
							</td>
						</tr>
						
						<tr>
							<td id="L138" class="lines-num">
								<span id="L138" data-line-number="138"></span>
							</td>
							<td rel="L138" class="lines-code chroma">
								<code>            &#34;V3       -0.182322\n&#34;,</code>
							</td>
						</tr>
						
						<tr>
							<td id="L139" class="lines-num">
								<span id="L139" data-line-number="139"></span>
							</td>
							<td rel="L139" class="lines-code chroma">
								<code>            &#34;V16      -0.187186\n&#34;,</code>
							</td>
						</tr>
						
						<tr>
							<td id="L140" class="lines-num">
								<span id="L140" data-line-number="140"></span>
							</td>
							<td rel="L140" class="lines-code chroma">
								<code>            &#34;V10      -0.206971\n&#34;,</code>
							</td>
						</tr>
						
						<tr>
							<td id="L141" class="lines-num">
								<span id="L141" data-line-number="141"></span>
							</td>
							<td rel="L141" class="lines-code chroma">
								<code>            &#34;V12      -0.250711\n&#34;,</code>
							</td>
						</tr>
						
						<tr>
							<td id="L142" class="lines-num">
								<span id="L142" data-line-number="142"></span>
							</td>
							<td rel="L142" class="lines-code chroma">
								<code>            &#34;V14      -0.293375\n&#34;,</code>
							</td>
						</tr>
						
						<tr>
							<td id="L143" class="lines-num">
								<span id="L143" data-line-number="143"></span>
							</td>
							<td rel="L143" class="lines-code chroma">
								<code>            &#34;V17      -0.313498\n&#34;,</code>
							</td>
						</tr>
						
						<tr>
							<td id="L144" class="lines-num">
								<span id="L144" data-line-number="144"></span>
							</td>
							<td rel="L144" class="lines-code chroma">
								<code>            &#34;Name: Class, dtype: float64\n&#34;</code>
							</td>
						</tr>
						
						<tr>
							<td id="L145" class="lines-num">
								<span id="L145" data-line-number="145"></span>
							</td>
							<td rel="L145" class="lines-code chroma">
								<code>          ]</code>
							</td>
						</tr>
						
						<tr>
							<td id="L146" class="lines-num">
								<span id="L146" data-line-number="146"></span>
							</td>
							<td rel="L146" class="lines-code chroma">
								<code>        }</code>
							</td>
						</tr>
						
						<tr>
							<td id="L147" class="lines-num">
								<span id="L147" data-line-number="147"></span>
							</td>
							<td rel="L147" class="lines-code chroma">
								<code>      ],</code>
							</td>
						</tr>
						
						<tr>
							<td id="L148" class="lines-num">
								<span id="L148" data-line-number="148"></span>
							</td>
							<td rel="L148" class="lines-code chroma">
								<code>      &#34;source&#34;: [</code>
							</td>
						</tr>
						
						<tr>
							<td id="L149" class="lines-num">
								<span id="L149" data-line-number="149"></span>
							</td>
							<td rel="L149" class="lines-code chroma">
								<code>        &#34;def explore_data(df):\n&#34;,</code>
							</td>
						</tr>
						
						<tr>
							<td id="L150" class="lines-num">
								<span id="L150" data-line-number="150"></span>
							</td>
							<td rel="L150" class="lines-code chroma">
								<code>        &#34;    print(\&#34;Class distribution:\&#34;, df[&#39;Class&#39;].value_counts(normalize=True))\n&#34;,</code>
							</td>
						</tr>
						
						<tr>
							<td id="L151" class="lines-num">
								<span id="L151" data-line-number="151"></span>
							</td>
							<td rel="L151" class="lines-code chroma">
								<code>        &#34;    print(\&#34;\\nFeature Correlations:\&#34;)\n&#34;,</code>
							</td>
						</tr>
						
						<tr>
							<td id="L152" class="lines-num">
								<span id="L152" data-line-number="152"></span>
							</td>
							<td rel="L152" class="lines-code chroma">
								<code>        &#34;    print(df.corr()[&#39;Class&#39;].sort_values(ascending=False))\n&#34;,</code>
							</td>
						</tr>
						
						<tr>
							<td id="L153" class="lines-num">
								<span id="L153" data-line-number="153"></span>
							</td>
							<td rel="L153" class="lines-code chroma">
								<code>        &#34;\n&#34;,</code>
							</td>
						</tr>
						
						<tr>
							<td id="L154" class="lines-num">
								<span id="L154" data-line-number="154"></span>
							</td>
							<td rel="L154" class="lines-code chroma">
								<code>        &#34;explore_data(df)&#34;</code>
							</td>
						</tr>
						
						<tr>
							<td id="L155" class="lines-num">
								<span id="L155" data-line-number="155"></span>
							</td>
							<td rel="L155" class="lines-code chroma">
								<code>      ]</code>
							</td>
						</tr>
						
						<tr>
							<td id="L156" class="lines-num">
								<span id="L156" data-line-number="156"></span>
							</td>
							<td rel="L156" class="lines-code chroma">
								<code>    },</code>
							</td>
						</tr>
						
						<tr>
							<td id="L157" class="lines-num">
								<span id="L157" data-line-number="157"></span>
							</td>
							<td rel="L157" class="lines-code chroma">
								<code>    {</code>
							</td>
						</tr>
						
						<tr>
							<td id="L158" class="lines-num">
								<span id="L158" data-line-number="158"></span>
							</td>
							<td rel="L158" class="lines-code chroma">
								<code>      &#34;cell_type&#34;: &#34;markdown&#34;,</code>
							</td>
						</tr>
						
						<tr>
							<td id="L159" class="lines-num">
								<span id="L159" data-line-number="159"></span>
							</td>
							<td rel="L159" class="lines-code chroma">
								<code>      &#34;id&#34;: &#34;8b366112-90dd-4238-97eb-1433cb5355de&#34;,</code>
							</td>
						</tr>
						
						<tr>
							<td id="L160" class="lines-num">
								<span id="L160" data-line-number="160"></span>
							</td>
							<td rel="L160" class="lines-code chroma">
								<code>      &#34;metadata&#34;: {</code>
							</td>
						</tr>
						
						<tr>
							<td id="L161" class="lines-num">
								<span id="L161" data-line-number="161"></span>
							</td>
							<td rel="L161" class="lines-code chroma">
								<code>        &#34;id&#34;: &#34;8b366112-90dd-4238-97eb-1433cb5355de&#34;</code>
							</td>
						</tr>
						
						<tr>
							<td id="L162" class="lines-num">
								<span id="L162" data-line-number="162"></span>
							</td>
							<td rel="L162" class="lines-code chroma">
								<code>      },</code>
							</td>
						</tr>
						
						<tr>
							<td id="L163" class="lines-num">
								<span id="L163" data-line-number="163"></span>
							</td>
							<td rel="L163" class="lines-code chroma">
								<code>      &#34;source&#34;: [</code>
							</td>
						</tr>
						
						<tr>
							<td id="L164" class="lines-num">
								<span id="L164" data-line-number="164"></span>
							</td>
							<td rel="L164" class="lines-code chroma">
								<code>        &#34;## Data Visualization&#34;</code>
							</td>
						</tr>
						
						<tr>
							<td id="L165" class="lines-num">
								<span id="L165" data-line-number="165"></span>
							</td>
							<td rel="L165" class="lines-code chroma">
								<code>      ]</code>
							</td>
						</tr>
						
						<tr>
							<td id="L166" class="lines-num">
								<span id="L166" data-line-number="166"></span>
							</td>
							<td rel="L166" class="lines-code chroma">
								<code>    },</code>
							</td>
						</tr>
						
						<tr>
							<td id="L167" class="lines-num">
								<span id="L167" data-line-number="167"></span>
							</td>
							<td rel="L167" class="lines-code chroma">
								<code>    {</code>
							</td>
						</tr>
						
						<tr>
							<td id="L168" class="lines-num">
								<span id="L168" data-line-number="168"></span>
							</td>
							<td rel="L168" class="lines-code chroma">
								<code>      &#34;cell_type&#34;: &#34;code&#34;,</code>
							</td>
						</tr>
						
						<tr>
							<td id="L169" class="lines-num">
								<span id="L169" data-line-number="169"></span>
							</td>
							<td rel="L169" class="lines-code chroma">
								<code>      &#34;execution_count&#34;: 4,</code>
							</td>
						</tr>
						
						<tr>
							<td id="L170" class="lines-num">
								<span id="L170" data-line-number="170"></span>
							</td>
							<td rel="L170" class="lines-code chroma">
								<code>      &#34;id&#34;: &#34;f2850c63-cdd7-4fe5-8468-97f3b4892b41&#34;,</code>
							</td>
						</tr>
						
						<tr>
							<td id="L171" class="lines-num">
								<span id="L171" data-line-number="171"></span>
							</td>
							<td rel="L171" class="lines-code chroma">
								<code>      &#34;metadata&#34;: {</code>
							</td>
						</tr>
						
						<tr>
							<td id="L172" class="lines-num">
								<span id="L172" data-line-number="172"></span>
							</td>
							<td rel="L172" class="lines-code chroma">
								<code>        &#34;colab&#34;: {</code>
							</td>
						</tr>
						
						<tr>
							<td id="L173" class="lines-num">
								<span id="L173" data-line-number="173"></span>
							</td>
							<td rel="L173" class="lines-code chroma">
								<code>          &#34;base_uri&#34;: &#34;https://localhost:8080/&#34;,</code>
							</td>
						</tr>
						
						<tr>
							<td id="L174" class="lines-num">
								<span id="L174" data-line-number="174"></span>
							</td>
							<td rel="L174" class="lines-code chroma">
								<code>          &#34;height&#34;: 740</code>
							</td>
						</tr>
						
						<tr>
							<td id="L175" class="lines-num">
								<span id="L175" data-line-number="175"></span>
							</td>
							<td rel="L175" class="lines-code chroma">
								<code>        },</code>
							</td>
						</tr>
						
						<tr>
							<td id="L176" class="lines-num">
								<span id="L176" data-line-number="176"></span>
							</td>
							<td rel="L176" class="lines-code chroma">
								<code>        &#34;id&#34;: &#34;f2850c63-cdd7-4fe5-8468-97f3b4892b41&#34;,</code>
							</td>
						</tr>
						
						<tr>
							<td id="L177" class="lines-num">
								<span id="L177" data-line-number="177"></span>
							</td>
							<td rel="L177" class="lines-code chroma">
								<code>        &#34;outputId&#34;: &#34;1ffe9863-1110-4105-cdf7-2c5d9554f8ae&#34;</code>
							</td>
						</tr>
						
						<tr>
							<td id="L178" class="lines-num">
								<span id="L178" data-line-number="178"></span>
							</td>
							<td rel="L178" class="lines-code chroma">
								<code>      },</code>
							</td>
						</tr>
						
						<tr>
							<td id="L179" class="lines-num">
								<span id="L179" data-line-number="179"></span>
							</td>
							<td rel="L179" class="lines-code chroma">
								<code>      &#34;outputs&#34;: [</code>
							</td>
						</tr>
						
						<tr>
							<td id="L180" class="lines-num">
								<span id="L180" data-line-number="180"></span>
							</td>
							<td rel="L180" class="lines-code chroma">
								<code>        {</code>
							</td>
						</tr>
						
						<tr>
							<td id="L181" class="lines-num">
								<span id="L181" data-line-number="181"></span>
							</td>
							<td rel="L181" class="lines-code chroma">
								<code>          &#34;output_type&#34;: &#34;stream&#34;,</code>
							</td>
						</tr>
						
						<tr>
							<td id="L182" class="lines-num">
								<span id="L182" data-line-number="182"></span>
							</td>
							<td rel="L182" class="lines-code chroma">
								<code>          &#34;name&#34;: &#34;stderr&#34;,</code>
							</td>
						</tr>
						
						<tr>
							<td id="L183" class="lines-num">
								<span id="L183" data-line-number="183"></span>
							</td>
							<td rel="L183" class="lines-code chroma">
								<code>          &#34;text&#34;: [</code>
							</td>
						</tr>
						
						<tr>
							<td id="L184" class="lines-num">
								<span id="L184" data-line-number="184"></span>
							</td>
							<td rel="L184" class="lines-code chroma">
								<code>            &#34;&lt;ipython-input-4-d401cda29b83&gt;:22: UserWarning: Creating legend with loc=\&#34;best\&#34; can be slow with large amounts of data.\n&#34;,</code>
							</td>
						</tr>
						
						<tr>
							<td id="L185" class="lines-num">
								<span id="L185" data-line-number="185"></span>
							</td>
							<td rel="L185" class="lines-code chroma">
								<code>            &#34;  plt.tight_layout()\n&#34;</code>
							</td>
						</tr>
						
						<tr>
							<td id="L186" class="lines-num">
								<span id="L186" data-line-number="186"></span>
							</td>
							<td rel="L186" class="lines-code chroma">
								<code>          ]</code>
							</td>
						</tr>
						
						<tr>
							<td id="L187" class="lines-num">
								<span id="L187" data-line-number="187"></span>
							</td>
							<td rel="L187" class="lines-code chroma">
								<code>        },</code>
							</td>
						</tr>
						
						<tr>
							<td id="L188" class="lines-num">
								<span id="L188" data-line-number="188"></span>
							</td>
							<td rel="L188" class="lines-code chroma">
								<code>        {</code>
							</td>
						</tr>
						
						<tr>
							<td id="L189" class="lines-num">
								<span id="L189" data-line-number="189"></span>
							</td>
							<td rel="L189" class="lines-code chroma">
								<code>          &#34;output_type&#34;: &#34;display_data&#34;,</code>
							</td>
						</tr>
						
						<tr>
							<td id="L190" class="lines-num">
								<span id="L190" data-line-number="190"></span>
							</td>
							<td rel="L190" class="lines-code chroma">
								<code>          &#34;data&#34;: {</code>
							</td>
						</tr>
						
						<tr>
							<td id="L191" class="lines-num">
								<span id="L191" data-line-number="191"></span>
							</td>
							<td rel="L191" class="lines-code chroma">
								<code>            &#34;text/plain&#34;: [</code>
							</td>
						</tr>
						
						<tr>
							<td id="L192" class="lines-num">
								<span id="L192" data-line-number="192"></span>
							</td>
							<td rel="L192" class="lines-code chroma">
								<code>              &#34;&lt;Figure size 1200x1000 with 5 Axes&gt;&#34;</code>
							</td>
						</tr>
						
						<tr>
							<td id="L193" class="lines-num">
								<span id="L193" data-line-number="193"></span>
							</td>
							<td rel="L193" class="lines-code chroma">
								<code>            ],</code>
							</td>
						</tr>
						
						<tr>
							<td id="L194" class="lines-num">
								<span id="L194" data-line-number="194"></span>
							</td>
							<td rel="L194" class="lines-code chroma">
								<code>            &#34;image/png&#34;: &#34;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\n&#34;</code>
							</td>
						</tr>
						
						<tr>
							<td id="L195" class="lines-num">
								<span id="L195" data-line-number="195"></span>
							</td>
							<td rel="L195" class="lines-code chroma">
								<code>          },</code>
							</td>
						</tr>
						
						<tr>
							<td id="L196" class="lines-num">
								<span id="L196" data-line-number="196"></span>
							</td>
							<td rel="L196" class="lines-code chroma">
								<code>          &#34;metadata&#34;: {}</code>
							</td>
						</tr>
						
						<tr>
							<td id="L197" class="lines-num">
								<span id="L197" data-line-number="197"></span>
							</td>
							<td rel="L197" class="lines-code chroma">
								<code>        }</code>
							</td>
						</tr>
						
						<tr>
							<td id="L198" class="lines-num">
								<span id="L198" data-line-number="198"></span>
							</td>
							<td rel="L198" class="lines-code chroma">
								<code>      ],</code>
							</td>
						</tr>
						
						<tr>
							<td id="L199" class="lines-num">
								<span id="L199" data-line-number="199"></span>
							</td>
							<td rel="L199" class="lines-code chroma">
								<code>      &#34;source&#34;: [</code>
							</td>
						</tr>
						
						<tr>
							<td id="L200" class="lines-num">
								<span id="L200" data-line-number="200"></span>
							</td>
							<td rel="L200" class="lines-code chroma">
								<code>        &#34;def visualize_data(df):\n&#34;,</code>
							</td>
						</tr>
						
						<tr>
							<td id="L201" class="lines-num">
								<span id="L201" data-line-number="201"></span>
							</td>
							<td rel="L201" class="lines-code chroma">
								<code>        &#34;    fig, axes = plt.subplots(2, 2, figsize=(12, 10))\n&#34;,</code>
							</td>
						</tr>
						
						<tr>
							<td id="L202" class="lines-num">
								<span id="L202" data-line-number="202"></span>
							</td>
							<td rel="L202" class="lines-code chroma">
								<code>        &#34;\n&#34;,</code>
							</td>
						</tr>
						
						<tr>
							<td id="L203" class="lines-num">
								<span id="L203" data-line-number="203"></span>
							</td>
							<td rel="L203" class="lines-code chroma">
								<code>        &#34;    # Class distribution\n&#34;,</code>
							</td>
						</tr>
						
						<tr>
							<td id="L204" class="lines-num">
								<span id="L204" data-line-number="204"></span>
							</td>
							<td rel="L204" class="lines-code chroma">
								<code>        &#34;    sns.countplot(x=&#39;Class&#39;, data=df, ax=axes[0, 0])\n&#34;,</code>
							</td>
						</tr>
						
						<tr>
							<td id="L205" class="lines-num">
								<span id="L205" data-line-number="205"></span>
							</td>
							<td rel="L205" class="lines-code chroma">
								<code>        &#34;    axes[0, 0].set_title(\&#34;Class Distribution\&#34;)\n&#34;,</code>
							</td>
						</tr>
						
						<tr>
							<td id="L206" class="lines-num">
								<span id="L206" data-line-number="206"></span>
							</td>
							<td rel="L206" class="lines-code chroma">
								<code>        &#34;\n&#34;,</code>
							</td>
						</tr>
						
						<tr>
							<td id="L207" class="lines-num">
								<span id="L207" data-line-number="207"></span>
							</td>
							<td rel="L207" class="lines-code chroma">
								<code>        &#34;    # Amount by Class\n&#34;,</code>
							</td>
						</tr>
						
						<tr>
							<td id="L208" class="lines-num">
								<span id="L208" data-line-number="208"></span>
							</td>
							<td rel="L208" class="lines-code chroma">
								<code>        &#34;    sns.boxplot(x=&#39;Class&#39;, y=&#39;Amount&#39;, data=df, ax=axes[0, 1])\n&#34;,</code>
							</td>
						</tr>
						
						<tr>
							<td id="L209" class="lines-num">
								<span id="L209" data-line-number="209"></span>
							</td>
							<td rel="L209" class="lines-code chroma">
								<code>        &#34;    axes[0, 1].set_yscale(&#39;log&#39;)\n&#34;,</code>
							</td>
						</tr>
						
						<tr>
							<td id="L210" class="lines-num">
								<span id="L210" data-line-number="210"></span>
							</td>
							<td rel="L210" class="lines-code chroma">
								<code>        &#34;    axes[0, 1].set_title(\&#34;Transaction Amount by Class\&#34;)\n&#34;,</code>
							</td>
						</tr>
						
						<tr>
							<td id="L211" class="lines-num">
								<span id="L211" data-line-number="211"></span>
							</td>
							<td rel="L211" class="lines-code chroma">
								<code>        &#34;\n&#34;,</code>
							</td>
						</tr>
						
						<tr>
							<td id="L212" class="lines-num">
								<span id="L212" data-line-number="212"></span>
							</td>
							<td rel="L212" class="lines-code chroma">
								<code>        &#34;    # Correlation Heatmap\n&#34;,</code>
							</td>
						</tr>
						
						<tr>
							<td id="L213" class="lines-num">
								<span id="L213" data-line-number="213"></span>
							</td>
							<td rel="L213" class="lines-code chroma">
								<code>        &#34;    corr_matrix = df.corr()\n&#34;,</code>
							</td>
						</tr>
						
						<tr>
							<td id="L214" class="lines-num">
								<span id="L214" data-line-number="214"></span>
							</td>
							<td rel="L214" class="lines-code chroma">
								<code>        &#34;    sns.heatmap(corr_matrix, cmap=\&#34;coolwarm\&#34;, ax=axes[1, 0])\n&#34;,</code>
							</td>
						</tr>
						
						<tr>
							<td id="L215" class="lines-num">
								<span id="L215" data-line-number="215"></span>
							</td>
							<td rel="L215" class="lines-code chroma">
								<code>        &#34;    axes[1, 0].set_title(\&#34;Feature Correlations\&#34;)\n&#34;,</code>
							</td>
						</tr>
						
						<tr>
							<td id="L216" class="lines-num">
								<span id="L216" data-line-number="216"></span>
							</td>
							<td rel="L216" class="lines-code chroma">
								<code>        &#34;\n&#34;,</code>
							</td>
						</tr>
						
						<tr>
							<td id="L217" class="lines-num">
								<span id="L217" data-line-number="217"></span>
							</td>
							<td rel="L217" class="lines-code chroma">
								<code>        &#34;    # Feature Pairing\n&#34;,</code>
							</td>
						</tr>
						
						<tr>
							<td id="L218" class="lines-num">
								<span id="L218" data-line-number="218"></span>
							</td>
							<td rel="L218" class="lines-code chroma">
								<code>        &#34;    sns.scatterplot(x=&#39;Time&#39;, y=&#39;Amount&#39;, hue=&#39;Class&#39;, data=df, ax=axes[1, 1])\n&#34;,</code>
							</td>
						</tr>
						
						<tr>
							<td id="L219" class="lines-num">
								<span id="L219" data-line-number="219"></span>
							</td>
							<td rel="L219" class="lines-code chroma">
								<code>        &#34;    axes[1, 1].set_title(\&#34;Time vs Amount\&#34;)\n&#34;,</code>
							</td>
						</tr>
						
						<tr>
							<td id="L220" class="lines-num">
								<span id="L220" data-line-number="220"></span>
							</td>
							<td rel="L220" class="lines-code chroma">
								<code>        &#34;\n&#34;,</code>
							</td>
						</tr>
						
						<tr>
							<td id="L221" class="lines-num">
								<span id="L221" data-line-number="221"></span>
							</td>
							<td rel="L221" class="lines-code chroma">
								<code>        &#34;    plt.tight_layout()\n&#34;,</code>
							</td>
						</tr>
						
						<tr>
							<td id="L222" class="lines-num">
								<span id="L222" data-line-number="222"></span>
							</td>
							<td rel="L222" class="lines-code chroma">
								<code>        &#34;    plt.savefig(\&#34;data_visualization.png\&#34;)\n&#34;,</code>
							</td>
						</tr>
						
						<tr>
							<td id="L223" class="lines-num">
								<span id="L223" data-line-number="223"></span>
							</td>
							<td rel="L223" class="lines-code chroma">
								<code>        &#34;    plt.show()\n&#34;,</code>
							</td>
						</tr>
						
						<tr>
							<td id="L224" class="lines-num">
								<span id="L224" data-line-number="224"></span>
							</td>
							<td rel="L224" class="lines-code chroma">
								<code>        &#34;\n&#34;,</code>
							</td>
						</tr>
						
						<tr>
							<td id="L225" class="lines-num">
								<span id="L225" data-line-number="225"></span>
							</td>
							<td rel="L225" class="lines-code chroma">
								<code>        &#34;visualize_data(df)\n&#34;</code>
							</td>
						</tr>
						
						<tr>
							<td id="L226" class="lines-num">
								<span id="L226" data-line-number="226"></span>
							</td>
							<td rel="L226" class="lines-code chroma">
								<code>      ]</code>
							</td>
						</tr>
						
						<tr>
							<td id="L227" class="lines-num">
								<span id="L227" data-line-number="227"></span>
							</td>
							<td rel="L227" class="lines-code chroma">
								<code>    },</code>
							</td>
						</tr>
						
						<tr>
							<td id="L228" class="lines-num">
								<span id="L228" data-line-number="228"></span>
							</td>
							<td rel="L228" class="lines-code chroma">
								<code>    {</code>
							</td>
						</tr>
						
						<tr>
							<td id="L229" class="lines-num">
								<span id="L229" data-line-number="229"></span>
							</td>
							<td rel="L229" class="lines-code chroma">
								<code>      &#34;cell_type&#34;: &#34;markdown&#34;,</code>
							</td>
						</tr>
						
						<tr>
							<td id="L230" class="lines-num">
								<span id="L230" data-line-number="230"></span>
							</td>
							<td rel="L230" class="lines-code chroma">
								<code>      &#34;id&#34;: &#34;04e30880-c0d0-4db0-b595-7cd9a09cb599&#34;,</code>
							</td>
						</tr>
						
						<tr>
							<td id="L231" class="lines-num">
								<span id="L231" data-line-number="231"></span>
							</td>
							<td rel="L231" class="lines-code chroma">
								<code>      &#34;metadata&#34;: {</code>
							</td>
						</tr>
						
						<tr>
							<td id="L232" class="lines-num">
								<span id="L232" data-line-number="232"></span>
							</td>
							<td rel="L232" class="lines-code chroma">
								<code>        &#34;id&#34;: &#34;04e30880-c0d0-4db0-b595-7cd9a09cb599&#34;</code>
							</td>
						</tr>
						
						<tr>
							<td id="L233" class="lines-num">
								<span id="L233" data-line-number="233"></span>
							</td>
							<td rel="L233" class="lines-code chroma">
								<code>      },</code>
							</td>
						</tr>
						
						<tr>
							<td id="L234" class="lines-num">
								<span id="L234" data-line-number="234"></span>
							</td>
							<td rel="L234" class="lines-code chroma">
								<code>      &#34;source&#34;: [</code>
							</td>
						</tr>
						
						<tr>
							<td id="L235" class="lines-num">
								<span id="L235" data-line-number="235"></span>
							</td>
							<td rel="L235" class="lines-code chroma">
								<code>        &#34;## Machine Learning&#34;</code>
							</td>
						</tr>
						
						<tr>
							<td id="L236" class="lines-num">
								<span id="L236" data-line-number="236"></span>
							</td>
							<td rel="L236" class="lines-code chroma">
								<code>      ]</code>
							</td>
						</tr>
						
						<tr>
							<td id="L237" class="lines-num">
								<span id="L237" data-line-number="237"></span>
							</td>
							<td rel="L237" class="lines-code chroma">
								<code>    },</code>
							</td>
						</tr>
						
						<tr>
							<td id="L238" class="lines-num">
								<span id="L238" data-line-number="238"></span>
							</td>
							<td rel="L238" class="lines-code chroma">
								<code>    {</code>
							</td>
						</tr>
						
						<tr>
							<td id="L239" class="lines-num">
								<span id="L239" data-line-number="239"></span>
							</td>
							<td rel="L239" class="lines-code chroma">
								<code>      &#34;cell_type&#34;: &#34;code&#34;,</code>
							</td>
						</tr>
						
						<tr>
							<td id="L240" class="lines-num">
								<span id="L240" data-line-number="240"></span>
							</td>
							<td rel="L240" class="lines-code chroma">
								<code>      &#34;execution_count&#34;: 10,</code>
							</td>
						</tr>
						
						<tr>
							<td id="L241" class="lines-num">
								<span id="L241" data-line-number="241"></span>
							</td>
							<td rel="L241" class="lines-code chroma">
								<code>      &#34;id&#34;: &#34;3629781f-1376-4539-b7fa-7a73d8fc20e3&#34;,</code>
							</td>
						</tr>
						
						<tr>
							<td id="L242" class="lines-num">
								<span id="L242" data-line-number="242"></span>
							</td>
							<td rel="L242" class="lines-code chroma">
								<code>      &#34;metadata&#34;: {</code>
							</td>
						</tr>
						
						<tr>
							<td id="L243" class="lines-num">
								<span id="L243" data-line-number="243"></span>
							</td>
							<td rel="L243" class="lines-code chroma">
								<code>        &#34;colab&#34;: {</code>
							</td>
						</tr>
						
						<tr>
							<td id="L244" class="lines-num">
								<span id="L244" data-line-number="244"></span>
							</td>
							<td rel="L244" class="lines-code chroma">
								<code>          &#34;base_uri&#34;: &#34;https://localhost:8080/&#34;,</code>
							</td>
						</tr>
						
						<tr>
							<td id="L245" class="lines-num">
								<span id="L245" data-line-number="245"></span>
							</td>
							<td rel="L245" class="lines-code chroma">
								<code>          &#34;height&#34;: 1000</code>
							</td>
						</tr>
						
						<tr>
							<td id="L246" class="lines-num">
								<span id="L246" data-line-number="246"></span>
							</td>
							<td rel="L246" class="lines-code chroma">
								<code>        },</code>
							</td>
						</tr>
						
						<tr>
							<td id="L247" class="lines-num">
								<span id="L247" data-line-number="247"></span>
							</td>
							<td rel="L247" class="lines-code chroma">
								<code>        &#34;id&#34;: &#34;3629781f-1376-4539-b7fa-7a73d8fc20e3&#34;,</code>
							</td>
						</tr>
						
						<tr>
							<td id="L248" class="lines-num">
								<span id="L248" data-line-number="248"></span>
							</td>
							<td rel="L248" class="lines-code chroma">
								<code>        &#34;outputId&#34;: &#34;13692da9-8360-4707-972b-8c55ae13e494&#34;</code>
							</td>
						</tr>
						
						<tr>
							<td id="L249" class="lines-num">
								<span id="L249" data-line-number="249"></span>
							</td>
							<td rel="L249" class="lines-code chroma">
								<code>      },</code>
							</td>
						</tr>
						
						<tr>
							<td id="L250" class="lines-num">
								<span id="L250" data-line-number="250"></span>
							</td>
							<td rel="L250" class="lines-code chroma">
								<code>      &#34;outputs&#34;: [</code>
							</td>
						</tr>
						
						<tr>
							<td id="L251" class="lines-num">
								<span id="L251" data-line-number="251"></span>
							</td>
							<td rel="L251" class="lines-code chroma">
								<code>        {</code>
							</td>
						</tr>
						
						<tr>
							<td id="L252" class="lines-num">
								<span id="L252" data-line-number="252"></span>
							</td>
							<td rel="L252" class="lines-code chroma">
								<code>          &#34;output_type&#34;: &#34;stream&#34;,</code>
							</td>
						</tr>
						
						<tr>
							<td id="L253" class="lines-num">
								<span id="L253" data-line-number="253"></span>
							</td>
							<td rel="L253" class="lines-code chroma">
								<code>          &#34;name&#34;: &#34;stdout&#34;,</code>
							</td>
						</tr>
						
						<tr>
							<td id="L254" class="lines-num">
								<span id="L254" data-line-number="254"></span>
							</td>
							<td rel="L254" class="lines-code chroma">
								<code>          &#34;text&#34;: [</code>
							</td>
						</tr>
						
						<tr>
							<td id="L255" class="lines-num">
								<span id="L255" data-line-number="255"></span>
							</td>
							<td rel="L255" class="lines-code chroma">
								<code>            &#34;After SMOTE class distribution: Class\n&#34;,</code>
							</td>
						</tr>
						
						<tr>
							<td id="L256" class="lines-num">
								<span id="L256" data-line-number="256"></span>
							</td>
							<td rel="L256" class="lines-code chroma">
								<code>            &#34;0    226602\n&#34;,</code>
							</td>
						</tr>
						
						<tr>
							<td id="L257" class="lines-num">
								<span id="L257" data-line-number="257"></span>
							</td>
							<td rel="L257" class="lines-code chroma">
								<code>            &#34;1    226602\n&#34;,</code>
							</td>
						</tr>
						
						<tr>
							<td id="L258" class="lines-num">
								<span id="L258" data-line-number="258"></span>
							</td>
							<td rel="L258" class="lines-code chroma">
								<code>            &#34;Name: count, dtype: int64\n&#34;</code>
							</td>
						</tr>
						
						<tr>
							<td id="L259" class="lines-num">
								<span id="L259" data-line-number="259"></span>
							</td>
							<td rel="L259" class="lines-code chroma">
								<code>          ]</code>
							</td>
						</tr>
						
						<tr>
							<td id="L260" class="lines-num">
								<span id="L260" data-line-number="260"></span>
							</td>
							<td rel="L260" class="lines-code chroma">
								<code>        },</code>
							</td>
						</tr>
						
						<tr>
							<td id="L261" class="lines-num">
								<span id="L261" data-line-number="261"></span>
							</td>
							<td rel="L261" class="lines-code chroma">
								<code>        {</code>
							</td>
						</tr>
						
						<tr>
							<td id="L262" class="lines-num">
								<span id="L262" data-line-number="262"></span>
							</td>
							<td rel="L262" class="lines-code chroma">
								<code>          &#34;output_type&#34;: &#34;display_data&#34;,</code>
							</td>
						</tr>
						
						<tr>
							<td id="L263" class="lines-num">
								<span id="L263" data-line-number="263"></span>
							</td>
							<td rel="L263" class="lines-code chroma">
								<code>          &#34;data&#34;: {</code>
							</td>
						</tr>
						
						<tr>
							<td id="L264" class="lines-num">
								<span id="L264" data-line-number="264"></span>
							</td>
							<td rel="L264" class="lines-code chroma">
								<code>            &#34;text/plain&#34;: [</code>
							</td>
						</tr>
						
						<tr>
							<td id="L265" class="lines-num">
								<span id="L265" data-line-number="265"></span>
							</td>
							<td rel="L265" class="lines-code chroma">
								<code>              &#34;&lt;Figure size 600x400 with 1 Axes&gt;&#34;</code>
							</td>
						</tr>
						
						<tr>
							<td id="L266" class="lines-num">
								<span id="L266" data-line-number="266"></span>
							</td>
							<td rel="L266" class="lines-code chroma">
								<code>            ],</code>
							</td>
						</tr>
						
						<tr>
							<td id="L267" class="lines-num">
								<span id="L267" data-line-number="267"></span>
							</td>
							<td rel="L267" class="lines-code chroma">
								<code>            &#34;image/png&#34;: &#34;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\n&#34;</code>
							</td>
						</tr>
						
						<tr>
							<td id="L268" class="lines-num">
								<span id="L268" data-line-number="268"></span>
							</td>
							<td rel="L268" class="lines-code chroma">
								<code>          },</code>
							</td>
						</tr>
						
						<tr>
							<td id="L269" class="lines-num">
								<span id="L269" data-line-number="269"></span>
							</td>
							<td rel="L269" class="lines-code chroma">
								<code>          &#34;metadata&#34;: {}</code>
							</td>
						</tr>
						
						<tr>
							<td id="L270" class="lines-num">
								<span id="L270" data-line-number="270"></span>
							</td>
							<td rel="L270" class="lines-code chroma">
								<code>        },</code>
							</td>
						</tr>
						
						<tr>
							<td id="L271" class="lines-num">
								<span id="L271" data-line-number="271"></span>
							</td>
							<td rel="L271" class="lines-code chroma">
								<code>        {</code>
							</td>
						</tr>
						
						<tr>
							<td id="L272" class="lines-num">
								<span id="L272" data-line-number="272"></span>
							</td>
							<td rel="L272" class="lines-code chroma">
								<code>          &#34;output_type&#34;: &#34;stream&#34;,</code>
							</td>
						</tr>
						
						<tr>
							<td id="L273" class="lines-num">
								<span id="L273" data-line-number="273"></span>
							</td>
							<td rel="L273" class="lines-code chroma">
								<code>          &#34;name&#34;: &#34;stdout&#34;,</code>
							</td>
						</tr>
						
						<tr>
							<td id="L274" class="lines-num">
								<span id="L274" data-line-number="274"></span>
							</td>
							<td rel="L274" class="lines-code chroma">
								<code>          &#34;text&#34;: [</code>
							</td>
						</tr>
						
						<tr>
							<td id="L275" class="lines-num">
								<span id="L275" data-line-number="275"></span>
							</td>
							<td rel="L275" class="lines-code chroma">
								<code>            &#34;\n&#34;,</code>
							</td>
						</tr>
						
						<tr>
							<td id="L276" class="lines-num">
								<span id="L276" data-line-number="276"></span>
							</td>
							<td rel="L276" class="lines-code chroma">
								<code>            &#34;Decision Tree Performance:\n&#34;,</code>
							</td>
						</tr>
						
						<tr>
							<td id="L277" class="lines-num">
								<span id="L277" data-line-number="277"></span>
							</td>
							<td rel="L277" class="lines-code chroma">
								<code>            &#34;              precision    recall  f1-score   support\n&#34;,</code>
							</td>
						</tr>
						
						<tr>
							<td id="L278" class="lines-num">
								<span id="L278" data-line-number="278"></span>
							</td>
							<td rel="L278" class="lines-code chroma">
								<code>            &#34;\n&#34;,</code>
							</td>
						</tr>
						
						<tr>
							<td id="L279" class="lines-num">
								<span id="L279" data-line-number="279"></span>
							</td>
							<td rel="L279" class="lines-code chroma">
								<code>            &#34;           0       1.00      1.00      1.00     56651\n&#34;,</code>
							</td>
						</tr>
						
						<tr>
							<td id="L280" class="lines-num">
								<span id="L280" data-line-number="280"></span>
							</td>
							<td rel="L280" class="lines-code chroma">
								<code>            &#34;           1       0.43      0.72      0.54        95\n&#34;,</code>
							</td>
						</tr>
						
						<tr>
							<td id="L281" class="lines-num">
								<span id="L281" data-line-number="281"></span>
							</td>
							<td rel="L281" class="lines-code chroma">
								<code>            &#34;\n&#34;,</code>
							</td>
						</tr>
						
						<tr>
							<td id="L282" class="lines-num">
								<span id="L282" data-line-number="282"></span>
							</td>
							<td rel="L282" class="lines-code chroma">
								<code>            &#34;    accuracy                           1.00     56746\n&#34;,</code>
							</td>
						</tr>
						
						<tr>
							<td id="L283" class="lines-num">
								<span id="L283" data-line-number="283"></span>
							</td>
							<td rel="L283" class="lines-code chroma">
								<code>            &#34;   macro avg       0.71      0.86      0.77     56746\n&#34;,</code>
							</td>
						</tr>
						
						<tr>
							<td id="L284" class="lines-num">
								<span id="L284" data-line-number="284"></span>
							</td>
							<td rel="L284" class="lines-code chroma">
								<code>            &#34;weighted avg       1.00      1.00      1.00     56746\n&#34;,</code>
							</td>
						</tr>
						
						<tr>
							<td id="L285" class="lines-num">
								<span id="L285" data-line-number="285"></span>
							</td>
							<td rel="L285" class="lines-code chroma">
								<code>            &#34;\n&#34;,</code>
							</td>
						</tr>
						
						<tr>
							<td id="L286" class="lines-num">
								<span id="L286" data-line-number="286"></span>
							</td>
							<td rel="L286" class="lines-code chroma">
								<code>            &#34;\n&#34;,</code>
							</td>
						</tr>
						
						<tr>
							<td id="L287" class="lines-num">
								<span id="L287" data-line-number="287"></span>
							</td>
							<td rel="L287" class="lines-code chroma">
								<code>            &#34;Random Forest Performance:\n&#34;,</code>
							</td>
						</tr>
						
						<tr>
							<td id="L288" class="lines-num">
								<span id="L288" data-line-number="288"></span>
							</td>
							<td rel="L288" class="lines-code chroma">
								<code>            &#34;              precision    recall  f1-score   support\n&#34;,</code>
							</td>
						</tr>
						
						<tr>
							<td id="L289" class="lines-num">
								<span id="L289" data-line-number="289"></span>
							</td>
							<td rel="L289" class="lines-code chroma">
								<code>            &#34;\n&#34;,</code>
							</td>
						</tr>
						
						<tr>
							<td id="L290" class="lines-num">
								<span id="L290" data-line-number="290"></span>
							</td>
							<td rel="L290" class="lines-code chroma">
								<code>            &#34;           0       1.00      1.00      1.00     56651\n&#34;,</code>
							</td>
						</tr>
						
						<tr>
							<td id="L291" class="lines-num">
								<span id="L291" data-line-number="291"></span>
							</td>
							<td rel="L291" class="lines-code chroma">
								<code>            &#34;           1       0.91      0.76      0.83        95\n&#34;,</code>
							</td>
						</tr>
						
						<tr>
							<td id="L292" class="lines-num">
								<span id="L292" data-line-number="292"></span>
							</td>
							<td rel="L292" class="lines-code chroma">
								<code>            &#34;\n&#34;,</code>
							</td>
						</tr>
						
						<tr>
							<td id="L293" class="lines-num">
								<span id="L293" data-line-number="293"></span>
							</td>
							<td rel="L293" class="lines-code chroma">
								<code>            &#34;    accuracy                           1.00     56746\n&#34;,</code>
							</td>
						</tr>
						
						<tr>
							<td id="L294" class="lines-num">
								<span id="L294" data-line-number="294"></span>
							</td>
							<td rel="L294" class="lines-code chroma">
								<code>            &#34;   macro avg       0.96      0.88      0.91     56746\n&#34;,</code>
							</td>
						</tr>
						
						<tr>
							<td id="L295" class="lines-num">
								<span id="L295" data-line-number="295"></span>
							</td>
							<td rel="L295" class="lines-code chroma">
								<code>            &#34;weighted avg       1.00      1.00      1.00     56746\n&#34;,</code>
							</td>
						</tr>
						
						<tr>
							<td id="L296" class="lines-num">
								<span id="L296" data-line-number="296"></span>
							</td>
							<td rel="L296" class="lines-code chroma">
								<code>            &#34;\n&#34;,</code>
							</td>
						</tr>
						
						<tr>
							<td id="L297" class="lines-num">
								<span id="L297" data-line-number="297"></span>
							</td>
							<td rel="L297" class="lines-code chroma">
								<code>            &#34;\n&#34;,</code>
							</td>
						</tr>
						
						<tr>
							<td id="L298" class="lines-num">
								<span id="L298" data-line-number="298"></span>
							</td>
							<td rel="L298" class="lines-code chroma">
								<code>            &#34;Logistic Regression Performance:\n&#34;,</code>
							</td>
						</tr>
						
						<tr>
							<td id="L299" class="lines-num">
								<span id="L299" data-line-number="299"></span>
							</td>
							<td rel="L299" class="lines-code chroma">
								<code>            &#34;              precision    recall  f1-score   support\n&#34;,</code>
							</td>
						</tr>
						
						<tr>
							<td id="L300" class="lines-num">
								<span id="L300" data-line-number="300"></span>
							</td>
							<td rel="L300" class="lines-code chroma">
								<code>            &#34;\n&#34;,</code>
							</td>
						</tr>
						
						<tr>
							<td id="L301" class="lines-num">
								<span id="L301" data-line-number="301"></span>
							</td>
							<td rel="L301" class="lines-code chroma">
								<code>            &#34;           0       1.00      0.97      0.99     56651\n&#34;,</code>
							</td>
						</tr>
						
						<tr>
							<td id="L302" class="lines-num">
								<span id="L302" data-line-number="302"></span>
							</td>
							<td rel="L302" class="lines-code chroma">
								<code>            &#34;           1       0.05      0.87      0.10        95\n&#34;,</code>
							</td>
						</tr>
						
						<tr>
							<td id="L303" class="lines-num">
								<span id="L303" data-line-number="303"></span>
							</td>
							<td rel="L303" class="lines-code chroma">
								<code>            &#34;\n&#34;,</code>
							</td>
						</tr>
						
						<tr>
							<td id="L304" class="lines-num">
								<span id="L304" data-line-number="304"></span>
							</td>
							<td rel="L304" class="lines-code chroma">
								<code>            &#34;    accuracy                           0.97     56746\n&#34;,</code>
							</td>
						</tr>
						
						<tr>
							<td id="L305" class="lines-num">
								<span id="L305" data-line-number="305"></span>
							</td>
							<td rel="L305" class="lines-code chroma">
								<code>            &#34;   macro avg       0.53      0.92      0.54     56746\n&#34;,</code>
							</td>
						</tr>
						
						<tr>
							<td id="L306" class="lines-num">
								<span id="L306" data-line-number="306"></span>
							</td>
							<td rel="L306" class="lines-code chroma">
								<code>            &#34;weighted avg       1.00      0.97      0.99     56746\n&#34;,</code>
							</td>
						</tr>
						
						<tr>
							<td id="L307" class="lines-num">
								<span id="L307" data-line-number="307"></span>
							</td>
							<td rel="L307" class="lines-code chroma">
								<code>            &#34;\n&#34;,</code>
							</td>
						</tr>
						
						<tr>
							<td id="L308" class="lines-num">
								<span id="L308" data-line-number="308"></span>
							</td>
							<td rel="L308" class="lines-code chroma">
								<code>            &#34;\n&#34;,</code>
							</td>
						</tr>
						
						<tr>
							<td id="L309" class="lines-num">
								<span id="L309" data-line-number="309"></span>
							</td>
							<td rel="L309" class="lines-code chroma">
								<code>            &#34;Gaussian NB Performance:\n&#34;,</code>
							</td>
						</tr>
						
						<tr>
							<td id="L310" class="lines-num">
								<span id="L310" data-line-number="310"></span>
							</td>
							<td rel="L310" class="lines-code chroma">
								<code>            &#34;              precision    recall  f1-score   support\n&#34;,</code>
							</td>
						</tr>
						
						<tr>
							<td id="L311" class="lines-num">
								<span id="L311" data-line-number="311"></span>
							</td>
							<td rel="L311" class="lines-code chroma">
								<code>            &#34;\n&#34;,</code>
							</td>
						</tr>
						
						<tr>
							<td id="L312" class="lines-num">
								<span id="L312" data-line-number="312"></span>
							</td>
							<td rel="L312" class="lines-code chroma">
								<code>            &#34;           0       1.00      0.98      0.99     56651\n&#34;,</code>
							</td>
						</tr>
						
						<tr>
							<td id="L313" class="lines-num">
								<span id="L313" data-line-number="313"></span>
							</td>
							<td rel="L313" class="lines-code chroma">
								<code>            &#34;           1       0.05      0.81      0.10        95\n&#34;,</code>
							</td>
						</tr>
						
						<tr>
							<td id="L314" class="lines-num">
								<span id="L314" data-line-number="314"></span>
							</td>
							<td rel="L314" class="lines-code chroma">
								<code>            &#34;\n&#34;,</code>
							</td>
						</tr>
						
						<tr>
							<td id="L315" class="lines-num">
								<span id="L315" data-line-number="315"></span>
							</td>
							<td rel="L315" class="lines-code chroma">
								<code>            &#34;    accuracy                           0.98     56746\n&#34;,</code>
							</td>
						</tr>
						
						<tr>
							<td id="L316" class="lines-num">
								<span id="L316" data-line-number="316"></span>
							</td>
							<td rel="L316" class="lines-code chroma">
								<code>            &#34;   macro avg       0.53      0.89      0.54     56746\n&#34;,</code>
							</td>
						</tr>
						
						<tr>
							<td id="L317" class="lines-num">
								<span id="L317" data-line-number="317"></span>
							</td>
							<td rel="L317" class="lines-code chroma">
								<code>            &#34;weighted avg       1.00      0.98      0.99     56746\n&#34;,</code>
							</td>
						</tr>
						
						<tr>
							<td id="L318" class="lines-num">
								<span id="L318" data-line-number="318"></span>
							</td>
							<td rel="L318" class="lines-code chroma">
								<code>            &#34;\n&#34;</code>
							</td>
						</tr>
						
						<tr>
							<td id="L319" class="lines-num">
								<span id="L319" data-line-number="319"></span>
							</td>
							<td rel="L319" class="lines-code chroma">
								<code>          ]</code>
							</td>
						</tr>
						
						<tr>
							<td id="L320" class="lines-num">
								<span id="L320" data-line-number="320"></span>
							</td>
							<td rel="L320" class="lines-code chroma">
								<code>        },</code>
							</td>
						</tr>
						
						<tr>
							<td id="L321" class="lines-num">
								<span id="L321" data-line-number="321"></span>
							</td>
							<td rel="L321" class="lines-code chroma">
								<code>        {</code>
							</td>
						</tr>
						
						<tr>
							<td id="L322" class="lines-num">
								<span id="L322" data-line-number="322"></span>
							</td>
							<td rel="L322" class="lines-code chroma">
								<code>          &#34;output_type&#34;: &#34;stream&#34;,</code>
							</td>
						</tr>
						
						<tr>
							<td id="L323" class="lines-num">
								<span id="L323" data-line-number="323"></span>
							</td>
							<td rel="L323" class="lines-code chroma">
								<code>          &#34;name&#34;: &#34;stderr&#34;,</code>
							</td>
						</tr>
						
						<tr>
							<td id="L324" class="lines-num">
								<span id="L324" data-line-number="324"></span>
							</td>
							<td rel="L324" class="lines-code chroma">
								<code>          &#34;text&#34;: [</code>
							</td>
						</tr>
						
						<tr>
							<td id="L325" class="lines-num">
								<span id="L325" data-line-number="325"></span>
							</td>
							<td rel="L325" class="lines-code chroma">
								<code>            &#34;/usr/local/lib/python3.11/dist-packages/xgboost/core.py:158: UserWarning: [10:19:41] WARNING: /workspace/src/learner.cc:740: \n&#34;,</code>
							</td>
						</tr>
						
						<tr>
							<td id="L326" class="lines-num">
								<span id="L326" data-line-number="326"></span>
							</td>
							<td rel="L326" class="lines-code chroma">
								<code>            &#34;Parameters: { \&#34;use_label_encoder\&#34; } are not used.\n&#34;,</code>
							</td>
						</tr>
						
						<tr>
							<td id="L327" class="lines-num">
								<span id="L327" data-line-number="327"></span>
							</td>
							<td rel="L327" class="lines-code chroma">
								<code>            &#34;\n&#34;,</code>
							</td>
						</tr>
						
						<tr>
							<td id="L328" class="lines-num">
								<span id="L328" data-line-number="328"></span>
							</td>
							<td rel="L328" class="lines-code chroma">
								<code>            &#34;  warnings.warn(smsg, UserWarning)\n&#34;</code>
							</td>
						</tr>
						
						<tr>
							<td id="L329" class="lines-num">
								<span id="L329" data-line-number="329"></span>
							</td>
							<td rel="L329" class="lines-code chroma">
								<code>          ]</code>
							</td>
						</tr>
						
						<tr>
							<td id="L330" class="lines-num">
								<span id="L330" data-line-number="330"></span>
							</td>
							<td rel="L330" class="lines-code chroma">
								<code>        },</code>
							</td>
						</tr>
						
						<tr>
							<td id="L331" class="lines-num">
								<span id="L331" data-line-number="331"></span>
							</td>
							<td rel="L331" class="lines-code chroma">
								<code>        {</code>
							</td>
						</tr>
						
						<tr>
							<td id="L332" class="lines-num">
								<span id="L332" data-line-number="332"></span>
							</td>
							<td rel="L332" class="lines-code chroma">
								<code>          &#34;output_type&#34;: &#34;stream&#34;,</code>
							</td>
						</tr>
						
						<tr>
							<td id="L333" class="lines-num">
								<span id="L333" data-line-number="333"></span>
							</td>
							<td rel="L333" class="lines-code chroma">
								<code>          &#34;name&#34;: &#34;stdout&#34;,</code>
							</td>
						</tr>
						
						<tr>
							<td id="L334" class="lines-num">
								<span id="L334" data-line-number="334"></span>
							</td>
							<td rel="L334" class="lines-code chroma">
								<code>          &#34;text&#34;: [</code>
							</td>
						</tr>
						
						<tr>
							<td id="L335" class="lines-num">
								<span id="L335" data-line-number="335"></span>
							</td>
							<td rel="L335" class="lines-code chroma">
								<code>            &#34;\n&#34;,</code>
							</td>
						</tr>
						
						<tr>
							<td id="L336" class="lines-num">
								<span id="L336" data-line-number="336"></span>
							</td>
							<td rel="L336" class="lines-code chroma">
								<code>            &#34;XGBoost Performance:\n&#34;,</code>
							</td>
						</tr>
						
						<tr>
							<td id="L337" class="lines-num">
								<span id="L337" data-line-number="337"></span>
							</td>
							<td rel="L337" class="lines-code chroma">
								<code>            &#34;              precision    recall  f1-score   support\n&#34;,</code>
							</td>
						</tr>
						
						<tr>
							<td id="L338" class="lines-num">
								<span id="L338" data-line-number="338"></span>
							</td>
							<td rel="L338" class="lines-code chroma">
								<code>            &#34;\n&#34;,</code>
							</td>
						</tr>
						
						<tr>
							<td id="L339" class="lines-num">
								<span id="L339" data-line-number="339"></span>
							</td>
							<td rel="L339" class="lines-code chroma">
								<code>            &#34;           0       1.00      1.00      1.00     56651\n&#34;,</code>
							</td>
						</tr>
						
						<tr>
							<td id="L340" class="lines-num">
								<span id="L340" data-line-number="340"></span>
							</td>
							<td rel="L340" class="lines-code chroma">
								<code>            &#34;           1       0.73      0.80      0.76        95\n&#34;,</code>
							</td>
						</tr>
						
						<tr>
							<td id="L341" class="lines-num">
								<span id="L341" data-line-number="341"></span>
							</td>
							<td rel="L341" class="lines-code chroma">
								<code>            &#34;\n&#34;,</code>
							</td>
						</tr>
						
						<tr>
							<td id="L342" class="lines-num">
								<span id="L342" data-line-number="342"></span>
							</td>
							<td rel="L342" class="lines-code chroma">
								<code>            &#34;    accuracy                           1.00     56746\n&#34;,</code>
							</td>
						</tr>
						
						<tr>
							<td id="L343" class="lines-num">
								<span id="L343" data-line-number="343"></span>
							</td>
							<td rel="L343" class="lines-code chroma">
								<code>            &#34;   macro avg       0.87      0.90      0.88     56746\n&#34;,</code>
							</td>
						</tr>
						
						<tr>
							<td id="L344" class="lines-num">
								<span id="L344" data-line-number="344"></span>
							</td>
							<td rel="L344" class="lines-code chroma">
								<code>            &#34;weighted avg       1.00      1.00      1.00     56746\n&#34;,</code>
							</td>
						</tr>
						
						<tr>
							<td id="L345" class="lines-num">
								<span id="L345" data-line-number="345"></span>
							</td>
							<td rel="L345" class="lines-code chroma">
								<code>            &#34;\n&#34;,</code>
							</td>
						</tr>
						
						<tr>
							<td id="L346" class="lines-num">
								<span id="L346" data-line-number="346"></span>
							</td>
							<td rel="L346" class="lines-code chroma">
								<code>            &#34;\n&#34;,</code>
							</td>
						</tr>
						
						<tr>
							<td id="L347" class="lines-num">
								<span id="L347" data-line-number="347"></span>
							</td>
							<td rel="L347" class="lines-code chroma">
								<code>            &#34;Model Performance (AUC-ROC Score):\n&#34;,</code>
							</td>
						</tr>
						
						<tr>
							<td id="L348" class="lines-num">
								<span id="L348" data-line-number="348"></span>
							</td>
							<td rel="L348" class="lines-code chroma">
								<code>            &#34;Decision Tree: 0.5720\n&#34;,</code>
							</td>
						</tr>
						
						<tr>
							<td id="L349" class="lines-num">
								<span id="L349" data-line-number="349"></span>
							</td>
							<td rel="L349" class="lines-code chroma">
								<code>            &#34;Random Forest: 0.8105\n&#34;,</code>
							</td>
						</tr>
						
						<tr>
							<td id="L350" class="lines-num">
								<span id="L350" data-line-number="350"></span>
							</td>
							<td rel="L350" class="lines-code chroma">
								<code>            &#34;Logistic Regression: 0.7150\n&#34;,</code>
							</td>
						</tr>
						
						<tr>
							<td id="L351" class="lines-num">
								<span id="L351" data-line-number="351"></span>
							</td>
							<td rel="L351" class="lines-code chroma">
								<code>            &#34;Gaussian NB: 0.4319\n&#34;,</code>
							</td>
						</tr>
						
						<tr>
							<td id="L352" class="lines-num">
								<span id="L352" data-line-number="352"></span>
							</td>
							<td rel="L352" class="lines-code chroma">
								<code>            &#34;XGBoost: 0.8140\n&#34;</code>
							</td>
						</tr>
						
						<tr>
							<td id="L353" class="lines-num">
								<span id="L353" data-line-number="353"></span>
							</td>
							<td rel="L353" class="lines-code chroma">
								<code>          ]</code>
							</td>
						</tr>
						
						<tr>
							<td id="L354" class="lines-num">
								<span id="L354" data-line-number="354"></span>
							</td>
							<td rel="L354" class="lines-code chroma">
								<code>        },</code>
							</td>
						</tr>
						
						<tr>
							<td id="L355" class="lines-num">
								<span id="L355" data-line-number="355"></span>
							</td>
							<td rel="L355" class="lines-code chroma">
								<code>        {</code>
							</td>
						</tr>
						
						<tr>
							<td id="L356" class="lines-num">
								<span id="L356" data-line-number="356"></span>
							</td>
							<td rel="L356" class="lines-code chroma">
								<code>          &#34;output_type&#34;: &#34;display_data&#34;,</code>
							</td>
						</tr>
						
						<tr>
							<td id="L357" class="lines-num">
								<span id="L357" data-line-number="357"></span>
							</td>
							<td rel="L357" class="lines-code chroma">
								<code>          &#34;data&#34;: {</code>
							</td>
						</tr>
						
						<tr>
							<td id="L358" class="lines-num">
								<span id="L358" data-line-number="358"></span>
							</td>
							<td rel="L358" class="lines-code chroma">
								<code>            &#34;text/plain&#34;: [</code>
							</td>
						</tr>
						
						<tr>
							<td id="L359" class="lines-num">
								<span id="L359" data-line-number="359"></span>
							</td>
							<td rel="L359" class="lines-code chroma">
								<code>              &#34;&lt;Figure size 600x400 with 0 Axes&gt;&#34;</code>
							</td>
						</tr>
						
						<tr>
							<td id="L360" class="lines-num">
								<span id="L360" data-line-number="360"></span>
							</td>
							<td rel="L360" class="lines-code chroma">
								<code>            ]</code>
							</td>
						</tr>
						
						<tr>
							<td id="L361" class="lines-num">
								<span id="L361" data-line-number="361"></span>
							</td>
							<td rel="L361" class="lines-code chroma">
								<code>          },</code>
							</td>
						</tr>
						
						<tr>
							<td id="L362" class="lines-num">
								<span id="L362" data-line-number="362"></span>
							</td>
							<td rel="L362" class="lines-code chroma">
								<code>          &#34;metadata&#34;: {}</code>
							</td>
						</tr>
						
						<tr>
							<td id="L363" class="lines-num">
								<span id="L363" data-line-number="363"></span>
							</td>
							<td rel="L363" class="lines-code chroma">
								<code>        }</code>
							</td>
						</tr>
						
						<tr>
							<td id="L364" class="lines-num">
								<span id="L364" data-line-number="364"></span>
							</td>
							<td rel="L364" class="lines-code chroma">
								<code>      ],</code>
							</td>
						</tr>
						
						<tr>
							<td id="L365" class="lines-num">
								<span id="L365" data-line-number="365"></span>
							</td>
							<td rel="L365" class="lines-code chroma">
								<code>      &#34;source&#34;: [</code>
							</td>
						</tr>
						
						<tr>
							<td id="L366" class="lines-num">
								<span id="L366" data-line-number="366"></span>
							</td>
							<td rel="L366" class="lines-code chroma">
								<code>        &#34;def train_models(df):\n&#34;,</code>
							</td>
						</tr>
						
						<tr>
							<td id="L367" class="lines-num">
								<span id="L367" data-line-number="367"></span>
							</td>
							<td rel="L367" class="lines-code chroma">
								<code>        &#34;    X = df.drop(&#39;Class&#39;, axis=1)\n&#34;,</code>
							</td>
						</tr>
						
						<tr>
							<td id="L368" class="lines-num">
								<span id="L368" data-line-number="368"></span>
							</td>
							<td rel="L368" class="lines-code chroma">
								<code>        &#34;    y = df[&#39;Class&#39;]\n&#34;,</code>
							</td>
						</tr>
						
						<tr>
							<td id="L369" class="lines-num">
								<span id="L369" data-line-number="369"></span>
							</td>
							<td rel="L369" class="lines-code chroma">
								<code>        &#34;    X_train, X_test, y_train, y_test = train_test_split(X, y, test_size=0.2, stratify=y, random_state=42)\n&#34;,</code>
							</td>
						</tr>
						
						<tr>
							<td id="L370" class="lines-num">
								<span id="L370" data-line-number="370"></span>
							</td>
							<td rel="L370" class="lines-code chroma">
								<code>        &#34;\n&#34;,</code>
							</td>
						</tr>
						
						<tr>
							<td id="L371" class="lines-num">
								<span id="L371" data-line-number="371"></span>
							</td>
							<td rel="L371" class="lines-code chroma">
								<code>        &#34;    # Feature Scaling\n&#34;,</code>
							</td>
						</tr>
						
						<tr>
							<td id="L372" class="lines-num">
								<span id="L372" data-line-number="372"></span>
							</td>
							<td rel="L372" class="lines-code chroma">
								<code>        &#34;    scaler = StandardScaler()\n&#34;,</code>
							</td>
						</tr>
						
						<tr>
							<td id="L373" class="lines-num">
								<span id="L373" data-line-number="373"></span>
							</td>
							<td rel="L373" class="lines-code chroma">
								<code>        &#34;    X_train[[&#39;Time&#39;, &#39;Amount&#39;]] = scaler.fit_transform(X_train[[&#39;Time&#39;, &#39;Amount&#39;]])\n&#34;,</code>
							</td>
						</tr>
						
						<tr>
							<td id="L374" class="lines-num">
								<span id="L374" data-line-number="374"></span>
							</td>
							<td rel="L374" class="lines-code chroma">
								<code>        &#34;    X_test[[&#39;Time&#39;, &#39;Amount&#39;]] = scaler.transform(X_test[[&#39;Time&#39;, &#39;Amount&#39;]])\n&#34;,</code>
							</td>
						</tr>
						
						<tr>
							<td id="L375" class="lines-num">
								<span id="L375" data-line-number="375"></span>
							</td>
							<td rel="L375" class="lines-code chroma">
								<code>        &#34;\n&#34;,</code>
							</td>
						</tr>
						
						<tr>
							<td id="L376" class="lines-num">
								<span id="L376" data-line-number="376"></span>
							</td>
							<td rel="L376" class="lines-code chroma">
								<code>        &#34;    # Handle imbalance with SMOTE\n&#34;,</code>
							</td>
						</tr>
						
						<tr>
							<td id="L377" class="lines-num">
								<span id="L377" data-line-number="377"></span>
							</td>
							<td rel="L377" class="lines-code chroma">
								<code>        &#34;    smote = SMOTE(random_state=42)\n&#34;,</code>
							</td>
						</tr>
						
						<tr>
							<td id="L378" class="lines-num">
								<span id="L378" data-line-number="378"></span>
							</td>
							<td rel="L378" class="lines-code chroma">
								<code>        &#34;    X_train_res, y_train_res = smote.fit_resample(X_train, y_train)\n&#34;,</code>
							</td>
						</tr>
						
						<tr>
							<td id="L379" class="lines-num">
								<span id="L379" data-line-number="379"></span>
							</td>
							<td rel="L379" class="lines-code chroma">
								<code>        &#34;    print(\&#34;After SMOTE class distribution:\&#34;, pd.Series(y_train_res).value_counts())\n&#34;,</code>
							</td>
						</tr>
						
						<tr>
							<td id="L380" class="lines-num">
								<span id="L380" data-line-number="380"></span>
							</td>
							<td rel="L380" class="lines-code chroma">
								<code>        &#34;\n&#34;,</code>
							</td>
						</tr>
						
						<tr>
							<td id="L381" class="lines-num">
								<span id="L381" data-line-number="381"></span>
							</td>
							<td rel="L381" class="lines-code chroma">
								<code>        &#34;    # SMOTE Visualization\n&#34;,</code>
							</td>
						</tr>
						
						<tr>
							<td id="L382" class="lines-num">
								<span id="L382" data-line-number="382"></span>
							</td>
							<td rel="L382" class="lines-code chroma">
								<code>        &#34;    plt.figure(figsize=(6, 4))\n&#34;,</code>
							</td>
						</tr>
						
						<tr>
							<td id="L383" class="lines-num">
								<span id="L383" data-line-number="383"></span>
							</td>
							<td rel="L383" class="lines-code chroma">
								<code>        &#34;    sns.countplot(x=y_train_res, hue=y_train_res, palette=\&#34;husl\&#34;, legend=False)\n&#34;,</code>
							</td>
						</tr>
						
						<tr>
							<td id="L384" class="lines-num">
								<span id="L384" data-line-number="384"></span>
							</td>
							<td rel="L384" class="lines-code chroma">
								<code>        &#34;    plt.title(\&#34;Balanced Class Distribution After SMOTE\&#34;)\n&#34;,</code>
							</td>
						</tr>
						
						<tr>
							<td id="L385" class="lines-num">
								<span id="L385" data-line-number="385"></span>
							</td>
							<td rel="L385" class="lines-code chroma">
								<code>        &#34;    plt.show()\n&#34;,</code>
							</td>
						</tr>
						
						<tr>
							<td id="L386" class="lines-num">
								<span id="L386" data-line-number="386"></span>
							</td>
							<td rel="L386" class="lines-code chroma">
								<code>        &#34;    plt.figure(figsize=(6,4))\n&#34;,</code>
							</td>
						</tr>
						
						<tr>
							<td id="L387" class="lines-num">
								<span id="L387" data-line-number="387"></span>
							</td>
							<td rel="L387" class="lines-code chroma">
								<code>        &#34;\n&#34;,</code>
							</td>
						</tr>
						
						<tr>
							<td id="L388" class="lines-num">
								<span id="L388" data-line-number="388"></span>
							</td>
							<td rel="L388" class="lines-code chroma">
								<code>        &#34;    models = {\n&#34;,</code>
							</td>
						</tr>
						
						<tr>
							<td id="L389" class="lines-num">
								<span id="L389" data-line-number="389"></span>
							</td>
							<td rel="L389" class="lines-code chroma">
								<code>        &#34;        \&#34;Decision Tree\&#34;: DecisionTreeClassifier(random_state=42),\n&#34;,</code>
							</td>
						</tr>
						
						<tr>
							<td id="L390" class="lines-num">
								<span id="L390" data-line-number="390"></span>
							</td>
							<td rel="L390" class="lines-code chroma">
								<code>        &#34;        \&#34;Random Forest\&#34;: RandomForestClassifier(n_estimators=100, random_state=42, class_weight=&#39;balanced&#39;, n_jobs=-1),\n&#34;,</code>
							</td>
						</tr>
						
						<tr>
							<td id="L391" class="lines-num">
								<span id="L391" data-line-number="391"></span>
							</td>
							<td rel="L391" class="lines-code chroma">
								<code>        &#34;        \&#34;Logistic Regression\&#34;: LogisticRegression(random_state=42),\n&#34;,</code>
							</td>
						</tr>
						
						<tr>
							<td id="L392" class="lines-num">
								<span id="L392" data-line-number="392"></span>
							</td>
							<td rel="L392" class="lines-code chroma">
								<code>        &#34;        \&#34;Gaussian NB\&#34;: GaussianNB(),\n&#34;,</code>
							</td>
						</tr>
						
						<tr>
							<td id="L393" class="lines-num">
								<span id="L393" data-line-number="393"></span>
							</td>
							<td rel="L393" class="lines-code chroma">
								<code>        &#34;        \&#34;XGBoost\&#34;: XGBClassifier(use_label_encoder=False, eval_metric=&#39;logloss&#39;)\n&#34;,</code>
							</td>
						</tr>
						
						<tr>
							<td id="L394" class="lines-num">
								<span id="L394" data-line-number="394"></span>
							</td>
							<td rel="L394" class="lines-code chroma">
								<code>        &#34;    }\n&#34;,</code>
							</td>
						</tr>
						
						<tr>
							<td id="L395" class="lines-num">
								<span id="L395" data-line-number="395"></span>
							</td>
							<td rel="L395" class="lines-code chroma">
								<code>        &#34;\n&#34;,</code>
							</td>
						</tr>
						
						<tr>
							<td id="L396" class="lines-num">
								<span id="L396" data-line-number="396"></span>
							</td>
							<td rel="L396" class="lines-code chroma">
								<code>        &#34;    results = {}\n&#34;,</code>
							</td>
						</tr>
						
						<tr>
							<td id="L397" class="lines-num">
								<span id="L397" data-line-number="397"></span>
							</td>
							<td rel="L397" class="lines-code chroma">
								<code>        &#34;    for name, model in models.items():\n&#34;,</code>
							</td>
						</tr>
						
						<tr>
							<td id="L398" class="lines-num">
								<span id="L398" data-line-number="398"></span>
							</td>
							<td rel="L398" class="lines-code chroma">
								<code>        &#34;        model.fit(X_train_res, y_train_res)\n&#34;,</code>
							</td>
						</tr>
						
						<tr>
							<td id="L399" class="lines-num">
								<span id="L399" data-line-number="399"></span>
							</td>
							<td rel="L399" class="lines-code chroma">
								<code>        &#34;        y_probs = model.predict_proba(X_test)[:, 1]\n&#34;,</code>
							</td>
						</tr>
						
						<tr>
							<td id="L400" class="lines-num">
								<span id="L400" data-line-number="400"></span>
							</td>
							<td rel="L400" class="lines-code chroma">
								<code>        &#34;        precision, recall, _ = precision_recall_curve(y_test, y_probs)\n&#34;,</code>
							</td>
						</tr>
						
						<tr>
							<td id="L401" class="lines-num">
								<span id="L401" data-line-number="401"></span>
							</td>
							<td rel="L401" class="lines-code chroma">
								<code>        &#34;        auprc = auc(recall, precision)\n&#34;,</code>
							</td>
						</tr>
						
						<tr>
							<td id="L402" class="lines-num">
								<span id="L402" data-line-number="402"></span>
							</td>
							<td rel="L402" class="lines-code chroma">
								<code>        &#34;        results[name] = auprc\n&#34;,</code>
							</td>
						</tr>
						
						<tr>
							<td id="L403" class="lines-num">
								<span id="L403" data-line-number="403"></span>
							</td>
							<td rel="L403" class="lines-code chroma">
								<code>        &#34;        print(f\&#34;\\n{name} Performance:\&#34;)\n&#34;,</code>
							</td>
						</tr>
						
						<tr>
							<td id="L404" class="lines-num">
								<span id="L404" data-line-number="404"></span>
							</td>
							<td rel="L404" class="lines-code chroma">
								<code>        &#34;        print(classification_report(y_test, model.predict(X_test)))\n&#34;,</code>
							</td>
						</tr>
						
						<tr>
							<td id="L405" class="lines-num">
								<span id="L405" data-line-number="405"></span>
							</td>
							<td rel="L405" class="lines-code chroma">
								<code>        &#34;\n&#34;,</code>
							</td>
						</tr>
						
						<tr>
							<td id="L406" class="lines-num">
								<span id="L406" data-line-number="406"></span>
							</td>
							<td rel="L406" class="lines-code chroma">
								<code>        &#34;    # Print Model Performance\n&#34;,</code>
							</td>
						</tr>
						
						<tr>
							<td id="L407" class="lines-num">
								<span id="L407" data-line-number="407"></span>
							</td>
							<td rel="L407" class="lines-code chroma">
								<code>        &#34;    print(\&#34;\\nModel Performance (AUC-ROC Score):\&#34;)\n&#34;,</code>
							</td>
						</tr>
						
						<tr>
							<td id="L408" class="lines-num">
								<span id="L408" data-line-number="408"></span>
							</td>
							<td rel="L408" class="lines-code chroma">
								<code>        &#34;    for model, score in results.items():\n&#34;,</code>
							</td>
						</tr>
						
						<tr>
							<td id="L409" class="lines-num">
								<span id="L409" data-line-number="409"></span>
							</td>
							<td rel="L409" class="lines-code chroma">
								<code>        &#34;        print(f\&#34;{model}: {score:.4f}\&#34;)\n&#34;,</code>
							</td>
						</tr>
						
						<tr>
							<td id="L410" class="lines-num">
								<span id="L410" data-line-number="410"></span>
							</td>
							<td rel="L410" class="lines-code chroma">
								<code>        &#34;\n&#34;,</code>
							</td>
						</tr>
						
						<tr>
							<td id="L411" class="lines-num">
								<span id="L411" data-line-number="411"></span>
							</td>
							<td rel="L411" class="lines-code chroma">
								<code>        &#34;    return results\n&#34;,</code>
							</td>
						</tr>
						
						<tr>
							<td id="L412" class="lines-num">
								<span id="L412" data-line-number="412"></span>
							</td>
							<td rel="L412" class="lines-code chroma">
								<code>        &#34;\n&#34;,</code>
							</td>
						</tr>
						
						<tr>
							<td id="L413" class="lines-num">
								<span id="L413" data-line-number="413"></span>
							</td>
							<td rel="L413" class="lines-code chroma">
								<code>        &#34;model_results = train_models(df)&#34;</code>
							</td>
						</tr>
						
						<tr>
							<td id="L414" class="lines-num">
								<span id="L414" data-line-number="414"></span>
							</td>
							<td rel="L414" class="lines-code chroma">
								<code>      ]</code>
							</td>
						</tr>
						
						<tr>
							<td id="L415" class="lines-num">
								<span id="L415" data-line-number="415"></span>
							</td>
							<td rel="L415" class="lines-code chroma">
								<code>    },</code>
							</td>
						</tr>
						
						<tr>
							<td id="L416" class="lines-num">
								<span id="L416" data-line-number="416"></span>
							</td>
							<td rel="L416" class="lines-code chroma">
								<code>    {</code>
							</td>
						</tr>
						
						<tr>
							<td id="L417" class="lines-num">
								<span id="L417" data-line-number="417"></span>
							</td>
							<td rel="L417" class="lines-code chroma">
								<code>      &#34;cell_type&#34;: &#34;markdown&#34;,</code>
							</td>
						</tr>
						
						<tr>
							<td id="L418" class="lines-num">
								<span id="L418" data-line-number="418"></span>
							</td>
							<td rel="L418" class="lines-code chroma">
								<code>      &#34;id&#34;: &#34;f15807eb-fbed-4b8b-9480-ba4422389bb1&#34;,</code>
							</td>
						</tr>
						
						<tr>
							<td id="L419" class="lines-num">
								<span id="L419" data-line-number="419"></span>
							</td>
							<td rel="L419" class="lines-code chroma">
								<code>      &#34;metadata&#34;: {</code>
							</td>
						</tr>
						
						<tr>
							<td id="L420" class="lines-num">
								<span id="L420" data-line-number="420"></span>
							</td>
							<td rel="L420" class="lines-code chroma">
								<code>        &#34;id&#34;: &#34;f15807eb-fbed-4b8b-9480-ba4422389bb1&#34;</code>
							</td>
						</tr>
						
						<tr>
							<td id="L421" class="lines-num">
								<span id="L421" data-line-number="421"></span>
							</td>
							<td rel="L421" class="lines-code chroma">
								<code>      },</code>
							</td>
						</tr>
						
						<tr>
							<td id="L422" class="lines-num">
								<span id="L422" data-line-number="422"></span>
							</td>
							<td rel="L422" class="lines-code chroma">
								<code>      &#34;source&#34;: [</code>
							</td>
						</tr>
						
						<tr>
							<td id="L423" class="lines-num">
								<span id="L423" data-line-number="423"></span>
							</td>
							<td rel="L423" class="lines-code chroma">
								<code>        &#34;## Model Comparison&#34;</code>
							</td>
						</tr>
						
						<tr>
							<td id="L424" class="lines-num">
								<span id="L424" data-line-number="424"></span>
							</td>
							<td rel="L424" class="lines-code chroma">
								<code>      ]</code>
							</td>
						</tr>
						
						<tr>
							<td id="L425" class="lines-num">
								<span id="L425" data-line-number="425"></span>
							</td>
							<td rel="L425" class="lines-code chroma">
								<code>    },</code>
							</td>
						</tr>
						
						<tr>
							<td id="L426" class="lines-num">
								<span id="L426" data-line-number="426"></span>
							</td>
							<td rel="L426" class="lines-code chroma">
								<code>    {</code>
							</td>
						</tr>
						
						<tr>
							<td id="L427" class="lines-num">
								<span id="L427" data-line-number="427"></span>
							</td>
							<td rel="L427" class="lines-code chroma">
								<code>      &#34;cell_type&#34;: &#34;code&#34;,</code>
							</td>
						</tr>
						
						<tr>
							<td id="L428" class="lines-num">
								<span id="L428" data-line-number="428"></span>
							</td>
							<td rel="L428" class="lines-code chroma">
								<code>      &#34;execution_count&#34;: 12,</code>
							</td>
						</tr>
						
						<tr>
							<td id="L429" class="lines-num">
								<span id="L429" data-line-number="429"></span>
							</td>
							<td rel="L429" class="lines-code chroma">
								<code>      &#34;id&#34;: &#34;7d6c787b-e740-4ca6-8976-b2501933c29c&#34;,</code>
							</td>
						</tr>
						
						<tr>
							<td id="L430" class="lines-num">
								<span id="L430" data-line-number="430"></span>
							</td>
							<td rel="L430" class="lines-code chroma">
								<code>      &#34;metadata&#34;: {</code>
							</td>
						</tr>
						
						<tr>
							<td id="L431" class="lines-num">
								<span id="L431" data-line-number="431"></span>
							</td>
							<td rel="L431" class="lines-code chroma">
								<code>        &#34;colab&#34;: {</code>
							</td>
						</tr>
						
						<tr>
							<td id="L432" class="lines-num">
								<span id="L432" data-line-number="432"></span>
							</td>
							<td rel="L432" class="lines-code chroma">
								<code>          &#34;base_uri&#34;: &#34;https://localhost:8080/&#34;,</code>
							</td>
						</tr>
						
						<tr>
							<td id="L433" class="lines-num">
								<span id="L433" data-line-number="433"></span>
							</td>
							<td rel="L433" class="lines-code chroma">
								<code>          &#34;height&#34;: 558</code>
							</td>
						</tr>
						
						<tr>
							<td id="L434" class="lines-num">
								<span id="L434" data-line-number="434"></span>
							</td>
							<td rel="L434" class="lines-code chroma">
								<code>        },</code>
							</td>
						</tr>
						
						<tr>
							<td id="L435" class="lines-num">
								<span id="L435" data-line-number="435"></span>
							</td>
							<td rel="L435" class="lines-code chroma">
								<code>        &#34;id&#34;: &#34;7d6c787b-e740-4ca6-8976-b2501933c29c&#34;,</code>
							</td>
						</tr>
						
						<tr>
							<td id="L436" class="lines-num">
								<span id="L436" data-line-number="436"></span>
							</td>
							<td rel="L436" class="lines-code chroma">
								<code>        &#34;outputId&#34;: &#34;d0992f52-9ffd-46e2-bd5e-13d471bd46b2&#34;</code>
							</td>
						</tr>
						
						<tr>
							<td id="L437" class="lines-num">
								<span id="L437" data-line-number="437"></span>
							</td>
							<td rel="L437" class="lines-code chroma">
								<code>      },</code>
							</td>
						</tr>
						
						<tr>
							<td id="L438" class="lines-num">
								<span id="L438" data-line-number="438"></span>
							</td>
							<td rel="L438" class="lines-code chroma">
								<code>      &#34;outputs&#34;: [</code>
							</td>
						</tr>
						
						<tr>
							<td id="L439" class="lines-num">
								<span id="L439" data-line-number="439"></span>
							</td>
							<td rel="L439" class="lines-code chroma">
								<code>        {</code>
							</td>
						</tr>
						
						<tr>
							<td id="L440" class="lines-num">
								<span id="L440" data-line-number="440"></span>
							</td>
							<td rel="L440" class="lines-code chroma">
								<code>          &#34;output_type&#34;: &#34;display_data&#34;,</code>
							</td>
						</tr>
						
						<tr>
							<td id="L441" class="lines-num">
								<span id="L441" data-line-number="441"></span>
							</td>
							<td rel="L441" class="lines-code chroma">
								<code>          &#34;data&#34;: {</code>
							</td>
						</tr>
						
						<tr>
							<td id="L442" class="lines-num">
								<span id="L442" data-line-number="442"></span>
							</td>
							<td rel="L442" class="lines-code chroma">
								<code>            &#34;text/plain&#34;: [</code>
							</td>
						</tr>
						
						<tr>
							<td id="L443" class="lines-num">
								<span id="L443" data-line-number="443"></span>
							</td>
							<td rel="L443" class="lines-code chroma">
								<code>              &#34;&lt;Figure size 800x500 with 1 Axes&gt;&#34;</code>
							</td>
						</tr>
						
						<tr>
							<td id="L444" class="lines-num">
								<span id="L444" data-line-number="444"></span>
							</td>
							<td rel="L444" class="lines-code chroma">
								<code>            ],</code>
							</td>
						</tr>
						
						<tr>
							<td id="L445" class="lines-num">
								<span id="L445" data-line-number="445"></span>
							</td>
							<td rel="L445" class="lines-code chroma">
								<code>            &#34;image/png&#34;: &#34;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\n&#34;</code>
							</td>
						</tr>
						
						<tr>
							<td id="L446" class="lines-num">
								<span id="L446" data-line-number="446"></span>
							</td>
							<td rel="L446" class="lines-code chroma">
								<code>          },</code>
							</td>
						</tr>
						
						<tr>
							<td id="L447" class="lines-num">
								<span id="L447" data-line-number="447"></span>
							</td>
							<td rel="L447" class="lines-code chroma">
								<code>          &#34;metadata&#34;: {}</code>
							</td>
						</tr>
						
						<tr>
							<td id="L448" class="lines-num">
								<span id="L448" data-line-number="448"></span>
							</td>
							<td rel="L448" class="lines-code chroma">
								<code>        }</code>
							</td>
						</tr>
						
						<tr>
							<td id="L449" class="lines-num">
								<span id="L449" data-line-number="449"></span>
							</td>
							<td rel="L449" class="lines-code chroma">
								<code>      ],</code>
							</td>
						</tr>
						
						<tr>
							<td id="L450" class="lines-num">
								<span id="L450" data-line-number="450"></span>
							</td>
							<td rel="L450" class="lines-code chroma">
								<code>      &#34;source&#34;: [</code>
							</td>
						</tr>
						
						<tr>
							<td id="L451" class="lines-num">
								<span id="L451" data-line-number="451"></span>
							</td>
							<td rel="L451" class="lines-code chroma">
								<code>        &#34;plt.figure(figsize=(8, 5))\n&#34;,</code>
							</td>
						</tr>
						
						<tr>
							<td id="L452" class="lines-num">
								<span id="L452" data-line-number="452"></span>
							</td>
							<td rel="L452" class="lines-code chroma">
								<code>        &#34;plt.bar(model_results.keys(), model_results.values(), color=[&#39;blue&#39;, &#39;green&#39;, &#39;red&#39;, &#39;purple&#39;, &#39;orange&#39;])\n&#34;,</code>
							</td>
						</tr>
						
						<tr>
							<td id="L453" class="lines-num">
								<span id="L453" data-line-number="453"></span>
							</td>
							<td rel="L453" class="lines-code chroma">
								<code>        &#34;plt.title(\&#34;Model Performance (AUPRC)\&#34;)\n&#34;,</code>
							</td>
						</tr>
						
						<tr>
							<td id="L454" class="lines-num">
								<span id="L454" data-line-number="454"></span>
							</td>
							<td rel="L454" class="lines-code chroma">
								<code>        &#34;plt.ylabel(\&#34;AUPRC Score\&#34;)\n&#34;,</code>
							</td>
						</tr>
						
						<tr>
							<td id="L455" class="lines-num">
								<span id="L455" data-line-number="455"></span>
							</td>
							<td rel="L455" class="lines-code chroma">
								<code>        &#34;plt.xticks(rotation=45)\n&#34;,</code>
							</td>
						</tr>
						
						<tr>
							<td id="L456" class="lines-num">
								<span id="L456" data-line-number="456"></span>
							</td>
							<td rel="L456" class="lines-code chroma">
								<code>        &#34;#plt.savefig(\&#34;model_performance.png\&#34;)\n&#34;,</code>
							</td>
						</tr>
						
						<tr>
							<td id="L457" class="lines-num">
								<span id="L457" data-line-number="457"></span>
							</td>
							<td rel="L457" class="lines-code chroma">
								<code>        &#34;plt.show()&#34;</code>
							</td>
						</tr>
						
						<tr>
							<td id="L458" class="lines-num">
								<span id="L458" data-line-number="458"></span>
							</td>
							<td rel="L458" class="lines-code chroma">
								<code>      ]</code>
							</td>
						</tr>
						
						<tr>
							<td id="L459" class="lines-num">
								<span id="L459" data-line-number="459"></span>
							</td>
							<td rel="L459" class="lines-code chroma">
								<code>    },</code>
							</td>
						</tr>
						
						<tr>
							<td id="L460" class="lines-num">
								<span id="L460" data-line-number="460"></span>
							</td>
							<td rel="L460" class="lines-code chroma">
								<code>    {</code>
							</td>
						</tr>
						
						<tr>
							<td id="L461" class="lines-num">
								<span id="L461" data-line-number="461"></span>
							</td>
							<td rel="L461" class="lines-code chroma">
								<code>      &#34;cell_type&#34;: &#34;code&#34;,</code>
							</td>
						</tr>
						
						<tr>
							<td id="L462" class="lines-num">
								<span id="L462" data-line-number="462"></span>
							</td>
							<td rel="L462" class="lines-code chroma">
								<code>      &#34;source&#34;: [],</code>
							</td>
						</tr>
						
						<tr>
							<td id="L463" class="lines-num">
								<span id="L463" data-line-number="463"></span>
							</td>
							<td rel="L463" class="lines-code chroma">
								<code>      &#34;metadata&#34;: {</code>
							</td>
						</tr>
						
						<tr>
							<td id="L464" class="lines-num">
								<span id="L464" data-line-number="464"></span>
							</td>
							<td rel="L464" class="lines-code chroma">
								<code>        &#34;id&#34;: &#34;5mGIhg3xKc01&#34;</code>
							</td>
						</tr>
						
						<tr>
							<td id="L465" class="lines-num">
								<span id="L465" data-line-number="465"></span>
							</td>
							<td rel="L465" class="lines-code chroma">
								<code>      },</code>
							</td>
						</tr>
						
						<tr>
							<td id="L466" class="lines-num">
								<span id="L466" data-line-number="466"></span>
							</td>
							<td rel="L466" class="lines-code chroma">
								<code>      &#34;id&#34;: &#34;5mGIhg3xKc01&#34;,</code>
							</td>
						</tr>
						
						<tr>
							<td id="L467" class="lines-num">
								<span id="L467" data-line-number="467"></span>
							</td>
							<td rel="L467" class="lines-code chroma">
								<code>      &#34;execution_count&#34;: null,</code>
							</td>
						</tr>
						
						<tr>
							<td id="L468" class="lines-num">
								<span id="L468" data-line-number="468"></span>
							</td>
							<td rel="L468" class="lines-code chroma">
								<code>      &#34;outputs&#34;: []</code>
							</td>
						</tr>
						
						<tr>
							<td id="L469" class="lines-num">
								<span id="L469" data-line-number="469"></span>
							</td>
							<td rel="L469" class="lines-code chroma">
								<code>    }</code>
							</td>
						</tr>
						
						<tr>
							<td id="L470" class="lines-num">
								<span id="L470" data-line-number="470"></span>
							</td>
							<td rel="L470" class="lines-code chroma">
								<code>  ],</code>
							</td>
						</tr>
						
						<tr>
							<td id="L471" class="lines-num">
								<span id="L471" data-line-number="471"></span>
							</td>
							<td rel="L471" class="lines-code chroma">
								<code>  &#34;metadata&#34;: {</code>
							</td>
						</tr>
						
						<tr>
							<td id="L472" class="lines-num">
								<span id="L472" data-line-number="472"></span>
							</td>
							<td rel="L472" class="lines-code chroma">
								<code>    &#34;kernelspec&#34;: {</code>
							</td>
						</tr>
						
						<tr>
							<td id="L473" class="lines-num">
								<span id="L473" data-line-number="473"></span>
							</td>
							<td rel="L473" class="lines-code chroma">
								<code>      &#34;display_name&#34;: &#34;Python 3 (ipykernel)&#34;,</code>
							</td>
						</tr>
						
						<tr>
							<td id="L474" class="lines-num">
								<span id="L474" data-line-number="474"></span>
							</td>
							<td rel="L474" class="lines-code chroma">
								<code>      &#34;language&#34;: &#34;python&#34;,</code>
							</td>
						</tr>
						
						<tr>
							<td id="L475" class="lines-num">
								<span id="L475" data-line-number="475"></span>
							</td>
							<td rel="L475" class="lines-code chroma">
								<code>      &#34;name&#34;: &#34;python3&#34;</code>
							</td>
						</tr>
						
						<tr>
							<td id="L476" class="lines-num">
								<span id="L476" data-line-number="476"></span>
							</td>
							<td rel="L476" class="lines-code chroma">
								<code>    },</code>
							</td>
						</tr>
						
						<tr>
							<td id="L477" class="lines-num">
								<span id="L477" data-line-number="477"></span>
							</td>
							<td rel="L477" class="lines-code chroma">
								<code>    &#34;language_info&#34;: {</code>
							</td>
						</tr>
						
						<tr>
							<td id="L478" class="lines-num">
								<span id="L478" data-line-number="478"></span>
							</td>
							<td rel="L478" class="lines-code chroma">
								<code>      &#34;codemirror_mode&#34;: {</code>
							</td>
						</tr>
						
						<tr>
							<td id="L479" class="lines-num">
								<span id="L479" data-line-number="479"></span>
							</td>
							<td rel="L479" class="lines-code chroma">
								<code>        &#34;name&#34;: &#34;ipython&#34;,</code>
							</td>
						</tr>
						
						<tr>
							<td id="L480" class="lines-num">
								<span id="L480" data-line-number="480"></span>
							</td>
							<td rel="L480" class="lines-code chroma">
								<code>        &#34;version&#34;: 3</code>
							</td>
						</tr>
						
						<tr>
							<td id="L481" class="lines-num">
								<span id="L481" data-line-number="481"></span>
							</td>
							<td rel="L481" class="lines-code chroma">
								<code>      },</code>
							</td>
						</tr>
						
						<tr>
							<td id="L482" class="lines-num">
								<span id="L482" data-line-number="482"></span>
							</td>
							<td rel="L482" class="lines-code chroma">
								<code>      &#34;file_extension&#34;: &#34;.py&#34;,</code>
							</td>
						</tr>
						
						<tr>
							<td id="L483" class="lines-num">
								<span id="L483" data-line-number="483"></span>
							</td>
							<td rel="L483" class="lines-code chroma">
								<code>      &#34;mimetype&#34;: &#34;text/x-python&#34;,</code>
							</td>
						</tr>
						
						<tr>
							<td id="L484" class="lines-num">
								<span id="L484" data-line-number="484"></span>
							</td>
							<td rel="L484" class="lines-code chroma">
								<code>      &#34;name&#34;: &#34;python&#34;,</code>
							</td>
						</tr>
						
						<tr>
							<td id="L485" class="lines-num">
								<span id="L485" data-line-number="485"></span>
							</td>
							<td rel="L485" class="lines-code chroma">
								<code>      &#34;nbconvert_exporter&#34;: &#34;python&#34;,</code>
							</td>
						</tr>
						
						<tr>
							<td id="L486" class="lines-num">
								<span id="L486" data-line-number="486"></span>
							</td>
							<td rel="L486" class="lines-code chroma">
								<code>      &#34;pygments_lexer&#34;: &#34;ipython3&#34;,</code>
							</td>
						</tr>
						
						<tr>
							<td id="L487" class="lines-num">
								<span id="L487" data-line-number="487"></span>
							</td>
							<td rel="L487" class="lines-code chroma">
								<code>      &#34;version&#34;: &#34;3.12.7&#34;</code>
							</td>
						</tr>
						
						<tr>
							<td id="L488" class="lines-num">
								<span id="L488" data-line-number="488"></span>
							</td>
							<td rel="L488" class="lines-code chroma">
								<code>    },</code>
							</td>
						</tr>
						
						<tr>
							<td id="L489" class="lines-num">
								<span id="L489" data-line-number="489"></span>
							</td>
							<td rel="L489" class="lines-code chroma">
								<code>    &#34;colab&#34;: {</code>
							</td>
						</tr>
						
						<tr>
							<td id="L490" class="lines-num">
								<span id="L490" data-line-number="490"></span>
							</td>
							<td rel="L490" class="lines-code chroma">
								<code>      &#34;provenance&#34;: []</code>
							</td>
						</tr>
						
						<tr>
							<td id="L491" class="lines-num">
								<span id="L491" data-line-number="491"></span>
							</td>
							<td rel="L491" class="lines-code chroma">
								<code>    }</code>
							</td>
						</tr>
						
						<tr>
							<td id="L492" class="lines-num">
								<span id="L492" data-line-number="492"></span>
							</td>
							<td rel="L492" class="lines-code chroma">
								<code>  },</code>
							</td>
						</tr>
						
						<tr>
							<td id="L493" class="lines-num">
								<span id="L493" data-line-number="493"></span>
							</td>
							<td rel="L493" class="lines-code chroma">
								<code>  &#34;nbformat&#34;: 4,</code>
							</td>
						</tr>
						
						<tr>
							<td id="L494" class="lines-num">
								<span id="L494" data-line-number="494"></span>
							</td>
							<td rel="L494" class="lines-code chroma">
								<code>  &#34;nbformat_minor&#34;: 5</code>
							</td>
						</tr>
						
						<tr>
							<td id="L495" class="lines-num">
								<span id="L495" data-line-number="495"></span>
							</td>
							<td rel="L495" class="lines-code chroma">
								<code>}</code>
							</td>
						</tr>
						
					</tbody>
				</table>
				
			
		</div>
	</div>
</div>

<script>
function submitDeleteForm() {
    var message = prompt("delete_confirm_message\n\ndelete_commit_summary", "Delete ''");
    if (message != null) {
        $("#delete-message").val(message);
        $("#delete-file-form").submit()
    }
}
</script>

		
	</div>
</div>


	

	</div>

	

	<footer>
	<div class="ui container">
		<div class="ui left">
			Powered by Gitea Version:  Page: <strong>280ms</strong> Template: <strong>143ms</strong>
		</div>
		<div class="ui right links">
			
			<div class="ui language bottom floating slide up dropdown link item">
				<i class="world icon"></i>
				<div class="text">English</div>
				<div class="menu language-menu">
					
						<a lang="en-US" data-url="/?lang=en-US" class="item active selected">English</a>
					
						<a lang="zh-CN" data-url="/?lang=zh-CN" class="item ">简体中文</a>
					
						<a lang="zh-HK" data-url="/?lang=zh-HK" class="item ">繁體中文（香港）</a>
					
						<a lang="zh-TW" data-url="/?lang=zh-TW" class="item ">繁體中文（台灣）</a>
					
						<a lang="de-DE" data-url="/?lang=de-DE" class="item ">Deutsch</a>
					
						<a lang="fr-FR" data-url="/?lang=fr-FR" class="item ">français</a>
					
						<a lang="nl-NL" data-url="/?lang=nl-NL" class="item ">Nederlands</a>
					
						<a lang="lv-LV" data-url="/?lang=lv-LV" class="item ">latviešu</a>
					
						<a lang="ru-RU" data-url="/?lang=ru-RU" class="item ">русский</a>
					
						<a lang="uk-UA" data-url="/?lang=uk-UA" class="item ">Українська</a>
					
						<a lang="ja-JP" data-url="/?lang=ja-JP" class="item ">日本語</a>
					
						<a lang="es-ES" data-url="/?lang=es-ES" class="item ">español</a>
					
						<a lang="pt-BR" data-url="/?lang=pt-BR" class="item ">português do Brasil</a>
					
						<a lang="pt-PT" data-url="/?lang=pt-PT" class="item ">Português de Portugal</a>
					
						<a lang="pl-PL" data-url="/?lang=pl-PL" class="item ">polski</a>
					
						<a lang="bg-BG" data-url="/?lang=bg-BG" class="item ">български</a>
					
						<a lang="it-IT" data-url="/?lang=it-IT" class="item ">italiano</a>
					
						<a lang="fi-FI" data-url="/?lang=fi-FI" class="item ">suomi</a>
					
						<a lang="tr-TR" data-url="/?lang=tr-TR" class="item ">Türkçe</a>
					
						<a lang="cs-CZ" data-url="/?lang=cs-CZ" class="item ">čeština</a>
					
						<a lang="sr-SP" data-url="/?lang=sr-SP" class="item ">српски</a>
					
						<a lang="sv-SE" data-url="/?lang=sv-SE" class="item ">svenska</a>
					
						<a lang="ko-KR" data-url="/?lang=ko-KR" class="item ">한국어</a>
					
				</div>
			</div>
			<a href="/js/licenses.txt">Licenses</a>
			<a href="/api/swagger">API</a>
			<a target="_blank" rel="noopener noreferrer" href="https://gitea.io">Website</a>
			
			<span class="version">Go1.15.2</span>
		</div>
	</div>
</footer>






	<script src="/js/index.js?v=d41d8cd98f00b204e9800998ecf8427e"></script>

</body>
</html>

