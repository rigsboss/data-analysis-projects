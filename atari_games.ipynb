<!DOCTYPE html>
<html lang="en-US" class="theme-gitea">
<head data-suburl="">
	<meta charset="utf-8">
	<meta name="viewport" content="width=device-width, initial-scale=1">
	<meta http-equiv="x-ua-compatible" content="ie=edge">
	<title>atari_games_179992_m-ux1a/atari_games - atari_games.ipynb at dev -  atari_games - git </title>
	<link rel="manifest" href="/manifest.json" crossorigin="use-credentials">
	<meta name="theme-color" content="#6cc644">
	<meta name="author" content="atari_games_179992_m-ux1a" />
	<meta name="description" content="atari_games" />
	<meta name="keywords" content="go,git,self-hosted,gitea">
	<meta name="referrer" content="no-referrer" />
	<meta name="_csrf" content="SpQuJrqHTiXgkVTKGrm2ZQ6K3Tk6MTc0NjM1ODE2MjA5ODY5MzMxNA" />
	
		<meta name="_uid" content="185696" />
	
	
	

	<script>
		window.config = {
			AppVer: '',
			AppSubUrl: '',
			StaticUrlPrefix: '',
			UseServiceWorker:  true ,
			csrf: 'SpQuJrqHTiXgkVTKGrm2ZQ6K3Tk6MTc0NjM1ODE2MjA5ODY5MzMxNA',
			HighlightJS: false,
			SimpleMDE: false,
			Tribute: false,
			U2F: false,
			Heatmap: false,
			heatmapUser: null,
			NotificationSettings: {
				MinTimeout:  10000 ,
				TimeoutStep:   10000 ,
				MaxTimeout:  60000 ,
				EventSourceUpdateTime:  10000 ,
			},
			PageIsProjects: false,
      
		};
	</script>
	<link rel="icon" href="/img/favicon.svg" type="image/svg+xml">
	<link rel="alternate icon" href="/img/favicon.png" type="image/png">
	<link rel="mask-icon" href="/img/gitea-safari.svg" color="#609926">
	<link rel="fluid-icon" href="/img/gitea-lg.png" title="git">

	<link rel="stylesheet" href="/css/index.css?v=d41d8cd98f00b204e9800998ecf8427e">
	<noscript>
		<style>
			.dropdown:hover > .menu { display: block; }
			.ui.secondary.menu .dropdown.item > .menu { margin-top: 0; }
		</style>
	</noscript>
	<style class="list-search-style"></style>

	
		<meta property="og:title" content="atari_games" />
		<meta property="og:url" content="https://git.us.qwasar.io/atari_games_179992_m-ux1a/atari_games" />
		
	
	<meta property="og:type" content="object" />
	
		<meta property="og:image" content="https://git.us.qwasar.io/user/avatar/atari_games_179992_m-ux1a/-1" />
	

<meta property="og:site_name" content="git" />

	


</head>
<body>
	

	<div class="full height">
		<noscript>This website works better with JavaScript.</noscript>

		

		
			<div class="ui top secondary stackable main menu following bar light">
				<div class="ui container" id="navbar">
	<div class="item brand" style="justify-content: space-between;">
		<a href="/">
			<img class="ui mini image" src="/img/gitea-sm.png">
		</a>
		<div class="ui basic icon button mobile-only" id="navbar-expand-toggle">
			<i class="sidebar icon"></i>
		</div>
	</div>

	
		<a class="item " href="/">Dashboard</a>
		
		<a class="item " href="/issues">Issues</a>
		
		
		<a class="item " href="/pulls">Pull Requests</a>
		
		
		<a class="item " href="/milestones">Milestones</a>
		
		<a class="item " href="/explore/repos">Explore</a>
	

	

	


	
		<div class="right stackable menu">
			<a href="/notifications" class="item poping up" data-content='Notifications' data-variation="tiny inverted">
				<span class="text">
					<span class="fitted"><svg viewBox="0 0 16 16" class="svg octicon-bell" width="16" height="16" aria-hidden="true"><path d="M8 16a2 2 0 001.985-1.75c.017-.137-.097-.25-.235-.25h-3.5c-.138 0-.252.113-.235.25A2 2 0 008 16z"/><path fill-rule="evenodd" d="M8 1.5A3.5 3.5 0 004.5 5v2.947c0 .346-.102.683-.294.97l-1.703 2.556a.018.018 0 00-.003.01l.001.006c0 .002.002.004.004.006a.017.017 0 00.006.004l.007.001h10.964l.007-.001a.016.016 0 00.006-.004.016.016 0 00.004-.006l.001-.007a.017.017 0 00-.003-.01l-1.703-2.554a1.75 1.75 0 01-.294-.97V5A3.5 3.5 0 008 1.5zM3 5a5 5 0 0110 0v2.947c0 .05.015.098.042.139l1.703 2.555A1.518 1.518 0 0113.482 13H2.518a1.518 1.518 0 01-1.263-2.36l1.703-2.554A.25.25 0 003 7.947V5z"/></svg></span>
					<span class="sr-mobile-only">Notifications</span>
					
					
					<span class="ui red label  notification_count">
						61
					</span>
				</span>
			</a>

			<div class="ui dropdown jump item poping up" data-content="Create…" data-variation="tiny inverted">
				<span class="text">
					<span class="fitted"><svg viewBox="0 0 16 16" class="svg octicon-plus" width="16" height="16" aria-hidden="true"><path fill-rule="evenodd" d="M8 2a.75.75 0 01.75.75v4.5h4.5a.75.75 0 010 1.5h-4.5v4.5a.75.75 0 01-1.5 0v-4.5h-4.5a.75.75 0 010-1.5h4.5v-4.5A.75.75 0 018 2z"/></svg></span>
					<span class="sr-mobile-only">Create…</span>
					<span class="fitted not-mobile"><svg viewBox="0 0 16 16" class="svg octicon-triangle-down" width="16" height="16" aria-hidden="true"><path d="M4.427 7.427l3.396 3.396a.25.25 0 00.354 0l3.396-3.396A.25.25 0 0011.396 7H4.604a.25.25 0 00-.177.427z"/></svg></span>
				</span>
				<div class="menu">
					<a class="item" href="/repo/create">
						<span class="fitted"><svg viewBox="0 0 16 16" class="svg octicon-plus" width="16" height="16" aria-hidden="true"><path fill-rule="evenodd" d="M8 2a.75.75 0 01.75.75v4.5h4.5a.75.75 0 010 1.5h-4.5v4.5a.75.75 0 01-1.5 0v-4.5h-4.5a.75.75 0 010-1.5h4.5v-4.5A.75.75 0 018 2z"/></svg></span> New Repository
					</a>
					<a class="item" href="/repo/migrate">
						<span class="fitted"><svg viewBox="0 0 16 16" class="svg octicon-repo-push" width="16" height="16" aria-hidden="true"><path fill-rule="evenodd" d="M1 2.5A2.5 2.5 0 013.5 0h8.75a.75.75 0 01.75.75v3.5a.75.75 0 01-1.5 0V1.5h-8a1 1 0 00-1 1v6.708A2.492 2.492 0 013.5 9h3.25a.75.75 0 010 1.5H3.5a1 1 0 100 2h5.75a.75.75 0 010 1.5H3.5A2.5 2.5 0 011 11.5v-9zm13.23 7.79a.75.75 0 001.06-1.06l-2.505-2.505a.75.75 0 00-1.06 0L9.22 9.229a.75.75 0 001.06 1.061l1.225-1.224v6.184a.75.75 0 001.5 0V9.066l1.224 1.224z"/></svg></span> New Migration
					</a>
					
					<a class="item" href="/org/create">
						<span class="fitted"><svg viewBox="0 0 16 16" class="svg octicon-organization" width="16" height="16" aria-hidden="true"><path fill-rule="evenodd" d="M1.5 14.25c0 .138.112.25.25.25H4v-1.25a.75.75 0 01.75-.75h2.5a.75.75 0 01.75.75v1.25h2.25a.25.25 0 00.25-.25V1.75a.25.25 0 00-.25-.25h-8.5a.25.25 0 00-.25.25v12.5zM1.75 16A1.75 1.75 0 010 14.25V1.75C0 .784.784 0 1.75 0h8.5C11.216 0 12 .784 12 1.75v12.5c0 .085-.006.168-.018.25h2.268a.25.25 0 00.25-.25V8.285a.25.25 0 00-.111-.208l-1.055-.703a.75.75 0 11.832-1.248l1.055.703c.487.325.779.871.779 1.456v5.965A1.75 1.75 0 0114.25 16h-3.5a.75.75 0 01-.197-.026c-.099.017-.2.026-.303.026h-3a.75.75 0 01-.75-.75V14h-1v1.25a.75.75 0 01-.75.75h-3zM3 3.75A.75.75 0 013.75 3h.5a.75.75 0 010 1.5h-.5A.75.75 0 013 3.75zM3.75 6a.75.75 0 000 1.5h.5a.75.75 0 000-1.5h-.5zM3 9.75A.75.75 0 013.75 9h.5a.75.75 0 010 1.5h-.5A.75.75 0 013 9.75zM7.75 9a.75.75 0 000 1.5h.5a.75.75 0 000-1.5h-.5zM7 6.75A.75.75 0 017.75 6h.5a.75.75 0 010 1.5h-.5A.75.75 0 017 6.75zM7.75 3a.75.75 0 000 1.5h.5a.75.75 0 000-1.5h-.5z"/></svg></span> New Organization
					</a>
					
				</div>
			</div>

			<div class="ui dropdown jump item poping up" tabindex="-1" data-content="Profile and Settings…" data-variation="tiny inverted">
				<span class="text">
					<img class="ui tiny avatar image" width="24" height="24" src="/user/avatar/mahanan_r/-1">
					<span class="sr-only">Profile and Settings…</span>
					<span class="mobile-only">mahanan_r</span>
					<span class="fitted not-mobile" tabindex="-1"><svg viewBox="0 0 16 16" class="svg octicon-triangle-down" width="16" height="16" aria-hidden="true"><path d="M4.427 7.427l3.396 3.396a.25.25 0 00.354 0l3.396-3.396A.25.25 0 0011.396 7H4.604a.25.25 0 00-.177.427z"/></svg></span>
				</span>
				<div class="menu user-menu" tabindex="-1">
					<div class="ui header">
						Signed in as <strong>mahanan_r</strong>
					</div>

					<div class="divider"></div>
					<a class="item" href="/mahanan_r">
						<svg viewBox="0 0 16 16" class="svg octicon-person" width="16" height="16" aria-hidden="true"><path fill-rule="evenodd" d="M10.5 5a2.5 2.5 0 11-5 0 2.5 2.5 0 015 0zm.061 3.073a4 4 0 10-5.123 0 6.004 6.004 0 00-3.431 5.142.75.75 0 001.498.07 4.5 4.5 0 018.99 0 .75.75 0 101.498-.07 6.005 6.005 0 00-3.432-5.142z"/></svg>
						Profile
					</a>
					<a class="item" href="/mahanan_r?tab=stars">
						<svg viewBox="0 0 16 16" class="svg octicon-star" width="16" height="16" aria-hidden="true"><path fill-rule="evenodd" d="M8 .25a.75.75 0 01.673.418l1.882 3.815 4.21.612a.75.75 0 01.416 1.279l-3.046 2.97.719 4.192a.75.75 0 01-1.088.791L8 12.347l-3.766 1.98a.75.75 0 01-1.088-.79l.72-4.194L.818 6.374a.75.75 0 01.416-1.28l4.21-.611L7.327.668A.75.75 0 018 .25zm0 2.445L6.615 5.5a.75.75 0 01-.564.41l-3.097.45 2.24 2.184a.75.75 0 01.216.664l-.528 3.084 2.769-1.456a.75.75 0 01.698 0l2.77 1.456-.53-3.084a.75.75 0 01.216-.664l2.24-2.183-3.096-.45a.75.75 0 01-.564-.41L8 2.694v.001z"/></svg>
						Starred
					</a>
					<a class=" item" href="/user/settings">
						<svg viewBox="0 0 16 16" class="svg octicon-tools" width="16" height="16" aria-hidden="true"><path fill-rule="evenodd" d="M5.433 2.304A4.494 4.494 0 003.5 6c0 1.598.832 3.002 2.09 3.802.518.328.929.923.902 1.64v.008l-.164 3.337a.75.75 0 11-1.498-.073l.163-3.33c.002-.085-.05-.216-.207-.316A5.996 5.996 0 012 6a5.994 5.994 0 012.567-4.92 1.482 1.482 0 011.673-.04c.462.296.76.827.76 1.423v2.82c0 .082.041.16.11.206l.75.51a.25.25 0 00.28 0l.75-.51A.25.25 0 009 5.282V2.463c0-.596.298-1.127.76-1.423a1.482 1.482 0 011.673.04A5.994 5.994 0 0114 6a5.996 5.996 0 01-2.786 5.068c-.157.1-.209.23-.207.315l.163 3.33a.75.75 0 11-1.498.074l-.164-3.345c-.027-.717.384-1.312.902-1.64A4.496 4.496 0 0012.5 6a4.494 4.494 0 00-1.933-3.696c-.024.017-.067.067-.067.16v2.818a1.75 1.75 0 01-.767 1.448l-.75.51a1.75 1.75 0 01-1.966 0l-.75-.51A1.75 1.75 0 015.5 5.282V2.463c0-.092-.043-.142-.067-.159zm.01-.005z"/></svg>
						Settings
					</a>
					<a class="item" target="_blank" rel="noopener noreferrer" href="https://docs.gitea.io">
						<svg viewBox="0 0 16 16" class="svg octicon-question" width="16" height="16" aria-hidden="true"><path fill-rule="evenodd" d="M8 1.5a6.5 6.5 0 100 13 6.5 6.5 0 000-13zM0 8a8 8 0 1116 0A8 8 0 010 8zm9 3a1 1 0 11-2 0 1 1 0 012 0zM6.92 6.085c.081-.16.19-.299.34-.398.145-.097.371-.187.74-.187.28 0 .553.087.738.225A.613.613 0 019 6.25c0 .177-.04.264-.077.318a.956.956 0 01-.277.245c-.076.051-.158.1-.258.161l-.007.004a7.728 7.728 0 00-.313.195 2.416 2.416 0 00-.692.661.75.75 0 001.248.832.956.956 0 01.276-.245 6.3 6.3 0 01.26-.16l.006-.004c.093-.057.204-.123.313-.195.222-.149.487-.355.692-.662.214-.32.329-.702.329-1.15 0-.76-.36-1.348-.863-1.725A2.76 2.76 0 008 4c-.631 0-1.155.16-1.572.438-.413.276-.68.638-.849.977a.75.75 0 101.342.67z"/></svg>
						Help
					</a>
					

					<div class="divider"></div>
					<a class="item link-action" href data-url="/user/logout" data-redirect="/">
						<svg viewBox="0 0 16 16" class="svg octicon-sign-out" width="16" height="16" aria-hidden="true"><path fill-rule="evenodd" d="M2 2.75C2 1.784 2.784 1 3.75 1h2.5a.75.75 0 010 1.5h-2.5a.25.25 0 00-.25.25v10.5c0 .138.112.25.25.25h2.5a.75.75 0 010 1.5h-2.5A1.75 1.75 0 012 13.25V2.75zm10.44 4.5H6.75a.75.75 0 000 1.5h5.69l-1.97 1.97a.75.75 0 101.06 1.06l3.25-3.25a.75.75 0 000-1.06l-3.25-3.25a.75.75 0 10-1.06 1.06l1.97 1.97z"/></svg>
						Sign Out
					</a>
				</div>
			</div>
		</div>
	
</div>

			</div>
		


<div class="repository file list ">
	<div class="header-wrapper">

	<div class="ui container">
		<div class="repo-header">
			<div class="ui huge breadcrumb repo-title">
				
					<div class="repo-header-icon">
	
		
			<svg viewBox="0 0 16 16" class="svg octicon-lock" width="32" height="32" aria-hidden="true"><path fill-rule="evenodd" d="M4 4v2h-.25A1.75 1.75 0 002 7.75v5.5c0 .966.784 1.75 1.75 1.75h8.5A1.75 1.75 0 0014 13.25v-5.5A1.75 1.75 0 0012.25 6H12V4a4 4 0 10-8 0zm6.5 2V4a2.5 2.5 0 00-5 0v2h5zM12 7.5h.25a.25.25 0 01.25.25v5.5a.25.25 0 01-.25.25h-8.5a.25.25 0 01-.25-.25v-5.5a.25.25 0 01.25-.25H12z"/></svg>
		
	
</div>

				
				<a href="/atari_games_179992_m-ux1a">atari_games_179992_m-ux1a</a>
				<div class="divider"> / </div>
				<a href="/atari_games_179992_m-ux1a/atari_games">atari_games</a>
				
					
						<span class="ui basic label">Private</span>
					
				
				
				
				
				
			</div>
			
				<div class="repo-buttons">
					<form method="post" action="/atari_games_179992_m-ux1a/atari_games/action/unwatch?redirect_to=%2fatari_games_179992_m-ux1a%2fatari_games%2fsrc%2fbranch%2fdev%2fatari_games.ipynb">
						<input type="hidden" name="_csrf" value="SpQuJrqHTiXgkVTKGrm2ZQ6K3Tk6MTc0NjM1ODE2MjA5ODY5MzMxNA">
						<div class="ui labeled button" tabindex="0">
							<button type="submit" class="ui compact basic button">
								<svg viewBox="0 0 16 16" class="svg octicon-eye-closed" width="16" height="16" aria-hidden="true"><path fill-rule="evenodd" d="M.143 2.31a.75.75 0 011.047-.167l14.5 10.5a.75.75 0 11-.88 1.214l-2.248-1.628C11.346 13.19 9.792 14 8 14c-1.981 0-3.67-.992-4.933-2.078C1.797 10.832.88 9.577.43 8.9a1.618 1.618 0 010-1.797c.353-.533.995-1.42 1.868-2.305L.31 3.357A.75.75 0 01.143 2.31zm3.386 3.378a14.21 14.21 0 00-1.85 2.244.12.12 0 00-.022.068c0 .021.006.045.022.068.412.621 1.242 1.75 2.366 2.717C5.175 11.758 6.527 12.5 8 12.5c1.195 0 2.31-.488 3.29-1.191L9.063 9.695A2 2 0 016.058 7.52l-2.53-1.832zM8 3.5c-.516 0-1.017.09-1.499.251a.75.75 0 11-.473-1.423A6.23 6.23 0 018 2c1.981 0 3.67.992 4.933 2.078 1.27 1.091 2.187 2.345 2.637 3.023a1.619 1.619 0 010 1.798c-.11.166-.248.365-.41.587a.75.75 0 11-1.21-.887c.148-.201.272-.382.371-.53a.119.119 0 000-.137c-.412-.621-1.242-1.75-2.366-2.717C10.825 4.242 9.473 3.5 8 3.5z"/></svg>Unwatch
							</button>
							<a class="ui basic label" href="/atari_games_179992_m-ux1a/atari_games/watchers">
								4
							</a>
						</div>
					</form>
					<form method="post" action="/atari_games_179992_m-ux1a/atari_games/action/star?redirect_to=%2fatari_games_179992_m-ux1a%2fatari_games%2fsrc%2fbranch%2fdev%2fatari_games.ipynb">
						<input type="hidden" name="_csrf" value="SpQuJrqHTiXgkVTKGrm2ZQ6K3Tk6MTc0NjM1ODE2MjA5ODY5MzMxNA">
						<div class="ui labeled button" tabindex="0">
							<button type="submit" class="ui compact basic button">
								<svg viewBox="0 0 16 16" class="svg octicon-star" width="16" height="16" aria-hidden="true"><path fill-rule="evenodd" d="M8 .25a.75.75 0 01.673.418l1.882 3.815 4.21.612a.75.75 0 01.416 1.279l-3.046 2.97.719 4.192a.75.75 0 01-1.088.791L8 12.347l-3.766 1.98a.75.75 0 01-1.088-.79l.72-4.194L.818 6.374a.75.75 0 01.416-1.28l4.21-.611L7.327.668A.75.75 0 018 .25zm0 2.445L6.615 5.5a.75.75 0 01-.564.41l-3.097.45 2.24 2.184a.75.75 0 01.216.664l-.528 3.084 2.769-1.456a.75.75 0 01.698 0l2.77 1.456-.53-3.084a.75.75 0 01.216-.664l2.24-2.183-3.096-.45a.75.75 0 01-.564-.41L8 2.694v.001z"/></svg>Star
							</button>
							<a class="ui basic label" href="/atari_games_179992_m-ux1a/atari_games/stars">
								0
							</a>
						</div>
					</form>
					
						<div class="ui labeled button " tabindex="0">
							<a class="ui compact basic button " href="/repo/fork/182906" data-position="top center" data-variation="tiny">
								<svg viewBox="0 0 16 16" class="svg octicon-repo-forked" width="16" height="16" aria-hidden="true"><path fill-rule="evenodd" d="M5 3.25a.75.75 0 11-1.5 0 .75.75 0 011.5 0zm0 2.122a2.25 2.25 0 10-1.5 0v.878A2.25 2.25 0 005.75 8.5h1.5v2.128a2.251 2.251 0 101.5 0V8.5h1.5a2.25 2.25 0 002.25-2.25v-.878a2.25 2.25 0 10-1.5 0v.878a.75.75 0 01-.75.75h-4.5A.75.75 0 015 6.25v-.878zm3.75 7.378a.75.75 0 11-1.5 0 .75.75 0 011.5 0zm3-8.75a.75.75 0 100-1.5.75.75 0 000 1.5z"/></svg>Fork
							</a>
							<a class="ui basic label" href="/atari_games_179992_m-ux1a/atari_games/forks">
								0
							</a>
						</div>
					
				</div>
			
		</div>
	</div>

	<div class="ui tabs container">
		
			<div class="ui tabular stackable menu navbar">
				
				<a class="active item" href="/atari_games_179992_m-ux1a/atari_games">
					<svg viewBox="0 0 16 16" class="svg octicon-code" width="16" height="16" aria-hidden="true"><path fill-rule="evenodd" d="M4.72 3.22a.75.75 0 011.06 1.06L2.06 8l3.72 3.72a.75.75 0 11-1.06 1.06L.47 8.53a.75.75 0 010-1.06l4.25-4.25zm6.56 0a.75.75 0 10-1.06 1.06L13.94 8l-3.72 3.72a.75.75 0 101.06 1.06l4.25-4.25a.75.75 0 000-1.06l-4.25-4.25z"/></svg> Code
				</a>
				

				

				

				
					<a class=" item" href="/atari_games_179992_m-ux1a/atari_games/pulls">
						<svg viewBox="0 0 16 16" class="svg octicon-git-pull-request" width="16" height="16" aria-hidden="true"><path fill-rule="evenodd" d="M7.177 3.073L9.573.677A.25.25 0 0110 .854v4.792a.25.25 0 01-.427.177L7.177 3.427a.25.25 0 010-.354zM3.75 2.5a.75.75 0 100 1.5.75.75 0 000-1.5zm-2.25.75a2.25 2.25 0 113 2.122v5.256a2.251 2.251 0 11-1.5 0V5.372A2.25 2.25 0 011.5 3.25zM11 2.5h-1V4h1a1 1 0 011 1v5.628a2.251 2.251 0 101.5 0V5A2.5 2.5 0 0011 2.5zm1 10.25a.75.75 0 111.5 0 .75.75 0 01-1.5 0zM3.75 12a.75.75 0 100 1.5.75.75 0 000-1.5z"/></svg> Pull Requests <span class="ui gray small label">0</span>
					</a>
				

				

				

				

				
					<a class=" item" href="/atari_games_179992_m-ux1a/atari_games/activity">
						<svg viewBox="0 0 16 16" class="svg octicon-pulse" width="16" height="16" aria-hidden="true"><path fill-rule="evenodd" d="M6 2a.75.75 0 01.696.471L10 10.731l1.304-3.26A.75.75 0 0112 7h3.25a.75.75 0 010 1.5h-2.742l-1.812 4.528a.75.75 0 01-1.392 0L6 4.77 4.696 8.03A.75.75 0 014 8.5H.75a.75.75 0 010-1.5h2.742l1.812-4.529A.75.75 0 016 2z"/></svg> Activity
					</a>
				

				

				
					<div class="right menu">
						<a class=" item" href="/atari_games_179992_m-ux1a/atari_games/settings">
							<svg viewBox="0 0 16 16" class="svg octicon-tools" width="16" height="16" aria-hidden="true"><path fill-rule="evenodd" d="M5.433 2.304A4.494 4.494 0 003.5 6c0 1.598.832 3.002 2.09 3.802.518.328.929.923.902 1.64v.008l-.164 3.337a.75.75 0 11-1.498-.073l.163-3.33c.002-.085-.05-.216-.207-.316A5.996 5.996 0 012 6a5.994 5.994 0 012.567-4.92 1.482 1.482 0 011.673-.04c.462.296.76.827.76 1.423v2.82c0 .082.041.16.11.206l.75.51a.25.25 0 00.28 0l.75-.51A.25.25 0 009 5.282V2.463c0-.596.298-1.127.76-1.423a1.482 1.482 0 011.673.04A5.994 5.994 0 0114 6a5.996 5.996 0 01-2.786 5.068c-.157.1-.209.23-.207.315l.163 3.33a.75.75 0 11-1.498.074l-.164-3.345c-.027-.717.384-1.312.902-1.64A4.496 4.496 0 0012.5 6a4.494 4.494 0 00-1.933-3.696c-.024.017-.067.067-.067.16v2.818a1.75 1.75 0 01-.767 1.448l-.75.51a1.75 1.75 0 01-1.966 0l-.75-.51A1.75 1.75 0 015.5 5.282V2.463c0-.092-.043-.142-.067-.159zm.01-.005z"/></svg> Settings
						</a>
					</div>
				
			</div>
		
	</div>
	<div class="ui tabs divider"></div>
</div>

	<div class="ui container ">
		



		<div class="ui repo-description">
			<div id="repo-desc">
				<span class="no-description text-italic">No Description</span>
				<a class="link" href=""></a>
			</div>
			
		</div>
		<div class="ui" id="repo-topics">
		
		<a id="manage_topic">Manage Topics</a>
		</div>
		
		<div class="ui repo-topic-edit grid form segment error" id="topic_edit" style="display:none">
			<div class="fourteen wide column">
				<div class="field">
					<div class="ui fluid multiple search selection dropdown">
						<input type="hidden" name="topics" value="">
						
						<div class="text"></div>
					</div>
				</div>
			</div>
			<div class="two wide column">
				<a class="ui button primary" href="javascript:;" id="save_topic"
				data-link="/atari_games_179992_m-ux1a/atari_games/topics">Done</a>
			</div>
		</div>
		
		<div class="hide" id="validate_prompt">
			<span id="count_prompt">You can not select more than 25 topics</span>
			<span id="format_prompt">Topics must start with a letter or number, can include dashes (&#39;-&#39;) and can be up to 35 characters long.</span>
		</div>
		
		<div class="ui segments repository-summary">
	<div class="ui segment sub-menu repository-menu">
		<div class="ui two horizontal center link list">
			
				<div class="item">
					<a class="ui" href="/atari_games_179992_m-ux1a/atari_games/commits/branch/dev"><svg viewBox="0 0 16 16" class="svg octicon-history" width="16" height="16" aria-hidden="true"><path fill-rule="evenodd" d="M1.643 3.143L.427 1.927A.25.25 0 000 2.104V5.75c0 .138.112.25.25.25h3.646a.25.25 0 00.177-.427L2.715 4.215a6.5 6.5 0 11-1.18 4.458.75.75 0 10-1.493.154 8.001 8.001 0 101.6-5.684zM7.75 4a.75.75 0 01.75.75v2.992l2.028.812a.75.75 0 01-.557 1.392l-2.5-1A.75.75 0 017 8.25v-3.5A.75.75 0 017.75 4z"/></svg> <b>12</b> Commits</a>
				</div>
			
			
				<div class="item">
					<a class="ui" href="/atari_games_179992_m-ux1a/atari_games/branches/"><svg viewBox="0 0 16 16" class="svg octicon-git-branch" width="16" height="16" aria-hidden="true"><path fill-rule="evenodd" d="M11.75 2.5a.75.75 0 100 1.5.75.75 0 000-1.5zm-2.25.75a2.25 2.25 0 113 2.122V6A2.5 2.5 0 0110 8.5H6a1 1 0 00-1 1v1.128a2.251 2.251 0 11-1.5 0V5.372a2.25 2.25 0 111.5 0v1.836A2.492 2.492 0 016 7h4a1 1 0 001-1v-.628A2.25 2.25 0 019.5 3.25zM4.25 12a.75.75 0 100 1.5.75.75 0 000-1.5zM3.5 3.25a.75.75 0 111.5 0 .75.75 0 01-1.5 0z"/></svg> <b>4</b> Branches</a>
				</div>
				<div class="item">
					<span class="ui"><svg viewBox="0 0 16 16" class="svg octicon-database" width="16" height="16" aria-hidden="true"><path fill-rule="evenodd" d="M2.5 3.5c0-.133.058-.318.282-.55.227-.237.592-.484 1.1-.708C4.899 1.795 6.354 1.5 8 1.5c1.647 0 3.102.295 4.117.742.51.224.874.47 1.101.707.224.233.282.418.282.551 0 .133-.058.318-.282.55-.227.237-.592.484-1.1.708C11.101 5.205 9.646 5.5 8 5.5c-1.647 0-3.102-.295-4.117-.742-.51-.224-.874-.47-1.101-.707-.224-.233-.282-.418-.282-.551zM1 3.5c0-.626.292-1.165.7-1.59.406-.422.956-.767 1.579-1.041C4.525.32 6.195 0 8 0c1.805 0 3.475.32 4.722.869.622.274 1.172.62 1.578 1.04.408.426.7.965.7 1.591v9c0 .626-.292 1.165-.7 1.59-.406.422-.956.767-1.579 1.041C11.476 15.68 9.806 16 8 16c-1.805 0-3.475-.32-4.721-.869-.623-.274-1.173-.62-1.579-1.04-.408-.426-.7-.965-.7-1.591v-9zM2.5 8V5.724c.241.15.503.286.779.407C4.525 6.68 6.195 7 8 7c1.805 0 3.475-.32 4.722-.869.275-.121.537-.257.778-.407V8c0 .133-.058.318-.282.55-.227.237-.592.484-1.1.708C11.101 9.705 9.646 10 8 10c-1.647 0-3.102-.295-4.117-.742-.51-.224-.874-.47-1.101-.707C2.558 8.318 2.5 8.133 2.5 8zm0 2.225V12.5c0 .133.058.318.282.55.227.237.592.484 1.1.708 1.016.447 2.471.742 4.118.742 1.647 0 3.102-.295 4.117-.742.51-.224.874-.47 1.101-.707.224-.233.282-.418.282-.551v-2.275c-.241.15-.503.285-.778.406-1.247.549-2.917.869-4.722.869-1.805 0-3.475-.32-4.721-.869a6.236 6.236 0 01-.779-.406z"/></svg> <b>696 KiB</b></span>
				</div>
			
		</div>
	</div>
	
	<div class="ui segment sub-menu language-stats-details" style="display: none">
		<div class="ui horizontal center link list">
			
			<div class="item">
				<i class="color-icon" style="background-color: #DA5B0B"></i>
				<span class="ui"><b>
				
					Jupyter Notebook
				
				</b> 100%</span>
			</div>
			
		</div>
	</div>
	<a class="ui segment language-stats">
		
		<div class="bar" style="width: 100%; background-color: #DA5B0B">&nbsp;</div>
		
	</a>
	
</div>

		<div class="ui stackable secondary menu mobile--margin-between-items mobile--no-negative-margins">
			<div class="fitted item choose reference">
	<div class="ui floating filter dropdown custom" data-can-create-branch="true" data-no-results="No results found.">
		<div class="ui basic small compact button" @click="menuVisible = !menuVisible" @keyup.enter="menuVisible = !menuVisible">
			<span class="text">
				<svg viewBox="0 0 16 16" class="svg octicon-git-branch" width="16" height="16" aria-hidden="true"><path fill-rule="evenodd" d="M11.75 2.5a.75.75 0 100 1.5.75.75 0 000-1.5zm-2.25.75a2.25 2.25 0 113 2.122V6A2.5 2.5 0 0110 8.5H6a1 1 0 00-1 1v1.128a2.251 2.251 0 11-1.5 0V5.372a2.25 2.25 0 111.5 0v1.836A2.492 2.492 0 016 7h4a1 1 0 001-1v-.628A2.25 2.25 0 019.5 3.25zM4.25 12a.75.75 0 100 1.5.75.75 0 000-1.5zM3.5 3.25a.75.75 0 111.5 0 .75.75 0 01-1.5 0z"/></svg>
				Branch:
				<strong>dev</strong>
			</span>
			<i class="dropdown icon"></i>
		</div>
		<div class="data" style="display: none" data-mode="branches">
			
				<div class="item branch selected" data-url="/atari_games_179992_m-ux1a/atari_games/src/branch/dev/atari_games.ipynb">dev</div>
			
				<div class="item branch " data-url="/atari_games_179992_m-ux1a/atari_games/src/branch/dev_0/atari_games.ipynb">dev_0</div>
			
				<div class="item branch " data-url="/atari_games_179992_m-ux1a/atari_games/src/branch/dev_1/atari_games.ipynb">dev_1</div>
			
				<div class="item branch " data-url="/atari_games_179992_m-ux1a/atari_games/src/branch/master/atari_games.ipynb">master</div>
			
			
		</div>
		<div class="menu transition" :class="{visible: menuVisible}" v-if="menuVisible" v-cloak>
			<div class="ui icon search input">
				<i class="filter icon"></i>
				<input name="search" ref="searchField" v-model="searchTerm" @keydown="keydown($event)" placeholder="Filter branch or tag...">
			</div>
			<div class="header branch-tag-choice">
				<div class="ui grid">
					<div class="two column row">
						<a class="reference column" href="#" @click="mode = 'branches'; focusSearchField()">
							<span class="text" :class="{black: mode == 'branches'}">
								<svg viewBox="0 0 16 16" class="svg octicon-git-branch" width="16" height="16" aria-hidden="true"><path fill-rule="evenodd" d="M11.75 2.5a.75.75 0 100 1.5.75.75 0 000-1.5zm-2.25.75a2.25 2.25 0 113 2.122V6A2.5 2.5 0 0110 8.5H6a1 1 0 00-1 1v1.128a2.251 2.251 0 11-1.5 0V5.372a2.25 2.25 0 111.5 0v1.836A2.492 2.492 0 016 7h4a1 1 0 001-1v-.628A2.25 2.25 0 019.5 3.25zM4.25 12a.75.75 0 100 1.5.75.75 0 000-1.5zM3.5 3.25a.75.75 0 111.5 0 .75.75 0 01-1.5 0z"/></svg> Branches
							</span>
						</a>
						<a class="reference column" href="#" @click="mode = 'tags'; focusSearchField()">
							<span class="text" :class="{black: mode == 'tags'}">
								<i class="reference tags icon"></i> Tags
							</span>
						</a>
					</div>
				</div>
			</div>
			<div class="scrolling menu" ref="scrollContainer">
				<div v-for="(item, index) in filteredItems" :key="item.name" class="item" :class="{selected: item.selected, active: active == index}" @click="selectItem(item)" :ref="'listItem' + index">${ item.name }</div>
				<div class="item" v-if="showCreateNewBranch" :class="{active: active == filteredItems.length}" :ref="'listItem' + filteredItems.length">
					<a href="#" @click="createNewBranch()">
						<div>
							<svg viewBox="0 0 16 16" class="svg octicon-git-branch" width="16" height="16" aria-hidden="true"><path fill-rule="evenodd" d="M11.75 2.5a.75.75 0 100 1.5.75.75 0 000-1.5zm-2.25.75a2.25 2.25 0 113 2.122V6A2.5 2.5 0 0110 8.5H6a1 1 0 00-1 1v1.128a2.251 2.251 0 11-1.5 0V5.372a2.25 2.25 0 111.5 0v1.836A2.492 2.492 0 016 7h4a1 1 0 001-1v-.628A2.25 2.25 0 019.5 3.25zM4.25 12a.75.75 0 100 1.5.75.75 0 000-1.5zM3.5 3.25a.75.75 0 111.5 0 .75.75 0 01-1.5 0z"/></svg>
							Create branch <strong>${ searchTerm }</strong>
						</div>
						<div class="text small">
							
								from &#39;dev&#39;
							
						</div>
					</a>
					<form ref="newBranchForm" action="/atari_games_179992_m-ux1a/atari_games/branches/_new/branch/dev" method="post">
						<input type="hidden" name="_csrf" value="SpQuJrqHTiXgkVTKGrm2ZQ6K3Tk6MTc0NjM1ODE2MjA5ODY5MzMxNA">
						<input type="hidden" name="new_branch_name" v-model="searchTerm">
					</form>
				</div>
			</div>
			<div class="message" v-if="showNoResults">${ noResults }</div>
		</div>
	</div>
</div>

			
			
			
			
				<div class="fitted item"><span class="ui breadcrumb repo-path"><a class="section" href="/atari_games_179992_m-ux1a/atari_games/src/branch/dev" title="atari_games">atari_games</a><span class="divider">/</span><span class="active section" title="atari_games.ipynb">atari_games.ipynb</span></span></div>
			
			<div class="right fitted item" id="file-buttons">
				<div class="ui tiny blue buttons">
					
						
						
					
					
				</div>

			</div>
			<div class="fitted item">
				
			</div>
			<div class="fitted item">

				
				
			</div>
		</div>
		
			<div class="tab-size-8 non-diff-file-content">
	<h4 class="file-header ui top attached header">
		<div class="file-header-left df ac">
			
				<div class="file-info text grey normal mono">
					
					
						<div class="file-info-entry">
							665 lines
						</div>
					
					
						<div class="file-info-entry">
							24 KiB
						</div>
					
					
				</div>
			
		</div>
		
		<div class="file-header-right df ac">
			<div class="ui right file-actions">
				<div class="ui buttons">
					<a class="ui button" href="/atari_games_179992_m-ux1a/atari_games/raw/branch/dev/atari_games.ipynb">Raw</a>
					
						<a class="ui button" href="/atari_games_179992_m-ux1a/atari_games/src/commit/3a43983db5eb6be51ca7dbeaf3d1de804e220a27/atari_games.ipynb">Permalink</a>
					
					
						<a class="ui button" href="/atari_games_179992_m-ux1a/atari_games/blame/branch/dev/atari_games.ipynb">Blame</a>
					
					<a class="ui button" href="/atari_games_179992_m-ux1a/atari_games/commits/branch/dev/atari_games.ipynb">History</a>
				</div>
				
					
						<a href="/atari_games_179992_m-ux1a/atari_games/_edit/dev/atari_games.ipynb"><span class="btn-octicon poping up"  data-content="Edit File" data-position="bottom center" data-variation="tiny inverted"><svg viewBox="0 0 16 16" class="svg octicon-pencil" width="16" height="16" aria-hidden="true"><path fill-rule="evenodd" d="M11.013 1.427a1.75 1.75 0 012.474 0l1.086 1.086a1.75 1.75 0 010 2.474l-8.61 8.61c-.21.21-.47.364-.756.445l-3.251.93a.75.75 0 01-.927-.928l.929-3.25a1.75 1.75 0 01.445-.758l8.61-8.61zm1.414 1.06a.25.25 0 00-.354 0L10.811 3.75l1.439 1.44 1.263-1.263a.25.25 0 000-.354l-1.086-1.086zM11.189 6.25L9.75 4.81l-6.286 6.287a.25.25 0 00-.064.108l-.558 1.953 1.953-.558a.249.249 0 00.108-.064l6.286-6.286z"/></svg></span></a>
					
					
						<a href="/atari_games_179992_m-ux1a/atari_games/_delete/dev/atari_games.ipynb"><span class="btn-octicon btn-octicon-danger poping up"  data-content="Delete File" data-position="bottom center" data-variation="tiny inverted"><svg viewBox="0 0 16 16" class="svg octicon-trashcan" width="16" height="16" aria-hidden="true"><path fill-rule="evenodd" d="M6.5 1.75a.25.25 0 01.25-.25h2.5a.25.25 0 01.25.25V3h-3V1.75zm4.5 0V3h2.25a.75.75 0 010 1.5H2.75a.75.75 0 010-1.5H5V1.75C5 .784 5.784 0 6.75 0h2.5C10.216 0 11 .784 11 1.75zM4.496 6.675a.75.75 0 10-1.492.15l.66 6.6A1.75 1.75 0 005.405 15h5.19c.9 0 1.652-.681 1.741-1.576l.66-6.6a.75.75 0 00-1.492-.149l-.66 6.6a.25.25 0 01-.249.225h-5.19a.25.25 0 01-.249-.225l-.66-6.6z"/></svg></span></a>
					
				
			</div>
		</div>
		
	</h4>
	<div class="ui attached table unstackable segment">
		<div class="file-view code-view">
			
				
				<table>
					<tbody>
						
						<tr>
							<td id="L1" class="lines-num">
								<span id="L1" data-line-number="1"></span>
							</td>
							<td rel="L1" class="lines-code chroma">
								<code>{</code>
							</td>
						</tr>
						
						<tr>
							<td id="L2" class="lines-num">
								<span id="L2" data-line-number="2"></span>
							</td>
							<td rel="L2" class="lines-code chroma">
								<code>  &#34;cells&#34;: [</code>
							</td>
						</tr>
						
						<tr>
							<td id="L3" class="lines-num">
								<span id="L3" data-line-number="3"></span>
							</td>
							<td rel="L3" class="lines-code chroma">
								<code>    {</code>
							</td>
						</tr>
						
						<tr>
							<td id="L4" class="lines-num">
								<span id="L4" data-line-number="4"></span>
							</td>
							<td rel="L4" class="lines-code chroma">
								<code>      &#34;cell_type&#34;: &#34;markdown&#34;,</code>
							</td>
						</tr>
						
						<tr>
							<td id="L5" class="lines-num">
								<span id="L5" data-line-number="5"></span>
							</td>
							<td rel="L5" class="lines-code chroma">
								<code>      &#34;id&#34;: &#34;29fc7607-bfcb-4255-9158-687016a4f757&#34;,</code>
							</td>
						</tr>
						
						<tr>
							<td id="L6" class="lines-num">
								<span id="L6" data-line-number="6"></span>
							</td>
							<td rel="L6" class="lines-code chroma">
								<code>      &#34;metadata&#34;: {</code>
							</td>
						</tr>
						
						<tr>
							<td id="L7" class="lines-num">
								<span id="L7" data-line-number="7"></span>
							</td>
							<td rel="L7" class="lines-code chroma">
								<code>        &#34;id&#34;: &#34;29fc7607-bfcb-4255-9158-687016a4f757&#34;</code>
							</td>
						</tr>
						
						<tr>
							<td id="L8" class="lines-num">
								<span id="L8" data-line-number="8"></span>
							</td>
							<td rel="L8" class="lines-code chroma">
								<code>      },</code>
							</td>
						</tr>
						
						<tr>
							<td id="L9" class="lines-num">
								<span id="L9" data-line-number="9"></span>
							</td>
							<td rel="L9" class="lines-code chroma">
								<code>      &#34;source&#34;: [</code>
							</td>
						</tr>
						
						<tr>
							<td id="L10" class="lines-num">
								<span id="L10" data-line-number="10"></span>
							</td>
							<td rel="L10" class="lines-code chroma">
								<code>        &#34;# Import Libraries&#34;</code>
							</td>
						</tr>
						
						<tr>
							<td id="L11" class="lines-num">
								<span id="L11" data-line-number="11"></span>
							</td>
							<td rel="L11" class="lines-code chroma">
								<code>      ]</code>
							</td>
						</tr>
						
						<tr>
							<td id="L12" class="lines-num">
								<span id="L12" data-line-number="12"></span>
							</td>
							<td rel="L12" class="lines-code chroma">
								<code>    },</code>
							</td>
						</tr>
						
						<tr>
							<td id="L13" class="lines-num">
								<span id="L13" data-line-number="13"></span>
							</td>
							<td rel="L13" class="lines-code chroma">
								<code>    {</code>
							</td>
						</tr>
						
						<tr>
							<td id="L14" class="lines-num">
								<span id="L14" data-line-number="14"></span>
							</td>
							<td rel="L14" class="lines-code chroma">
								<code>      &#34;cell_type&#34;: &#34;code&#34;,</code>
							</td>
						</tr>
						
						<tr>
							<td id="L15" class="lines-num">
								<span id="L15" data-line-number="15"></span>
							</td>
							<td rel="L15" class="lines-code chroma">
								<code>      &#34;execution_count&#34;: 1,</code>
							</td>
						</tr>
						
						<tr>
							<td id="L16" class="lines-num">
								<span id="L16" data-line-number="16"></span>
							</td>
							<td rel="L16" class="lines-code chroma">
								<code>      &#34;id&#34;: &#34;c22bc964-b420-4a4d-b707-8a85e1d9421d&#34;,</code>
							</td>
						</tr>
						
						<tr>
							<td id="L17" class="lines-num">
								<span id="L17" data-line-number="17"></span>
							</td>
							<td rel="L17" class="lines-code chroma">
								<code>      &#34;metadata&#34;: {</code>
							</td>
						</tr>
						
						<tr>
							<td id="L18" class="lines-num">
								<span id="L18" data-line-number="18"></span>
							</td>
							<td rel="L18" class="lines-code chroma">
								<code>        &#34;id&#34;: &#34;c22bc964-b420-4a4d-b707-8a85e1d9421d&#34;</code>
							</td>
						</tr>
						
						<tr>
							<td id="L19" class="lines-num">
								<span id="L19" data-line-number="19"></span>
							</td>
							<td rel="L19" class="lines-code chroma">
								<code>      },</code>
							</td>
						</tr>
						
						<tr>
							<td id="L20" class="lines-num">
								<span id="L20" data-line-number="20"></span>
							</td>
							<td rel="L20" class="lines-code chroma">
								<code>      &#34;outputs&#34;: [],</code>
							</td>
						</tr>
						
						<tr>
							<td id="L21" class="lines-num">
								<span id="L21" data-line-number="21"></span>
							</td>
							<td rel="L21" class="lines-code chroma">
								<code>      &#34;source&#34;: [</code>
							</td>
						</tr>
						
						<tr>
							<td id="L22" class="lines-num">
								<span id="L22" data-line-number="22"></span>
							</td>
							<td rel="L22" class="lines-code chroma">
								<code>        &#34;import gymnasium as gym\n&#34;,</code>
							</td>
						</tr>
						
						<tr>
							<td id="L23" class="lines-num">
								<span id="L23" data-line-number="23"></span>
							</td>
							<td rel="L23" class="lines-code chroma">
								<code>        &#34;import numpy as np\n&#34;,</code>
							</td>
						</tr>
						
						<tr>
							<td id="L24" class="lines-num">
								<span id="L24" data-line-number="24"></span>
							</td>
							<td rel="L24" class="lines-code chroma">
								<code>        &#34;import torch\n&#34;,</code>
							</td>
						</tr>
						
						<tr>
							<td id="L25" class="lines-num">
								<span id="L25" data-line-number="25"></span>
							</td>
							<td rel="L25" class="lines-code chroma">
								<code>        &#34;import torch.nn as nn\n&#34;,</code>
							</td>
						</tr>
						
						<tr>
							<td id="L26" class="lines-num">
								<span id="L26" data-line-number="26"></span>
							</td>
							<td rel="L26" class="lines-code chroma">
								<code>        &#34;import torch.optim as optim\n&#34;,</code>
							</td>
						</tr>
						
						<tr>
							<td id="L27" class="lines-num">
								<span id="L27" data-line-number="27"></span>
							</td>
							<td rel="L27" class="lines-code chroma">
								<code>        &#34;import random\n&#34;,</code>
							</td>
						</tr>
						
						<tr>
							<td id="L28" class="lines-num">
								<span id="L28" data-line-number="28"></span>
							</td>
							<td rel="L28" class="lines-code chroma">
								<code>        &#34;import cv2\n&#34;,</code>
							</td>
						</tr>
						
						<tr>
							<td id="L29" class="lines-num">
								<span id="L29" data-line-number="29"></span>
							</td>
							<td rel="L29" class="lines-code chroma">
								<code>        &#34;import ale_py\n&#34;,</code>
							</td>
						</tr>
						
						<tr>
							<td id="L30" class="lines-num">
								<span id="L30" data-line-number="30"></span>
							</td>
							<td rel="L30" class="lines-code chroma">
								<code>        &#34;from collections import deque\n&#34;,</code>
							</td>
						</tr>
						
						<tr>
							<td id="L31" class="lines-num">
								<span id="L31" data-line-number="31"></span>
							</td>
							<td rel="L31" class="lines-code chroma">
								<code>        &#34;from IPython.display import HTML\n&#34;,</code>
							</td>
						</tr>
						
						<tr>
							<td id="L32" class="lines-num">
								<span id="L32" data-line-number="32"></span>
							</td>
							<td rel="L32" class="lines-code chroma">
								<code>        &#34;from base64 import b64encode&#34;</code>
							</td>
						</tr>
						
						<tr>
							<td id="L33" class="lines-num">
								<span id="L33" data-line-number="33"></span>
							</td>
							<td rel="L33" class="lines-code chroma">
								<code>      ]</code>
							</td>
						</tr>
						
						<tr>
							<td id="L34" class="lines-num">
								<span id="L34" data-line-number="34"></span>
							</td>
							<td rel="L34" class="lines-code chroma">
								<code>    },</code>
							</td>
						</tr>
						
						<tr>
							<td id="L35" class="lines-num">
								<span id="L35" data-line-number="35"></span>
							</td>
							<td rel="L35" class="lines-code chroma">
								<code>    {</code>
							</td>
						</tr>
						
						<tr>
							<td id="L36" class="lines-num">
								<span id="L36" data-line-number="36"></span>
							</td>
							<td rel="L36" class="lines-code chroma">
								<code>      &#34;cell_type&#34;: &#34;markdown&#34;,</code>
							</td>
						</tr>
						
						<tr>
							<td id="L37" class="lines-num">
								<span id="L37" data-line-number="37"></span>
							</td>
							<td rel="L37" class="lines-code chroma">
								<code>      &#34;id&#34;: &#34;2fa07483-038c-4f6c-8c4a-c18fb744a814&#34;,</code>
							</td>
						</tr>
						
						<tr>
							<td id="L38" class="lines-num">
								<span id="L38" data-line-number="38"></span>
							</td>
							<td rel="L38" class="lines-code chroma">
								<code>      &#34;metadata&#34;: {</code>
							</td>
						</tr>
						
						<tr>
							<td id="L39" class="lines-num">
								<span id="L39" data-line-number="39"></span>
							</td>
							<td rel="L39" class="lines-code chroma">
								<code>        &#34;id&#34;: &#34;2fa07483-038c-4f6c-8c4a-c18fb744a814&#34;</code>
							</td>
						</tr>
						
						<tr>
							<td id="L40" class="lines-num">
								<span id="L40" data-line-number="40"></span>
							</td>
							<td rel="L40" class="lines-code chroma">
								<code>      },</code>
							</td>
						</tr>
						
						<tr>
							<td id="L41" class="lines-num">
								<span id="L41" data-line-number="41"></span>
							</td>
							<td rel="L41" class="lines-code chroma">
								<code>      &#34;source&#34;: [</code>
							</td>
						</tr>
						
						<tr>
							<td id="L42" class="lines-num">
								<span id="L42" data-line-number="42"></span>
							</td>
							<td rel="L42" class="lines-code chroma">
								<code>        &#34;# Hyperparameters&#34;</code>
							</td>
						</tr>
						
						<tr>
							<td id="L43" class="lines-num">
								<span id="L43" data-line-number="43"></span>
							</td>
							<td rel="L43" class="lines-code chroma">
								<code>      ]</code>
							</td>
						</tr>
						
						<tr>
							<td id="L44" class="lines-num">
								<span id="L44" data-line-number="44"></span>
							</td>
							<td rel="L44" class="lines-code chroma">
								<code>    },</code>
							</td>
						</tr>
						
						<tr>
							<td id="L45" class="lines-num">
								<span id="L45" data-line-number="45"></span>
							</td>
							<td rel="L45" class="lines-code chroma">
								<code>    {</code>
							</td>
						</tr>
						
						<tr>
							<td id="L46" class="lines-num">
								<span id="L46" data-line-number="46"></span>
							</td>
							<td rel="L46" class="lines-code chroma">
								<code>      &#34;cell_type&#34;: &#34;code&#34;,</code>
							</td>
						</tr>
						
						<tr>
							<td id="L47" class="lines-num">
								<span id="L47" data-line-number="47"></span>
							</td>
							<td rel="L47" class="lines-code chroma">
								<code>      &#34;execution_count&#34;: null,</code>
							</td>
						</tr>
						
						<tr>
							<td id="L48" class="lines-num">
								<span id="L48" data-line-number="48"></span>
							</td>
							<td rel="L48" class="lines-code chroma">
								<code>      &#34;id&#34;: &#34;0dbd72f4-f4a8-4e95-8dca-167945af4d99&#34;,</code>
							</td>
						</tr>
						
						<tr>
							<td id="L49" class="lines-num">
								<span id="L49" data-line-number="49"></span>
							</td>
							<td rel="L49" class="lines-code chroma">
								<code>      &#34;metadata&#34;: {</code>
							</td>
						</tr>
						
						<tr>
							<td id="L50" class="lines-num">
								<span id="L50" data-line-number="50"></span>
							</td>
							<td rel="L50" class="lines-code chroma">
								<code>        &#34;id&#34;: &#34;0dbd72f4-f4a8-4e95-8dca-167945af4d99&#34;</code>
							</td>
						</tr>
						
						<tr>
							<td id="L51" class="lines-num">
								<span id="L51" data-line-number="51"></span>
							</td>
							<td rel="L51" class="lines-code chroma">
								<code>      },</code>
							</td>
						</tr>
						
						<tr>
							<td id="L52" class="lines-num">
								<span id="L52" data-line-number="52"></span>
							</td>
							<td rel="L52" class="lines-code chroma">
								<code>      &#34;outputs&#34;: [],</code>
							</td>
						</tr>
						
						<tr>
							<td id="L53" class="lines-num">
								<span id="L53" data-line-number="53"></span>
							</td>
							<td rel="L53" class="lines-code chroma">
								<code>      &#34;source&#34;: [</code>
							</td>
						</tr>
						
						<tr>
							<td id="L54" class="lines-num">
								<span id="L54" data-line-number="54"></span>
							</td>
							<td rel="L54" class="lines-code chroma">
								<code>        &#34;EPISODES = 1000\n&#34;,</code>
							</td>
						</tr>
						
						<tr>
							<td id="L55" class="lines-num">
								<span id="L55" data-line-number="55"></span>
							</td>
							<td rel="L55" class="lines-code chroma">
								<code>        &#34;BATCH_SIZE = 64\n&#34;,</code>
							</td>
						</tr>
						
						<tr>
							<td id="L56" class="lines-num">
								<span id="L56" data-line-number="56"></span>
							</td>
							<td rel="L56" class="lines-code chroma">
								<code>        &#34;GAMMA = 0.99\n&#34;,</code>
							</td>
						</tr>
						
						<tr>
							<td id="L57" class="lines-num">
								<span id="L57" data-line-number="57"></span>
							</td>
							<td rel="L57" class="lines-code chroma">
								<code>        &#34;EPSILON_START = 1.0\n&#34;,</code>
							</td>
						</tr>
						
						<tr>
							<td id="L58" class="lines-num">
								<span id="L58" data-line-number="58"></span>
							</td>
							<td rel="L58" class="lines-code chroma">
								<code>        &#34;EPSILON_END = 0.01\n&#34;,</code>
							</td>
						</tr>
						
						<tr>
							<td id="L59" class="lines-num">
								<span id="L59" data-line-number="59"></span>
							</td>
							<td rel="L59" class="lines-code chroma">
								<code>        &#34;EPSILON_DECAY = 0.995\n&#34;,</code>
							</td>
						</tr>
						
						<tr>
							<td id="L60" class="lines-num">
								<span id="L60" data-line-number="60"></span>
							</td>
							<td rel="L60" class="lines-code chroma">
								<code>        &#34;LEARNING_RATE = 0.001\n&#34;,</code>
							</td>
						</tr>
						
						<tr>
							<td id="L61" class="lines-num">
								<span id="L61" data-line-number="61"></span>
							</td>
							<td rel="L61" class="lines-code chroma">
								<code>        &#34;MEMORY_SIZE = 20000\n&#34;,</code>
							</td>
						</tr>
						
						<tr>
							<td id="L62" class="lines-num">
								<span id="L62" data-line-number="62"></span>
							</td>
							<td rel="L62" class="lines-code chroma">
								<code>        &#34;TARGET_UPDATE = 10&#34;</code>
							</td>
						</tr>
						
						<tr>
							<td id="L63" class="lines-num">
								<span id="L63" data-line-number="63"></span>
							</td>
							<td rel="L63" class="lines-code chroma">
								<code>      ]</code>
							</td>
						</tr>
						
						<tr>
							<td id="L64" class="lines-num">
								<span id="L64" data-line-number="64"></span>
							</td>
							<td rel="L64" class="lines-code chroma">
								<code>    },</code>
							</td>
						</tr>
						
						<tr>
							<td id="L65" class="lines-num">
								<span id="L65" data-line-number="65"></span>
							</td>
							<td rel="L65" class="lines-code chroma">
								<code>    {</code>
							</td>
						</tr>
						
						<tr>
							<td id="L66" class="lines-num">
								<span id="L66" data-line-number="66"></span>
							</td>
							<td rel="L66" class="lines-code chroma">
								<code>      &#34;cell_type&#34;: &#34;markdown&#34;,</code>
							</td>
						</tr>
						
						<tr>
							<td id="L67" class="lines-num">
								<span id="L67" data-line-number="67"></span>
							</td>
							<td rel="L67" class="lines-code chroma">
								<code>      &#34;id&#34;: &#34;3bf63fac-fc2a-4ea9-8043-fb2a1ffa077c&#34;,</code>
							</td>
						</tr>
						
						<tr>
							<td id="L68" class="lines-num">
								<span id="L68" data-line-number="68"></span>
							</td>
							<td rel="L68" class="lines-code chroma">
								<code>      &#34;metadata&#34;: {</code>
							</td>
						</tr>
						
						<tr>
							<td id="L69" class="lines-num">
								<span id="L69" data-line-number="69"></span>
							</td>
							<td rel="L69" class="lines-code chroma">
								<code>        &#34;id&#34;: &#34;3bf63fac-fc2a-4ea9-8043-fb2a1ffa077c&#34;</code>
							</td>
						</tr>
						
						<tr>
							<td id="L70" class="lines-num">
								<span id="L70" data-line-number="70"></span>
							</td>
							<td rel="L70" class="lines-code chroma">
								<code>      },</code>
							</td>
						</tr>
						
						<tr>
							<td id="L71" class="lines-num">
								<span id="L71" data-line-number="71"></span>
							</td>
							<td rel="L71" class="lines-code chroma">
								<code>      &#34;source&#34;: [</code>
							</td>
						</tr>
						
						<tr>
							<td id="L72" class="lines-num">
								<span id="L72" data-line-number="72"></span>
							</td>
							<td rel="L72" class="lines-code chroma">
								<code>        &#34;# DQN Model&#34;</code>
							</td>
						</tr>
						
						<tr>
							<td id="L73" class="lines-num">
								<span id="L73" data-line-number="73"></span>
							</td>
							<td rel="L73" class="lines-code chroma">
								<code>      ]</code>
							</td>
						</tr>
						
						<tr>
							<td id="L74" class="lines-num">
								<span id="L74" data-line-number="74"></span>
							</td>
							<td rel="L74" class="lines-code chroma">
								<code>    },</code>
							</td>
						</tr>
						
						<tr>
							<td id="L75" class="lines-num">
								<span id="L75" data-line-number="75"></span>
							</td>
							<td rel="L75" class="lines-code chroma">
								<code>    {</code>
							</td>
						</tr>
						
						<tr>
							<td id="L76" class="lines-num">
								<span id="L76" data-line-number="76"></span>
							</td>
							<td rel="L76" class="lines-code chroma">
								<code>      &#34;cell_type&#34;: &#34;code&#34;,</code>
							</td>
						</tr>
						
						<tr>
							<td id="L77" class="lines-num">
								<span id="L77" data-line-number="77"></span>
							</td>
							<td rel="L77" class="lines-code chroma">
								<code>      &#34;execution_count&#34;: null,</code>
							</td>
						</tr>
						
						<tr>
							<td id="L78" class="lines-num">
								<span id="L78" data-line-number="78"></span>
							</td>
							<td rel="L78" class="lines-code chroma">
								<code>      &#34;id&#34;: &#34;f51bf765-6fb3-4d8b-9494-ed8bf4ba3e20&#34;,</code>
							</td>
						</tr>
						
						<tr>
							<td id="L79" class="lines-num">
								<span id="L79" data-line-number="79"></span>
							</td>
							<td rel="L79" class="lines-code chroma">
								<code>      &#34;metadata&#34;: {</code>
							</td>
						</tr>
						
						<tr>
							<td id="L80" class="lines-num">
								<span id="L80" data-line-number="80"></span>
							</td>
							<td rel="L80" class="lines-code chroma">
								<code>        &#34;id&#34;: &#34;f51bf765-6fb3-4d8b-9494-ed8bf4ba3e20&#34;</code>
							</td>
						</tr>
						
						<tr>
							<td id="L81" class="lines-num">
								<span id="L81" data-line-number="81"></span>
							</td>
							<td rel="L81" class="lines-code chroma">
								<code>      },</code>
							</td>
						</tr>
						
						<tr>
							<td id="L82" class="lines-num">
								<span id="L82" data-line-number="82"></span>
							</td>
							<td rel="L82" class="lines-code chroma">
								<code>      &#34;outputs&#34;: [],</code>
							</td>
						</tr>
						
						<tr>
							<td id="L83" class="lines-num">
								<span id="L83" data-line-number="83"></span>
							</td>
							<td rel="L83" class="lines-code chroma">
								<code>      &#34;source&#34;: [</code>
							</td>
						</tr>
						
						<tr>
							<td id="L84" class="lines-num">
								<span id="L84" data-line-number="84"></span>
							</td>
							<td rel="L84" class="lines-code chroma">
								<code>        &#34;class DQN(nn.Module):\n&#34;,</code>
							</td>
						</tr>
						
						<tr>
							<td id="L85" class="lines-num">
								<span id="L85" data-line-number="85"></span>
							</td>
							<td rel="L85" class="lines-code chroma">
								<code>        &#34;    def __init__(self, input_size, output_size):\n&#34;,</code>
							</td>
						</tr>
						
						<tr>
							<td id="L86" class="lines-num">
								<span id="L86" data-line-number="86"></span>
							</td>
							<td rel="L86" class="lines-code chroma">
								<code>        &#34;        super(DQN, self).__init__()\n&#34;,</code>
							</td>
						</tr>
						
						<tr>
							<td id="L87" class="lines-num">
								<span id="L87" data-line-number="87"></span>
							</td>
							<td rel="L87" class="lines-code chroma">
								<code>        &#34;        self.net = nn.Sequential(\n&#34;,</code>
							</td>
						</tr>
						
						<tr>
							<td id="L88" class="lines-num">
								<span id="L88" data-line-number="88"></span>
							</td>
							<td rel="L88" class="lines-code chroma">
								<code>        &#34;            nn.Linear(input_size, 128),\n&#34;,</code>
							</td>
						</tr>
						
						<tr>
							<td id="L89" class="lines-num">
								<span id="L89" data-line-number="89"></span>
							</td>
							<td rel="L89" class="lines-code chroma">
								<code>        &#34;            nn.ReLU(),\n&#34;,</code>
							</td>
						</tr>
						
						<tr>
							<td id="L90" class="lines-num">
								<span id="L90" data-line-number="90"></span>
							</td>
							<td rel="L90" class="lines-code chroma">
								<code>        &#34;            nn.Linear(128, 64),\n&#34;,</code>
							</td>
						</tr>
						
						<tr>
							<td id="L91" class="lines-num">
								<span id="L91" data-line-number="91"></span>
							</td>
							<td rel="L91" class="lines-code chroma">
								<code>        &#34;            nn.ReLU(),\n&#34;,</code>
							</td>
						</tr>
						
						<tr>
							<td id="L92" class="lines-num">
								<span id="L92" data-line-number="92"></span>
							</td>
							<td rel="L92" class="lines-code chroma">
								<code>        &#34;            nn.Linear(64, output_size)\n&#34;,</code>
							</td>
						</tr>
						
						<tr>
							<td id="L93" class="lines-num">
								<span id="L93" data-line-number="93"></span>
							</td>
							<td rel="L93" class="lines-code chroma">
								<code>        &#34;        )\n&#34;,</code>
							</td>
						</tr>
						
						<tr>
							<td id="L94" class="lines-num">
								<span id="L94" data-line-number="94"></span>
							</td>
							<td rel="L94" class="lines-code chroma">
								<code>        &#34;\n&#34;,</code>
							</td>
						</tr>
						
						<tr>
							<td id="L95" class="lines-num">
								<span id="L95" data-line-number="95"></span>
							</td>
							<td rel="L95" class="lines-code chroma">
								<code>        &#34;    def forward(self, x):\n&#34;,</code>
							</td>
						</tr>
						
						<tr>
							<td id="L96" class="lines-num">
								<span id="L96" data-line-number="96"></span>
							</td>
							<td rel="L96" class="lines-code chroma">
								<code>        &#34;        return self.net(x)&#34;</code>
							</td>
						</tr>
						
						<tr>
							<td id="L97" class="lines-num">
								<span id="L97" data-line-number="97"></span>
							</td>
							<td rel="L97" class="lines-code chroma">
								<code>      ]</code>
							</td>
						</tr>
						
						<tr>
							<td id="L98" class="lines-num">
								<span id="L98" data-line-number="98"></span>
							</td>
							<td rel="L98" class="lines-code chroma">
								<code>    },</code>
							</td>
						</tr>
						
						<tr>
							<td id="L99" class="lines-num">
								<span id="L99" data-line-number="99"></span>
							</td>
							<td rel="L99" class="lines-code chroma">
								<code>    {</code>
							</td>
						</tr>
						
						<tr>
							<td id="L100" class="lines-num">
								<span id="L100" data-line-number="100"></span>
							</td>
							<td rel="L100" class="lines-code chroma">
								<code>      &#34;cell_type&#34;: &#34;markdown&#34;,</code>
							</td>
						</tr>
						
						<tr>
							<td id="L101" class="lines-num">
								<span id="L101" data-line-number="101"></span>
							</td>
							<td rel="L101" class="lines-code chroma">
								<code>      &#34;id&#34;: &#34;4de69c0c-2b90-4846-942b-fa17bb010abe&#34;,</code>
							</td>
						</tr>
						
						<tr>
							<td id="L102" class="lines-num">
								<span id="L102" data-line-number="102"></span>
							</td>
							<td rel="L102" class="lines-code chroma">
								<code>      &#34;metadata&#34;: {</code>
							</td>
						</tr>
						
						<tr>
							<td id="L103" class="lines-num">
								<span id="L103" data-line-number="103"></span>
							</td>
							<td rel="L103" class="lines-code chroma">
								<code>        &#34;id&#34;: &#34;4de69c0c-2b90-4846-942b-fa17bb010abe&#34;</code>
							</td>
						</tr>
						
						<tr>
							<td id="L104" class="lines-num">
								<span id="L104" data-line-number="104"></span>
							</td>
							<td rel="L104" class="lines-code chroma">
								<code>      },</code>
							</td>
						</tr>
						
						<tr>
							<td id="L105" class="lines-num">
								<span id="L105" data-line-number="105"></span>
							</td>
							<td rel="L105" class="lines-code chroma">
								<code>      &#34;source&#34;: [</code>
							</td>
						</tr>
						
						<tr>
							<td id="L106" class="lines-num">
								<span id="L106" data-line-number="106"></span>
							</td>
							<td rel="L106" class="lines-code chroma">
								<code>        &#34;# Agent&#34;</code>
							</td>
						</tr>
						
						<tr>
							<td id="L107" class="lines-num">
								<span id="L107" data-line-number="107"></span>
							</td>
							<td rel="L107" class="lines-code chroma">
								<code>      ]</code>
							</td>
						</tr>
						
						<tr>
							<td id="L108" class="lines-num">
								<span id="L108" data-line-number="108"></span>
							</td>
							<td rel="L108" class="lines-code chroma">
								<code>    },</code>
							</td>
						</tr>
						
						<tr>
							<td id="L109" class="lines-num">
								<span id="L109" data-line-number="109"></span>
							</td>
							<td rel="L109" class="lines-code chroma">
								<code>    {</code>
							</td>
						</tr>
						
						<tr>
							<td id="L110" class="lines-num">
								<span id="L110" data-line-number="110"></span>
							</td>
							<td rel="L110" class="lines-code chroma">
								<code>      &#34;cell_type&#34;: &#34;code&#34;,</code>
							</td>
						</tr>
						
						<tr>
							<td id="L111" class="lines-num">
								<span id="L111" data-line-number="111"></span>
							</td>
							<td rel="L111" class="lines-code chroma">
								<code>      &#34;execution_count&#34;: null,</code>
							</td>
						</tr>
						
						<tr>
							<td id="L112" class="lines-num">
								<span id="L112" data-line-number="112"></span>
							</td>
							<td rel="L112" class="lines-code chroma">
								<code>      &#34;id&#34;: &#34;327497a1-ce5d-4739-beba-efc235704f48&#34;,</code>
							</td>
						</tr>
						
						<tr>
							<td id="L113" class="lines-num">
								<span id="L113" data-line-number="113"></span>
							</td>
							<td rel="L113" class="lines-code chroma">
								<code>      &#34;metadata&#34;: {</code>
							</td>
						</tr>
						
						<tr>
							<td id="L114" class="lines-num">
								<span id="L114" data-line-number="114"></span>
							</td>
							<td rel="L114" class="lines-code chroma">
								<code>        &#34;id&#34;: &#34;327497a1-ce5d-4739-beba-efc235704f48&#34;</code>
							</td>
						</tr>
						
						<tr>
							<td id="L115" class="lines-num">
								<span id="L115" data-line-number="115"></span>
							</td>
							<td rel="L115" class="lines-code chroma">
								<code>      },</code>
							</td>
						</tr>
						
						<tr>
							<td id="L116" class="lines-num">
								<span id="L116" data-line-number="116"></span>
							</td>
							<td rel="L116" class="lines-code chroma">
								<code>      &#34;outputs&#34;: [],</code>
							</td>
						</tr>
						
						<tr>
							<td id="L117" class="lines-num">
								<span id="L117" data-line-number="117"></span>
							</td>
							<td rel="L117" class="lines-code chroma">
								<code>      &#34;source&#34;: [</code>
							</td>
						</tr>
						
						<tr>
							<td id="L118" class="lines-num">
								<span id="L118" data-line-number="118"></span>
							</td>
							<td rel="L118" class="lines-code chroma">
								<code>        &#34;class DQNAgent:\n&#34;,</code>
							</td>
						</tr>
						
						<tr>
							<td id="L119" class="lines-num">
								<span id="L119" data-line-number="119"></span>
							</td>
							<td rel="L119" class="lines-code chroma">
								<code>        &#34;    def __init__(self, state_size, action_size):\n&#34;,</code>
							</td>
						</tr>
						
						<tr>
							<td id="L120" class="lines-num">
								<span id="L120" data-line-number="120"></span>
							</td>
							<td rel="L120" class="lines-code chroma">
								<code>        &#34;        self.state_size = state_size\n&#34;,</code>
							</td>
						</tr>
						
						<tr>
							<td id="L121" class="lines-num">
								<span id="L121" data-line-number="121"></span>
							</td>
							<td rel="L121" class="lines-code chroma">
								<code>        &#34;        self.action_size = action_size\n&#34;,</code>
							</td>
						</tr>
						
						<tr>
							<td id="L122" class="lines-num">
								<span id="L122" data-line-number="122"></span>
							</td>
							<td rel="L122" class="lines-code chroma">
								<code>        &#34;        self.memory = deque(maxlen=MEMORY_SIZE)\n&#34;,</code>
							</td>
						</tr>
						
						<tr>
							<td id="L123" class="lines-num">
								<span id="L123" data-line-number="123"></span>
							</td>
							<td rel="L123" class="lines-code chroma">
								<code>        &#34;        self.epsilon = EPSILON_START\n&#34;,</code>
							</td>
						</tr>
						
						<tr>
							<td id="L124" class="lines-num">
								<span id="L124" data-line-number="124"></span>
							</td>
							<td rel="L124" class="lines-code chroma">
								<code>        &#34;        self.device = torch.device(\&#34;cuda\&#34; if torch.cuda.is_available() else \&#34;cpu\&#34;)\n&#34;,</code>
							</td>
						</tr>
						
						<tr>
							<td id="L125" class="lines-num">
								<span id="L125" data-line-number="125"></span>
							</td>
							<td rel="L125" class="lines-code chroma">
								<code>        &#34;        self.policy_net = DQN(state_size, action_size)\n&#34;,</code>
							</td>
						</tr>
						
						<tr>
							<td id="L126" class="lines-num">
								<span id="L126" data-line-number="126"></span>
							</td>
							<td rel="L126" class="lines-code chroma">
								<code>        &#34;        self.target_net = DQN(state_size, action_size)\n&#34;,</code>
							</td>
						</tr>
						
						<tr>
							<td id="L127" class="lines-num">
								<span id="L127" data-line-number="127"></span>
							</td>
							<td rel="L127" class="lines-code chroma">
								<code>        &#34;        self.target_net.load_state_dict(self.policy_net.state_dict())\n&#34;,</code>
							</td>
						</tr>
						
						<tr>
							<td id="L128" class="lines-num">
								<span id="L128" data-line-number="128"></span>
							</td>
							<td rel="L128" class="lines-code chroma">
								<code>        &#34;        self.target_net.eval()\n&#34;,</code>
							</td>
						</tr>
						
						<tr>
							<td id="L129" class="lines-num">
								<span id="L129" data-line-number="129"></span>
							</td>
							<td rel="L129" class="lines-code chroma">
								<code>        &#34;        self.optimizer = optim.Adam(self.policy_net.parameters(), lr=LEARNING_RATE)\n&#34;,</code>
							</td>
						</tr>
						
						<tr>
							<td id="L130" class="lines-num">
								<span id="L130" data-line-number="130"></span>
							</td>
							<td rel="L130" class="lines-code chroma">
								<code>        &#34;\n&#34;,</code>
							</td>
						</tr>
						
						<tr>
							<td id="L131" class="lines-num">
								<span id="L131" data-line-number="131"></span>
							</td>
							<td rel="L131" class="lines-code chroma">
								<code>        &#34;    def select_action(self, state):\n&#34;,</code>
							</td>
						</tr>
						
						<tr>
							<td id="L132" class="lines-num">
								<span id="L132" data-line-number="132"></span>
							</td>
							<td rel="L132" class="lines-code chroma">
								<code>        &#34;        if random.random() &lt; self.epsilon:\n&#34;,</code>
							</td>
						</tr>
						
						<tr>
							<td id="L133" class="lines-num">
								<span id="L133" data-line-number="133"></span>
							</td>
							<td rel="L133" class="lines-code chroma">
								<code>        &#34;            return random.randrange(self.action_size)\n&#34;,</code>
							</td>
						</tr>
						
						<tr>
							<td id="L134" class="lines-num">
								<span id="L134" data-line-number="134"></span>
							</td>
							<td rel="L134" class="lines-code chroma">
								<code>        &#34;        with torch.no_grad():\n&#34;,</code>
							</td>
						</tr>
						
						<tr>
							<td id="L135" class="lines-num">
								<span id="L135" data-line-number="135"></span>
							</td>
							<td rel="L135" class="lines-code chroma">
								<code>        &#34;            state = torch.FloatTensor(state).unsqueeze(0)\n&#34;,</code>
							</td>
						</tr>
						
						<tr>
							<td id="L136" class="lines-num">
								<span id="L136" data-line-number="136"></span>
							</td>
							<td rel="L136" class="lines-code chroma">
								<code>        &#34;            q_values = self.policy_net(state)\n&#34;,</code>
							</td>
						</tr>
						
						<tr>
							<td id="L137" class="lines-num">
								<span id="L137" data-line-number="137"></span>
							</td>
							<td rel="L137" class="lines-code chroma">
								<code>        &#34;            return q_values.argmax().item()\n&#34;,</code>
							</td>
						</tr>
						
						<tr>
							<td id="L138" class="lines-num">
								<span id="L138" data-line-number="138"></span>
							</td>
							<td rel="L138" class="lines-code chroma">
								<code>        &#34;\n&#34;,</code>
							</td>
						</tr>
						
						<tr>
							<td id="L139" class="lines-num">
								<span id="L139" data-line-number="139"></span>
							</td>
							<td rel="L139" class="lines-code chroma">
								<code>        &#34;    def store(self, state, action, reward, next_state, done):\n&#34;,</code>
							</td>
						</tr>
						
						<tr>
							<td id="L140" class="lines-num">
								<span id="L140" data-line-number="140"></span>
							</td>
							<td rel="L140" class="lines-code chroma">
								<code>        &#34;        reward = np.clip(reward, -1, 1)  # Clip rewards for stability\n&#34;,</code>
							</td>
						</tr>
						
						<tr>
							<td id="L141" class="lines-num">
								<span id="L141" data-line-number="141"></span>
							</td>
							<td rel="L141" class="lines-code chroma">
								<code>        &#34;        self.memory.append((state, action, reward, next_state, float(done)))\n&#34;,</code>
							</td>
						</tr>
						
						<tr>
							<td id="L142" class="lines-num">
								<span id="L142" data-line-number="142"></span>
							</td>
							<td rel="L142" class="lines-code chroma">
								<code>        &#34;\n&#34;,</code>
							</td>
						</tr>
						
						<tr>
							<td id="L143" class="lines-num">
								<span id="L143" data-line-number="143"></span>
							</td>
							<td rel="L143" class="lines-code chroma">
								<code>        &#34;    def train(self):\n&#34;,</code>
							</td>
						</tr>
						
						<tr>
							<td id="L144" class="lines-num">
								<span id="L144" data-line-number="144"></span>
							</td>
							<td rel="L144" class="lines-code chroma">
								<code>        &#34;        if len(self.memory) &lt; BATCH_SIZE:\n&#34;,</code>
							</td>
						</tr>
						
						<tr>
							<td id="L145" class="lines-num">
								<span id="L145" data-line-number="145"></span>
							</td>
							<td rel="L145" class="lines-code chroma">
								<code>        &#34;            return\n&#34;,</code>
							</td>
						</tr>
						
						<tr>
							<td id="L146" class="lines-num">
								<span id="L146" data-line-number="146"></span>
							</td>
							<td rel="L146" class="lines-code chroma">
								<code>        &#34;        batch = random.sample(self.memory, BATCH_SIZE)\n&#34;,</code>
							</td>
						</tr>
						
						<tr>
							<td id="L147" class="lines-num">
								<span id="L147" data-line-number="147"></span>
							</td>
							<td rel="L147" class="lines-code chroma">
								<code>        &#34;        states, actions, rewards, next_states, dones = zip(*batch)\n&#34;,</code>
							</td>
						</tr>
						
						<tr>
							<td id="L148" class="lines-num">
								<span id="L148" data-line-number="148"></span>
							</td>
							<td rel="L148" class="lines-code chroma">
								<code>        &#34;\n&#34;,</code>
							</td>
						</tr>
						
						<tr>
							<td id="L149" class="lines-num">
								<span id="L149" data-line-number="149"></span>
							</td>
							<td rel="L149" class="lines-code chroma">
								<code>        &#34;        states = torch.FloatTensor(np.array(states)).to(self.device)\n&#34;,</code>
							</td>
						</tr>
						
						<tr>
							<td id="L150" class="lines-num">
								<span id="L150" data-line-number="150"></span>
							</td>
							<td rel="L150" class="lines-code chroma">
								<code>        &#34;        actions = torch.LongTensor(actions).to(self.device)\n&#34;,</code>
							</td>
						</tr>
						
						<tr>
							<td id="L151" class="lines-num">
								<span id="L151" data-line-number="151"></span>
							</td>
							<td rel="L151" class="lines-code chroma">
								<code>        &#34;        rewards = torch.FloatTensor(rewards).to(self.device)\n&#34;,</code>
							</td>
						</tr>
						
						<tr>
							<td id="L152" class="lines-num">
								<span id="L152" data-line-number="152"></span>
							</td>
							<td rel="L152" class="lines-code chroma">
								<code>        &#34;        next_states = torch.FloatTensor(np.array(next_states)).to(self.device)\n&#34;,</code>
							</td>
						</tr>
						
						<tr>
							<td id="L153" class="lines-num">
								<span id="L153" data-line-number="153"></span>
							</td>
							<td rel="L153" class="lines-code chroma">
								<code>        &#34;        dones = torch.FloatTensor(dones).to(self.device)\n&#34;,</code>
							</td>
						</tr>
						
						<tr>
							<td id="L154" class="lines-num">
								<span id="L154" data-line-number="154"></span>
							</td>
							<td rel="L154" class="lines-code chroma">
								<code>        &#34;\n&#34;,</code>
							</td>
						</tr>
						
						<tr>
							<td id="L155" class="lines-num">
								<span id="L155" data-line-number="155"></span>
							</td>
							<td rel="L155" class="lines-code chroma">
								<code>        &#34;        q_values = self.policy_net(states).gather(1, actions.unsqueeze(1)).squeeze(1)\n&#34;,</code>
							</td>
						</tr>
						
						<tr>
							<td id="L156" class="lines-num">
								<span id="L156" data-line-number="156"></span>
							</td>
							<td rel="L156" class="lines-code chroma">
								<code>        &#34;        next_q_values = self.target_net(next_states).max(1)[0].detach()\n&#34;,</code>
							</td>
						</tr>
						
						<tr>
							<td id="L157" class="lines-num">
								<span id="L157" data-line-number="157"></span>
							</td>
							<td rel="L157" class="lines-code chroma">
								<code>        &#34;        targets = rewards + GAMMA * next_q_values * (1 - dones)\n&#34;,</code>
							</td>
						</tr>
						
						<tr>
							<td id="L158" class="lines-num">
								<span id="L158" data-line-number="158"></span>
							</td>
							<td rel="L158" class="lines-code chroma">
								<code>        &#34;\n&#34;,</code>
							</td>
						</tr>
						
						<tr>
							<td id="L159" class="lines-num">
								<span id="L159" data-line-number="159"></span>
							</td>
							<td rel="L159" class="lines-code chroma">
								<code>        &#34;        loss = nn.MSELoss()(q_values, targets)\n&#34;,</code>
							</td>
						</tr>
						
						<tr>
							<td id="L160" class="lines-num">
								<span id="L160" data-line-number="160"></span>
							</td>
							<td rel="L160" class="lines-code chroma">
								<code>        &#34;        self.optimizer.zero_grad()\n&#34;,</code>
							</td>
						</tr>
						
						<tr>
							<td id="L161" class="lines-num">
								<span id="L161" data-line-number="161"></span>
							</td>
							<td rel="L161" class="lines-code chroma">
								<code>        &#34;        loss.backward()\n&#34;,</code>
							</td>
						</tr>
						
						<tr>
							<td id="L162" class="lines-num">
								<span id="L162" data-line-number="162"></span>
							</td>
							<td rel="L162" class="lines-code chroma">
								<code>        &#34;\n&#34;,</code>
							</td>
						</tr>
						
						<tr>
							<td id="L163" class="lines-num">
								<span id="L163" data-line-number="163"></span>
							</td>
							<td rel="L163" class="lines-code chroma">
								<code>        &#34;        torch.nn.utils.clip_grad_norm_(self.policy_net.parameters(), 1.0)\n&#34;,</code>
							</td>
						</tr>
						
						<tr>
							<td id="L164" class="lines-num">
								<span id="L164" data-line-number="164"></span>
							</td>
							<td rel="L164" class="lines-code chroma">
								<code>        &#34;        self.optimizer.step()\n&#34;,</code>
							</td>
						</tr>
						
						<tr>
							<td id="L165" class="lines-num">
								<span id="L165" data-line-number="165"></span>
							</td>
							<td rel="L165" class="lines-code chroma">
								<code>        &#34;\n&#34;,</code>
							</td>
						</tr>
						
						<tr>
							<td id="L166" class="lines-num">
								<span id="L166" data-line-number="166"></span>
							</td>
							<td rel="L166" class="lines-code chroma">
								<code>        &#34;    def update_target(self):\n&#34;,</code>
							</td>
						</tr>
						
						<tr>
							<td id="L167" class="lines-num">
								<span id="L167" data-line-number="167"></span>
							</td>
							<td rel="L167" class="lines-code chroma">
								<code>        &#34;        self.target_net.load_state_dict(self.policy_net.state_dict())\n&#34;,</code>
							</td>
						</tr>
						
						<tr>
							<td id="L168" class="lines-num">
								<span id="L168" data-line-number="168"></span>
							</td>
							<td rel="L168" class="lines-code chroma">
								<code>        &#34;\n&#34;,</code>
							</td>
						</tr>
						
						<tr>
							<td id="L169" class="lines-num">
								<span id="L169" data-line-number="169"></span>
							</td>
							<td rel="L169" class="lines-code chroma">
								<code>        &#34;    def decay_epsilon(self):\n&#34;,</code>
							</td>
						</tr>
						
						<tr>
							<td id="L170" class="lines-num">
								<span id="L170" data-line-number="170"></span>
							</td>
							<td rel="L170" class="lines-code chroma">
								<code>        &#34;        self.epsilon = max(EPSILON_END, self.epsilon * EPSILON_DECAY)&#34;</code>
							</td>
						</tr>
						
						<tr>
							<td id="L171" class="lines-num">
								<span id="L171" data-line-number="171"></span>
							</td>
							<td rel="L171" class="lines-code chroma">
								<code>      ]</code>
							</td>
						</tr>
						
						<tr>
							<td id="L172" class="lines-num">
								<span id="L172" data-line-number="172"></span>
							</td>
							<td rel="L172" class="lines-code chroma">
								<code>    },</code>
							</td>
						</tr>
						
						<tr>
							<td id="L173" class="lines-num">
								<span id="L173" data-line-number="173"></span>
							</td>
							<td rel="L173" class="lines-code chroma">
								<code>    {</code>
							</td>
						</tr>
						
						<tr>
							<td id="L174" class="lines-num">
								<span id="L174" data-line-number="174"></span>
							</td>
							<td rel="L174" class="lines-code chroma">
								<code>      &#34;cell_type&#34;: &#34;markdown&#34;,</code>
							</td>
						</tr>
						
						<tr>
							<td id="L175" class="lines-num">
								<span id="L175" data-line-number="175"></span>
							</td>
							<td rel="L175" class="lines-code chroma">
								<code>      &#34;id&#34;: &#34;11a78f17-e6af-41fb-a6d1-239206a347e0&#34;,</code>
							</td>
						</tr>
						
						<tr>
							<td id="L176" class="lines-num">
								<span id="L176" data-line-number="176"></span>
							</td>
							<td rel="L176" class="lines-code chroma">
								<code>      &#34;metadata&#34;: {</code>
							</td>
						</tr>
						
						<tr>
							<td id="L177" class="lines-num">
								<span id="L177" data-line-number="177"></span>
							</td>
							<td rel="L177" class="lines-code chroma">
								<code>        &#34;id&#34;: &#34;11a78f17-e6af-41fb-a6d1-239206a347e0&#34;</code>
							</td>
						</tr>
						
						<tr>
							<td id="L178" class="lines-num">
								<span id="L178" data-line-number="178"></span>
							</td>
							<td rel="L178" class="lines-code chroma">
								<code>      },</code>
							</td>
						</tr>
						
						<tr>
							<td id="L179" class="lines-num">
								<span id="L179" data-line-number="179"></span>
							</td>
							<td rel="L179" class="lines-code chroma">
								<code>      &#34;source&#34;: [</code>
							</td>
						</tr>
						
						<tr>
							<td id="L180" class="lines-num">
								<span id="L180" data-line-number="180"></span>
							</td>
							<td rel="L180" class="lines-code chroma">
								<code>        &#34;# Training&#34;</code>
							</td>
						</tr>
						
						<tr>
							<td id="L181" class="lines-num">
								<span id="L181" data-line-number="181"></span>
							</td>
							<td rel="L181" class="lines-code chroma">
								<code>      ]</code>
							</td>
						</tr>
						
						<tr>
							<td id="L182" class="lines-num">
								<span id="L182" data-line-number="182"></span>
							</td>
							<td rel="L182" class="lines-code chroma">
								<code>    },</code>
							</td>
						</tr>
						
						<tr>
							<td id="L183" class="lines-num">
								<span id="L183" data-line-number="183"></span>
							</td>
							<td rel="L183" class="lines-code chroma">
								<code>    {</code>
							</td>
						</tr>
						
						<tr>
							<td id="L184" class="lines-num">
								<span id="L184" data-line-number="184"></span>
							</td>
							<td rel="L184" class="lines-code chroma">
								<code>      &#34;cell_type&#34;: &#34;code&#34;,</code>
							</td>
						</tr>
						
						<tr>
							<td id="L185" class="lines-num">
								<span id="L185" data-line-number="185"></span>
							</td>
							<td rel="L185" class="lines-code chroma">
								<code>      &#34;execution_count&#34;: null,</code>
							</td>
						</tr>
						
						<tr>
							<td id="L186" class="lines-num">
								<span id="L186" data-line-number="186"></span>
							</td>
							<td rel="L186" class="lines-code chroma">
								<code>      &#34;id&#34;: &#34;26adb94c-1873-4417-ad07-c01755a84947&#34;,</code>
							</td>
						</tr>
						
						<tr>
							<td id="L187" class="lines-num">
								<span id="L187" data-line-number="187"></span>
							</td>
							<td rel="L187" class="lines-code chroma">
								<code>      &#34;metadata&#34;: {</code>
							</td>
						</tr>
						
						<tr>
							<td id="L188" class="lines-num">
								<span id="L188" data-line-number="188"></span>
							</td>
							<td rel="L188" class="lines-code chroma">
								<code>        &#34;id&#34;: &#34;26adb94c-1873-4417-ad07-c01755a84947&#34;,</code>
							</td>
						</tr>
						
						<tr>
							<td id="L189" class="lines-num">
								<span id="L189" data-line-number="189"></span>
							</td>
							<td rel="L189" class="lines-code chroma">
								<code>        &#34;outputId&#34;: &#34;c4ce812f-649a-4134-e252-0f9a8a3b1f2d&#34;</code>
							</td>
						</tr>
						
						<tr>
							<td id="L190" class="lines-num">
								<span id="L190" data-line-number="190"></span>
							</td>
							<td rel="L190" class="lines-code chroma">
								<code>      },</code>
							</td>
						</tr>
						
						<tr>
							<td id="L191" class="lines-num">
								<span id="L191" data-line-number="191"></span>
							</td>
							<td rel="L191" class="lines-code chroma">
								<code>      &#34;outputs&#34;: [</code>
							</td>
						</tr>
						
						<tr>
							<td id="L192" class="lines-num">
								<span id="L192" data-line-number="192"></span>
							</td>
							<td rel="L192" class="lines-code chroma">
								<code>        {</code>
							</td>
						</tr>
						
						<tr>
							<td id="L193" class="lines-num">
								<span id="L193" data-line-number="193"></span>
							</td>
							<td rel="L193" class="lines-code chroma">
								<code>          &#34;name&#34;: &#34;stdout&#34;,</code>
							</td>
						</tr>
						
						<tr>
							<td id="L194" class="lines-num">
								<span id="L194" data-line-number="194"></span>
							</td>
							<td rel="L194" class="lines-code chroma">
								<code>          &#34;output_type&#34;: &#34;stream&#34;,</code>
							</td>
						</tr>
						
						<tr>
							<td id="L195" class="lines-num">
								<span id="L195" data-line-number="195"></span>
							</td>
							<td rel="L195" class="lines-code chroma">
								<code>          &#34;text&#34;: [</code>
							</td>
						</tr>
						
						<tr>
							<td id="L196" class="lines-num">
								<span id="L196" data-line-number="196"></span>
							</td>
							<td rel="L196" class="lines-code chroma">
								<code>            &#34;Episode 0, Reward: 15.0, Epsilon: 0.9950\n&#34;,</code>
							</td>
						</tr>
						
						<tr>
							<td id="L197" class="lines-num">
								<span id="L197" data-line-number="197"></span>
							</td>
							<td rel="L197" class="lines-code chroma">
								<code>            &#34;Episode 10, Reward: 26.0, Epsilon: 0.9464\n&#34;,</code>
							</td>
						</tr>
						
						<tr>
							<td id="L198" class="lines-num">
								<span id="L198" data-line-number="198"></span>
							</td>
							<td rel="L198" class="lines-code chroma">
								<code>            &#34;Episode 20, Reward: 21.0, Epsilon: 0.9001\n&#34;,</code>
							</td>
						</tr>
						
						<tr>
							<td id="L199" class="lines-num">
								<span id="L199" data-line-number="199"></span>
							</td>
							<td rel="L199" class="lines-code chroma">
								<code>            &#34;Episode 30, Reward: 9.0, Epsilon: 0.8561\n&#34;,</code>
							</td>
						</tr>
						
						<tr>
							<td id="L200" class="lines-num">
								<span id="L200" data-line-number="200"></span>
							</td>
							<td rel="L200" class="lines-code chroma">
								<code>            &#34;Episode 40, Reward: 27.0, Epsilon: 0.8142\n&#34;,</code>
							</td>
						</tr>
						
						<tr>
							<td id="L201" class="lines-num">
								<span id="L201" data-line-number="201"></span>
							</td>
							<td rel="L201" class="lines-code chroma">
								<code>            &#34;Episode 50, Reward: 26.0, Epsilon: 0.7744\n&#34;,</code>
							</td>
						</tr>
						
						<tr>
							<td id="L202" class="lines-num">
								<span id="L202" data-line-number="202"></span>
							</td>
							<td rel="L202" class="lines-code chroma">
								<code>            &#34;Episode 60, Reward: 31.0, Epsilon: 0.7366\n&#34;,</code>
							</td>
						</tr>
						
						<tr>
							<td id="L203" class="lines-num">
								<span id="L203" data-line-number="203"></span>
							</td>
							<td rel="L203" class="lines-code chroma">
								<code>            &#34;Episode 70, Reward: 64.0, Epsilon: 0.7005\n&#34;,</code>
							</td>
						</tr>
						
						<tr>
							<td id="L204" class="lines-num">
								<span id="L204" data-line-number="204"></span>
							</td>
							<td rel="L204" class="lines-code chroma">
								<code>            &#34;Episode 80, Reward: 24.0, Epsilon: 0.6663\n&#34;,</code>
							</td>
						</tr>
						
						<tr>
							<td id="L205" class="lines-num">
								<span id="L205" data-line-number="205"></span>
							</td>
							<td rel="L205" class="lines-code chroma">
								<code>            &#34;Episode 90, Reward: 46.0, Epsilon: 0.6337\n&#34;,</code>
							</td>
						</tr>
						
						<tr>
							<td id="L206" class="lines-num">
								<span id="L206" data-line-number="206"></span>
							</td>
							<td rel="L206" class="lines-code chroma">
								<code>            &#34;Episode 100, Reward: 40.0, Epsilon: 0.6027\n&#34;,</code>
							</td>
						</tr>
						
						<tr>
							<td id="L207" class="lines-num">
								<span id="L207" data-line-number="207"></span>
							</td>
							<td rel="L207" class="lines-code chroma">
								<code>            &#34;Episode 110, Reward: 67.0, Epsilon: 0.5733\n&#34;,</code>
							</td>
						</tr>
						
						<tr>
							<td id="L208" class="lines-num">
								<span id="L208" data-line-number="208"></span>
							</td>
							<td rel="L208" class="lines-code chroma">
								<code>            &#34;Episode 120, Reward: 28.0, Epsilon: 0.5452\n&#34;,</code>
							</td>
						</tr>
						
						<tr>
							<td id="L209" class="lines-num">
								<span id="L209" data-line-number="209"></span>
							</td>
							<td rel="L209" class="lines-code chroma">
								<code>            &#34;Episode 130, Reward: 68.0, Epsilon: 0.5186\n&#34;,</code>
							</td>
						</tr>
						
						<tr>
							<td id="L210" class="lines-num">
								<span id="L210" data-line-number="210"></span>
							</td>
							<td rel="L210" class="lines-code chroma">
								<code>            &#34;Episode 140, Reward: 93.0, Epsilon: 0.4932\n&#34;,</code>
							</td>
						</tr>
						
						<tr>
							<td id="L211" class="lines-num">
								<span id="L211" data-line-number="211"></span>
							</td>
							<td rel="L211" class="lines-code chroma">
								<code>            &#34;Episode 150, Reward: 109.0, Epsilon: 0.4691\n&#34;,</code>
							</td>
						</tr>
						
						<tr>
							<td id="L212" class="lines-num">
								<span id="L212" data-line-number="212"></span>
							</td>
							<td rel="L212" class="lines-code chroma">
								<code>            &#34;Episode 160, Reward: 49.0, Epsilon: 0.4462\n&#34;,</code>
							</td>
						</tr>
						
						<tr>
							<td id="L213" class="lines-num">
								<span id="L213" data-line-number="213"></span>
							</td>
							<td rel="L213" class="lines-code chroma">
								<code>            &#34;Episode 170, Reward: 101.0, Epsilon: 0.4244\n&#34;,</code>
							</td>
						</tr>
						
						<tr>
							<td id="L214" class="lines-num">
								<span id="L214" data-line-number="214"></span>
							</td>
							<td rel="L214" class="lines-code chroma">
								<code>            &#34;Episode 180, Reward: 27.0, Epsilon: 0.4036\n&#34;,</code>
							</td>
						</tr>
						
						<tr>
							<td id="L215" class="lines-num">
								<span id="L215" data-line-number="215"></span>
							</td>
							<td rel="L215" class="lines-code chroma">
								<code>            &#34;Episode 190, Reward: 17.0, Epsilon: 0.3839\n&#34;,</code>
							</td>
						</tr>
						
						<tr>
							<td id="L216" class="lines-num">
								<span id="L216" data-line-number="216"></span>
							</td>
							<td rel="L216" class="lines-code chroma">
								<code>            &#34;Episode 200, Reward: 27.0, Epsilon: 0.3651\n&#34;,</code>
							</td>
						</tr>
						
						<tr>
							<td id="L217" class="lines-num">
								<span id="L217" data-line-number="217"></span>
							</td>
							<td rel="L217" class="lines-code chroma">
								<code>            &#34;Episode 210, Reward: 25.0, Epsilon: 0.3473\n&#34;,</code>
							</td>
						</tr>
						
						<tr>
							<td id="L218" class="lines-num">
								<span id="L218" data-line-number="218"></span>
							</td>
							<td rel="L218" class="lines-code chroma">
								<code>            &#34;Episode 220, Reward: 22.0, Epsilon: 0.3303\n&#34;,</code>
							</td>
						</tr>
						
						<tr>
							<td id="L219" class="lines-num">
								<span id="L219" data-line-number="219"></span>
							</td>
							<td rel="L219" class="lines-code chroma">
								<code>            &#34;Episode 230, Reward: 39.0, Epsilon: 0.3141\n&#34;,</code>
							</td>
						</tr>
						
						<tr>
							<td id="L220" class="lines-num">
								<span id="L220" data-line-number="220"></span>
							</td>
							<td rel="L220" class="lines-code chroma">
								<code>            &#34;Episode 240, Reward: 104.0, Epsilon: 0.2988\n&#34;,</code>
							</td>
						</tr>
						
						<tr>
							<td id="L221" class="lines-num">
								<span id="L221" data-line-number="221"></span>
							</td>
							<td rel="L221" class="lines-code chroma">
								<code>            &#34;Episode 250, Reward: 100.0, Epsilon: 0.2842\n&#34;,</code>
							</td>
						</tr>
						
						<tr>
							<td id="L222" class="lines-num">
								<span id="L222" data-line-number="222"></span>
							</td>
							<td rel="L222" class="lines-code chroma">
								<code>            &#34;Episode 260, Reward: 137.0, Epsilon: 0.2703\n&#34;,</code>
							</td>
						</tr>
						
						<tr>
							<td id="L223" class="lines-num">
								<span id="L223" data-line-number="223"></span>
							</td>
							<td rel="L223" class="lines-code chroma">
								<code>            &#34;Episode 270, Reward: 141.0, Epsilon: 0.2571\n&#34;,</code>
							</td>
						</tr>
						
						<tr>
							<td id="L224" class="lines-num">
								<span id="L224" data-line-number="224"></span>
							</td>
							<td rel="L224" class="lines-code chroma">
								<code>            &#34;Episode 280, Reward: 178.0, Epsilon: 0.2445\n&#34;,</code>
							</td>
						</tr>
						
						<tr>
							<td id="L225" class="lines-num">
								<span id="L225" data-line-number="225"></span>
							</td>
							<td rel="L225" class="lines-code chroma">
								<code>            &#34;Episode 290, Reward: 36.0, Epsilon: 0.2326\n&#34;,</code>
							</td>
						</tr>
						
						<tr>
							<td id="L226" class="lines-num">
								<span id="L226" data-line-number="226"></span>
							</td>
							<td rel="L226" class="lines-code chroma">
								<code>            &#34;Episode 300, Reward: 91.0, Epsilon: 0.2212\n&#34;,</code>
							</td>
						</tr>
						
						<tr>
							<td id="L227" class="lines-num">
								<span id="L227" data-line-number="227"></span>
							</td>
							<td rel="L227" class="lines-code chroma">
								<code>            &#34;Episode 310, Reward: 203.0, Epsilon: 0.2104\n&#34;,</code>
							</td>
						</tr>
						
						<tr>
							<td id="L228" class="lines-num">
								<span id="L228" data-line-number="228"></span>
							</td>
							<td rel="L228" class="lines-code chroma">
								<code>            &#34;Episode 320, Reward: 183.0, Epsilon: 0.2001\n&#34;,</code>
							</td>
						</tr>
						
						<tr>
							<td id="L229" class="lines-num">
								<span id="L229" data-line-number="229"></span>
							</td>
							<td rel="L229" class="lines-code chroma">
								<code>            &#34;Episode 330, Reward: 208.0, Epsilon: 0.1903\n&#34;,</code>
							</td>
						</tr>
						
						<tr>
							<td id="L230" class="lines-num">
								<span id="L230" data-line-number="230"></span>
							</td>
							<td rel="L230" class="lines-code chroma">
								<code>            &#34;Episode 340, Reward: 114.0, Epsilon: 0.1810\n&#34;,</code>
							</td>
						</tr>
						
						<tr>
							<td id="L231" class="lines-num">
								<span id="L231" data-line-number="231"></span>
							</td>
							<td rel="L231" class="lines-code chroma">
								<code>            &#34;Episode 350, Reward: 154.0, Epsilon: 0.1721\n&#34;,</code>
							</td>
						</tr>
						
						<tr>
							<td id="L232" class="lines-num">
								<span id="L232" data-line-number="232"></span>
							</td>
							<td rel="L232" class="lines-code chroma">
								<code>            &#34;Episode 360, Reward: 103.0, Epsilon: 0.1637\n&#34;,</code>
							</td>
						</tr>
						
						<tr>
							<td id="L233" class="lines-num">
								<span id="L233" data-line-number="233"></span>
							</td>
							<td rel="L233" class="lines-code chroma">
								<code>            &#34;Episode 370, Reward: 44.0, Epsilon: 0.1557\n&#34;,</code>
							</td>
						</tr>
						
						<tr>
							<td id="L234" class="lines-num">
								<span id="L234" data-line-number="234"></span>
							</td>
							<td rel="L234" class="lines-code chroma">
								<code>            &#34;Episode 380, Reward: 191.0, Epsilon: 0.1481\n&#34;,</code>
							</td>
						</tr>
						
						<tr>
							<td id="L235" class="lines-num">
								<span id="L235" data-line-number="235"></span>
							</td>
							<td rel="L235" class="lines-code chroma">
								<code>            &#34;Episode 390, Reward: 17.0, Epsilon: 0.1409\n&#34;,</code>
							</td>
						</tr>
						
						<tr>
							<td id="L236" class="lines-num">
								<span id="L236" data-line-number="236"></span>
							</td>
							<td rel="L236" class="lines-code chroma">
								<code>            &#34;Episode 400, Reward: 90.0, Epsilon: 0.1340\n&#34;,</code>
							</td>
						</tr>
						
						<tr>
							<td id="L237" class="lines-num">
								<span id="L237" data-line-number="237"></span>
							</td>
							<td rel="L237" class="lines-code chroma">
								<code>            &#34;Episode 410, Reward: 106.0, Epsilon: 0.1274\n&#34;,</code>
							</td>
						</tr>
						
						<tr>
							<td id="L238" class="lines-num">
								<span id="L238" data-line-number="238"></span>
							</td>
							<td rel="L238" class="lines-code chroma">
								<code>            &#34;Episode 420, Reward: 150.0, Epsilon: 0.1212\n&#34;,</code>
							</td>
						</tr>
						
						<tr>
							<td id="L239" class="lines-num">
								<span id="L239" data-line-number="239"></span>
							</td>
							<td rel="L239" class="lines-code chroma">
								<code>            &#34;Episode 430, Reward: 120.0, Epsilon: 0.1153\n&#34;,</code>
							</td>
						</tr>
						
						<tr>
							<td id="L240" class="lines-num">
								<span id="L240" data-line-number="240"></span>
							</td>
							<td rel="L240" class="lines-code chroma">
								<code>            &#34;Episode 440, Reward: 38.0, Epsilon: 0.1096\n&#34;,</code>
							</td>
						</tr>
						
						<tr>
							<td id="L241" class="lines-num">
								<span id="L241" data-line-number="241"></span>
							</td>
							<td rel="L241" class="lines-code chroma">
								<code>            &#34;Episode 450, Reward: 391.0, Epsilon: 0.1043\n&#34;,</code>
							</td>
						</tr>
						
						<tr>
							<td id="L242" class="lines-num">
								<span id="L242" data-line-number="242"></span>
							</td>
							<td rel="L242" class="lines-code chroma">
								<code>            &#34;Episode 460, Reward: 118.0, Epsilon: 0.0992\n&#34;,</code>
							</td>
						</tr>
						
						<tr>
							<td id="L243" class="lines-num">
								<span id="L243" data-line-number="243"></span>
							</td>
							<td rel="L243" class="lines-code chroma">
								<code>            &#34;Episode 470, Reward: 149.0, Epsilon: 0.0943\n&#34;,</code>
							</td>
						</tr>
						
						<tr>
							<td id="L244" class="lines-num">
								<span id="L244" data-line-number="244"></span>
							</td>
							<td rel="L244" class="lines-code chroma">
								<code>            &#34;Episode 480, Reward: 129.0, Epsilon: 0.0897\n&#34;,</code>
							</td>
						</tr>
						
						<tr>
							<td id="L245" class="lines-num">
								<span id="L245" data-line-number="245"></span>
							</td>
							<td rel="L245" class="lines-code chroma">
								<code>            &#34;Episode 490, Reward: 116.0, Epsilon: 0.0853\n&#34;,</code>
							</td>
						</tr>
						
						<tr>
							<td id="L246" class="lines-num">
								<span id="L246" data-line-number="246"></span>
							</td>
							<td rel="L246" class="lines-code chroma">
								<code>            &#34;Episode 500, Reward: 124.0, Epsilon: 0.0812\n&#34;,</code>
							</td>
						</tr>
						
						<tr>
							<td id="L247" class="lines-num">
								<span id="L247" data-line-number="247"></span>
							</td>
							<td rel="L247" class="lines-code chroma">
								<code>            &#34;Episode 510, Reward: 114.0, Epsilon: 0.0772\n&#34;,</code>
							</td>
						</tr>
						
						<tr>
							<td id="L248" class="lines-num">
								<span id="L248" data-line-number="248"></span>
							</td>
							<td rel="L248" class="lines-code chroma">
								<code>            &#34;Episode 520, Reward: 133.0, Epsilon: 0.0734\n&#34;,</code>
							</td>
						</tr>
						
						<tr>
							<td id="L249" class="lines-num">
								<span id="L249" data-line-number="249"></span>
							</td>
							<td rel="L249" class="lines-code chroma">
								<code>            &#34;Episode 530, Reward: 194.0, Epsilon: 0.0698\n&#34;,</code>
							</td>
						</tr>
						
						<tr>
							<td id="L250" class="lines-num">
								<span id="L250" data-line-number="250"></span>
							</td>
							<td rel="L250" class="lines-code chroma">
								<code>            &#34;Episode 540, Reward: 54.0, Epsilon: 0.0664\n&#34;,</code>
							</td>
						</tr>
						
						<tr>
							<td id="L251" class="lines-num">
								<span id="L251" data-line-number="251"></span>
							</td>
							<td rel="L251" class="lines-code chroma">
								<code>            &#34;Episode 550, Reward: 201.0, Epsilon: 0.0632\n&#34;,</code>
							</td>
						</tr>
						
						<tr>
							<td id="L252" class="lines-num">
								<span id="L252" data-line-number="252"></span>
							</td>
							<td rel="L252" class="lines-code chroma">
								<code>            &#34;Episode 560, Reward: 140.0, Epsilon: 0.0601\n&#34;,</code>
							</td>
						</tr>
						
						<tr>
							<td id="L253" class="lines-num">
								<span id="L253" data-line-number="253"></span>
							</td>
							<td rel="L253" class="lines-code chroma">
								<code>            &#34;Episode 570, Reward: 91.0, Epsilon: 0.0571\n&#34;,</code>
							</td>
						</tr>
						
						<tr>
							<td id="L254" class="lines-num">
								<span id="L254" data-line-number="254"></span>
							</td>
							<td rel="L254" class="lines-code chroma">
								<code>            &#34;Episode 580, Reward: 332.0, Epsilon: 0.0544\n&#34;,</code>
							</td>
						</tr>
						
						<tr>
							<td id="L255" class="lines-num">
								<span id="L255" data-line-number="255"></span>
							</td>
							<td rel="L255" class="lines-code chroma">
								<code>            &#34;Episode 590, Reward: 230.0, Epsilon: 0.0517\n&#34;,</code>
							</td>
						</tr>
						
						<tr>
							<td id="L256" class="lines-num">
								<span id="L256" data-line-number="256"></span>
							</td>
							<td rel="L256" class="lines-code chroma">
								<code>            &#34;Episode 600, Reward: 178.0, Epsilon: 0.0492\n&#34;,</code>
							</td>
						</tr>
						
						<tr>
							<td id="L257" class="lines-num">
								<span id="L257" data-line-number="257"></span>
							</td>
							<td rel="L257" class="lines-code chroma">
								<code>            &#34;Episode 610, Reward: 186.0, Epsilon: 0.0468\n&#34;,</code>
							</td>
						</tr>
						
						<tr>
							<td id="L258" class="lines-num">
								<span id="L258" data-line-number="258"></span>
							</td>
							<td rel="L258" class="lines-code chroma">
								<code>            &#34;Episode 620, Reward: 166.0, Epsilon: 0.0445\n&#34;,</code>
							</td>
						</tr>
						
						<tr>
							<td id="L259" class="lines-num">
								<span id="L259" data-line-number="259"></span>
							</td>
							<td rel="L259" class="lines-code chroma">
								<code>            &#34;Episode 630, Reward: 176.0, Epsilon: 0.0423\n&#34;,</code>
							</td>
						</tr>
						
						<tr>
							<td id="L260" class="lines-num">
								<span id="L260" data-line-number="260"></span>
							</td>
							<td rel="L260" class="lines-code chroma">
								<code>            &#34;Episode 640, Reward: 195.0, Epsilon: 0.0402\n&#34;,</code>
							</td>
						</tr>
						
						<tr>
							<td id="L261" class="lines-num">
								<span id="L261" data-line-number="261"></span>
							</td>
							<td rel="L261" class="lines-code chroma">
								<code>            &#34;Episode 650, Reward: 220.0, Epsilon: 0.0383\n&#34;,</code>
							</td>
						</tr>
						
						<tr>
							<td id="L262" class="lines-num">
								<span id="L262" data-line-number="262"></span>
							</td>
							<td rel="L262" class="lines-code chroma">
								<code>            &#34;Episode 660, Reward: 14.0, Epsilon: 0.0364\n&#34;,</code>
							</td>
						</tr>
						
						<tr>
							<td id="L263" class="lines-num">
								<span id="L263" data-line-number="263"></span>
							</td>
							<td rel="L263" class="lines-code chroma">
								<code>            &#34;Episode 670, Reward: 236.0, Epsilon: 0.0346\n&#34;,</code>
							</td>
						</tr>
						
						<tr>
							<td id="L264" class="lines-num">
								<span id="L264" data-line-number="264"></span>
							</td>
							<td rel="L264" class="lines-code chroma">
								<code>            &#34;Episode 680, Reward: 302.0, Epsilon: 0.0329\n&#34;,</code>
							</td>
						</tr>
						
						<tr>
							<td id="L265" class="lines-num">
								<span id="L265" data-line-number="265"></span>
							</td>
							<td rel="L265" class="lines-code chroma">
								<code>            &#34;Episode 690, Reward: 249.0, Epsilon: 0.0313\n&#34;,</code>
							</td>
						</tr>
						
						<tr>
							<td id="L266" class="lines-num">
								<span id="L266" data-line-number="266"></span>
							</td>
							<td rel="L266" class="lines-code chroma">
								<code>            &#34;Episode 700, Reward: 277.0, Epsilon: 0.0298\n&#34;,</code>
							</td>
						</tr>
						
						<tr>
							<td id="L267" class="lines-num">
								<span id="L267" data-line-number="267"></span>
							</td>
							<td rel="L267" class="lines-code chroma">
								<code>            &#34;Episode 710, Reward: 250.0, Epsilon: 0.0283\n&#34;,</code>
							</td>
						</tr>
						
						<tr>
							<td id="L268" class="lines-num">
								<span id="L268" data-line-number="268"></span>
							</td>
							<td rel="L268" class="lines-code chroma">
								<code>            &#34;Episode 720, Reward: 375.0, Epsilon: 0.0269\n&#34;,</code>
							</td>
						</tr>
						
						<tr>
							<td id="L269" class="lines-num">
								<span id="L269" data-line-number="269"></span>
							</td>
							<td rel="L269" class="lines-code chroma">
								<code>            &#34;Episode 730, Reward: 500.0, Epsilon: 0.0256\n&#34;,</code>
							</td>
						</tr>
						
						<tr>
							<td id="L270" class="lines-num">
								<span id="L270" data-line-number="270"></span>
							</td>
							<td rel="L270" class="lines-code chroma">
								<code>            &#34;Episode 740, Reward: 500.0, Epsilon: 0.0244\n&#34;,</code>
							</td>
						</tr>
						
						<tr>
							<td id="L271" class="lines-num">
								<span id="L271" data-line-number="271"></span>
							</td>
							<td rel="L271" class="lines-code chroma">
								<code>            &#34;Episode 750, Reward: 500.0, Epsilon: 0.0232\n&#34;,</code>
							</td>
						</tr>
						
						<tr>
							<td id="L272" class="lines-num">
								<span id="L272" data-line-number="272"></span>
							</td>
							<td rel="L272" class="lines-code chroma">
								<code>            &#34;Episode 760, Reward: 492.0, Epsilon: 0.0220\n&#34;,</code>
							</td>
						</tr>
						
						<tr>
							<td id="L273" class="lines-num">
								<span id="L273" data-line-number="273"></span>
							</td>
							<td rel="L273" class="lines-code chroma">
								<code>            &#34;Episode 770, Reward: 366.0, Epsilon: 0.0210\n&#34;,</code>
							</td>
						</tr>
						
						<tr>
							<td id="L274" class="lines-num">
								<span id="L274" data-line-number="274"></span>
							</td>
							<td rel="L274" class="lines-code chroma">
								<code>            &#34;Episode 780, Reward: 348.0, Epsilon: 0.0199\n&#34;,</code>
							</td>
						</tr>
						
						<tr>
							<td id="L275" class="lines-num">
								<span id="L275" data-line-number="275"></span>
							</td>
							<td rel="L275" class="lines-code chroma">
								<code>            &#34;Episode 790, Reward: 302.0, Epsilon: 0.0190\n&#34;,</code>
							</td>
						</tr>
						
						<tr>
							<td id="L276" class="lines-num">
								<span id="L276" data-line-number="276"></span>
							</td>
							<td rel="L276" class="lines-code chroma">
								<code>            &#34;Episode 800, Reward: 52.0, Epsilon: 0.0180\n&#34;,</code>
							</td>
						</tr>
						
						<tr>
							<td id="L277" class="lines-num">
								<span id="L277" data-line-number="277"></span>
							</td>
							<td rel="L277" class="lines-code chroma">
								<code>            &#34;Episode 810, Reward: 98.0, Epsilon: 0.0172\n&#34;,</code>
							</td>
						</tr>
						
						<tr>
							<td id="L278" class="lines-num">
								<span id="L278" data-line-number="278"></span>
							</td>
							<td rel="L278" class="lines-code chroma">
								<code>            &#34;Episode 820, Reward: 312.0, Epsilon: 0.0163\n&#34;,</code>
							</td>
						</tr>
						
						<tr>
							<td id="L279" class="lines-num">
								<span id="L279" data-line-number="279"></span>
							</td>
							<td rel="L279" class="lines-code chroma">
								<code>            &#34;Episode 830, Reward: 321.0, Epsilon: 0.0155\n&#34;,</code>
							</td>
						</tr>
						
						<tr>
							<td id="L280" class="lines-num">
								<span id="L280" data-line-number="280"></span>
							</td>
							<td rel="L280" class="lines-code chroma">
								<code>            &#34;Episode 840, Reward: 365.0, Epsilon: 0.0148\n&#34;,</code>
							</td>
						</tr>
						
						<tr>
							<td id="L281" class="lines-num">
								<span id="L281" data-line-number="281"></span>
							</td>
							<td rel="L281" class="lines-code chroma">
								<code>            &#34;Episode 850, Reward: 337.0, Epsilon: 0.0140\n&#34;,</code>
							</td>
						</tr>
						
						<tr>
							<td id="L282" class="lines-num">
								<span id="L282" data-line-number="282"></span>
							</td>
							<td rel="L282" class="lines-code chroma">
								<code>            &#34;Episode 860, Reward: 440.0, Epsilon: 0.0134\n&#34;,</code>
							</td>
						</tr>
						
						<tr>
							<td id="L283" class="lines-num">
								<span id="L283" data-line-number="283"></span>
							</td>
							<td rel="L283" class="lines-code chroma">
								<code>            &#34;Episode 870, Reward: 450.0, Epsilon: 0.0127\n&#34;,</code>
							</td>
						</tr>
						
						<tr>
							<td id="L284" class="lines-num">
								<span id="L284" data-line-number="284"></span>
							</td>
							<td rel="L284" class="lines-code chroma">
								<code>            &#34;Episode 880, Reward: 475.0, Epsilon: 0.0121\n&#34;,</code>
							</td>
						</tr>
						
						<tr>
							<td id="L285" class="lines-num">
								<span id="L285" data-line-number="285"></span>
							</td>
							<td rel="L285" class="lines-code chroma">
								<code>            &#34;Episode 890, Reward: 136.0, Epsilon: 0.0115\n&#34;,</code>
							</td>
						</tr>
						
						<tr>
							<td id="L286" class="lines-num">
								<span id="L286" data-line-number="286"></span>
							</td>
							<td rel="L286" class="lines-code chroma">
								<code>            &#34;Episode 900, Reward: 500.0, Epsilon: 0.0109\n&#34;,</code>
							</td>
						</tr>
						
						<tr>
							<td id="L287" class="lines-num">
								<span id="L287" data-line-number="287"></span>
							</td>
							<td rel="L287" class="lines-code chroma">
								<code>            &#34;Episode 910, Reward: 500.0, Epsilon: 0.0104\n&#34;,</code>
							</td>
						</tr>
						
						<tr>
							<td id="L288" class="lines-num">
								<span id="L288" data-line-number="288"></span>
							</td>
							<td rel="L288" class="lines-code chroma">
								<code>            &#34;Episode 920, Reward: 500.0, Epsilon: 0.0100\n&#34;,</code>
							</td>
						</tr>
						
						<tr>
							<td id="L289" class="lines-num">
								<span id="L289" data-line-number="289"></span>
							</td>
							<td rel="L289" class="lines-code chroma">
								<code>            &#34;Episode 930, Reward: 80.0, Epsilon: 0.0100\n&#34;,</code>
							</td>
						</tr>
						
						<tr>
							<td id="L290" class="lines-num">
								<span id="L290" data-line-number="290"></span>
							</td>
							<td rel="L290" class="lines-code chroma">
								<code>            &#34;Episode 940, Reward: 500.0, Epsilon: 0.0100\n&#34;,</code>
							</td>
						</tr>
						
						<tr>
							<td id="L291" class="lines-num">
								<span id="L291" data-line-number="291"></span>
							</td>
							<td rel="L291" class="lines-code chroma">
								<code>            &#34;Episode 950, Reward: 500.0, Epsilon: 0.0100\n&#34;,</code>
							</td>
						</tr>
						
						<tr>
							<td id="L292" class="lines-num">
								<span id="L292" data-line-number="292"></span>
							</td>
							<td rel="L292" class="lines-code chroma">
								<code>            &#34;Episode 960, Reward: 500.0, Epsilon: 0.0100\n&#34;,</code>
							</td>
						</tr>
						
						<tr>
							<td id="L293" class="lines-num">
								<span id="L293" data-line-number="293"></span>
							</td>
							<td rel="L293" class="lines-code chroma">
								<code>            &#34;Episode 970, Reward: 500.0, Epsilon: 0.0100\n&#34;,</code>
							</td>
						</tr>
						
						<tr>
							<td id="L294" class="lines-num">
								<span id="L294" data-line-number="294"></span>
							</td>
							<td rel="L294" class="lines-code chroma">
								<code>            &#34;Episode 980, Reward: 500.0, Epsilon: 0.0100\n&#34;,</code>
							</td>
						</tr>
						
						<tr>
							<td id="L295" class="lines-num">
								<span id="L295" data-line-number="295"></span>
							</td>
							<td rel="L295" class="lines-code chroma">
								<code>            &#34;Episode 990, Reward: 500.0, Epsilon: 0.0100\n&#34;</code>
							</td>
						</tr>
						
						<tr>
							<td id="L296" class="lines-num">
								<span id="L296" data-line-number="296"></span>
							</td>
							<td rel="L296" class="lines-code chroma">
								<code>          ]</code>
							</td>
						</tr>
						
						<tr>
							<td id="L297" class="lines-num">
								<span id="L297" data-line-number="297"></span>
							</td>
							<td rel="L297" class="lines-code chroma">
								<code>        }</code>
							</td>
						</tr>
						
						<tr>
							<td id="L298" class="lines-num">
								<span id="L298" data-line-number="298"></span>
							</td>
							<td rel="L298" class="lines-code chroma">
								<code>      ],</code>
							</td>
						</tr>
						
						<tr>
							<td id="L299" class="lines-num">
								<span id="L299" data-line-number="299"></span>
							</td>
							<td rel="L299" class="lines-code chroma">
								<code>      &#34;source&#34;: [</code>
							</td>
						</tr>
						
						<tr>
							<td id="L300" class="lines-num">
								<span id="L300" data-line-number="300"></span>
							</td>
							<td rel="L300" class="lines-code chroma">
								<code>        &#34;env = gym.make(&#39;CartPole-v1&#39;)\n&#34;,</code>
							</td>
						</tr>
						
						<tr>
							<td id="L301" class="lines-num">
								<span id="L301" data-line-number="301"></span>
							</td>
							<td rel="L301" class="lines-code chroma">
								<code>        &#34;agent = DQNAgent(env.observation_space.shape[0], env.action_space.n)\n&#34;,</code>
							</td>
						</tr>
						
						<tr>
							<td id="L302" class="lines-num">
								<span id="L302" data-line-number="302"></span>
							</td>
							<td rel="L302" class="lines-code chroma">
								<code>        &#34;reward_history = deque(maxlen=100)  # For running average\n&#34;,</code>
							</td>
						</tr>
						
						<tr>
							<td id="L303" class="lines-num">
								<span id="L303" data-line-number="303"></span>
							</td>
							<td rel="L303" class="lines-code chroma">
								<code>        &#34;\n&#34;,</code>
							</td>
						</tr>
						
						<tr>
							<td id="L304" class="lines-num">
								<span id="L304" data-line-number="304"></span>
							</td>
							<td rel="L304" class="lines-code chroma">
								<code>        &#34;for episode in range(EPISODES):\n&#34;,</code>
							</td>
						</tr>
						
						<tr>
							<td id="L305" class="lines-num">
								<span id="L305" data-line-number="305"></span>
							</td>
							<td rel="L305" class="lines-code chroma">
								<code>        &#34;    state, _ = env.reset()\n&#34;,</code>
							</td>
						</tr>
						
						<tr>
							<td id="L306" class="lines-num">
								<span id="L306" data-line-number="306"></span>
							</td>
							<td rel="L306" class="lines-code chroma">
								<code>        &#34;    total_reward = 0\n&#34;,</code>
							</td>
						</tr>
						
						<tr>
							<td id="L307" class="lines-num">
								<span id="L307" data-line-number="307"></span>
							</td>
							<td rel="L307" class="lines-code chroma">
								<code>        &#34;    done = False\n&#34;,</code>
							</td>
						</tr>
						
						<tr>
							<td id="L308" class="lines-num">
								<span id="L308" data-line-number="308"></span>
							</td>
							<td rel="L308" class="lines-code chroma">
								<code>        &#34;\n&#34;,</code>
							</td>
						</tr>
						
						<tr>
							<td id="L309" class="lines-num">
								<span id="L309" data-line-number="309"></span>
							</td>
							<td rel="L309" class="lines-code chroma">
								<code>        &#34;    while not done:\n&#34;,</code>
							</td>
						</tr>
						
						<tr>
							<td id="L310" class="lines-num">
								<span id="L310" data-line-number="310"></span>
							</td>
							<td rel="L310" class="lines-code chroma">
								<code>        &#34;        action = agent.select_action(state)\n&#34;,</code>
							</td>
						</tr>
						
						<tr>
							<td id="L311" class="lines-num">
								<span id="L311" data-line-number="311"></span>
							</td>
							<td rel="L311" class="lines-code chroma">
								<code>        &#34;        next_state, reward, terminated, truncated, _ = env.step(action)\n&#34;,</code>
							</td>
						</tr>
						
						<tr>
							<td id="L312" class="lines-num">
								<span id="L312" data-line-number="312"></span>
							</td>
							<td rel="L312" class="lines-code chroma">
								<code>        &#34;        done = terminated or truncated\n&#34;,</code>
							</td>
						</tr>
						
						<tr>
							<td id="L313" class="lines-num">
								<span id="L313" data-line-number="313"></span>
							</td>
							<td rel="L313" class="lines-code chroma">
								<code>        &#34;        agent.store(state, action, reward, next_state, done)\n&#34;,</code>
							</td>
						</tr>
						
						<tr>
							<td id="L314" class="lines-num">
								<span id="L314" data-line-number="314"></span>
							</td>
							<td rel="L314" class="lines-code chroma">
								<code>        &#34;        agent.train()\n&#34;,</code>
							</td>
						</tr>
						
						<tr>
							<td id="L315" class="lines-num">
								<span id="L315" data-line-number="315"></span>
							</td>
							<td rel="L315" class="lines-code chroma">
								<code>        &#34;        state = next_state\n&#34;,</code>
							</td>
						</tr>
						
						<tr>
							<td id="L316" class="lines-num">
								<span id="L316" data-line-number="316"></span>
							</td>
							<td rel="L316" class="lines-code chroma">
								<code>        &#34;        total_reward += reward\n&#34;,</code>
							</td>
						</tr>
						
						<tr>
							<td id="L317" class="lines-num">
								<span id="L317" data-line-number="317"></span>
							</td>
							<td rel="L317" class="lines-code chroma">
								<code>        &#34;\n&#34;,</code>
							</td>
						</tr>
						
						<tr>
							<td id="L318" class="lines-num">
								<span id="L318" data-line-number="318"></span>
							</td>
							<td rel="L318" class="lines-code chroma">
								<code>        &#34;    agent.decay_epsilon()\n&#34;,</code>
							</td>
						</tr>
						
						<tr>
							<td id="L319" class="lines-num">
								<span id="L319" data-line-number="319"></span>
							</td>
							<td rel="L319" class="lines-code chroma">
								<code>        &#34;    if episode % TARGET_UPDATE == 0:\n&#34;,</code>
							</td>
						</tr>
						
						<tr>
							<td id="L320" class="lines-num">
								<span id="L320" data-line-number="320"></span>
							</td>
							<td rel="L320" class="lines-code chroma">
								<code>        &#34;        agent.update_target()\n&#34;,</code>
							</td>
						</tr>
						
						<tr>
							<td id="L321" class="lines-num">
								<span id="L321" data-line-number="321"></span>
							</td>
							<td rel="L321" class="lines-code chroma">
								<code>        &#34;    if episode % 10 == 0:\n&#34;,</code>
							</td>
						</tr>
						
						<tr>
							<td id="L322" class="lines-num">
								<span id="L322" data-line-number="322"></span>
							</td>
							<td rel="L322" class="lines-code chroma">
								<code>        &#34;        print(f\&#34;Episode {episode}, Reward: {total_reward}, Epsilon: {agent.epsilon:.4f}\&#34;)&#34;</code>
							</td>
						</tr>
						
						<tr>
							<td id="L323" class="lines-num">
								<span id="L323" data-line-number="323"></span>
							</td>
							<td rel="L323" class="lines-code chroma">
								<code>      ]</code>
							</td>
						</tr>
						
						<tr>
							<td id="L324" class="lines-num">
								<span id="L324" data-line-number="324"></span>
							</td>
							<td rel="L324" class="lines-code chroma">
								<code>    },</code>
							</td>
						</tr>
						
						<tr>
							<td id="L325" class="lines-num">
								<span id="L325" data-line-number="325"></span>
							</td>
							<td rel="L325" class="lines-code chroma">
								<code>    {</code>
							</td>
						</tr>
						
						<tr>
							<td id="L326" class="lines-num">
								<span id="L326" data-line-number="326"></span>
							</td>
							<td rel="L326" class="lines-code chroma">
								<code>      &#34;cell_type&#34;: &#34;markdown&#34;,</code>
							</td>
						</tr>
						
						<tr>
							<td id="L327" class="lines-num">
								<span id="L327" data-line-number="327"></span>
							</td>
							<td rel="L327" class="lines-code chroma">
								<code>      &#34;id&#34;: &#34;1a50a310-9287-4476-b9b9-ba0880e93844&#34;,</code>
							</td>
						</tr>
						
						<tr>
							<td id="L328" class="lines-num">
								<span id="L328" data-line-number="328"></span>
							</td>
							<td rel="L328" class="lines-code chroma">
								<code>      &#34;metadata&#34;: {</code>
							</td>
						</tr>
						
						<tr>
							<td id="L329" class="lines-num">
								<span id="L329" data-line-number="329"></span>
							</td>
							<td rel="L329" class="lines-code chroma">
								<code>        &#34;id&#34;: &#34;1a50a310-9287-4476-b9b9-ba0880e93844&#34;</code>
							</td>
						</tr>
						
						<tr>
							<td id="L330" class="lines-num">
								<span id="L330" data-line-number="330"></span>
							</td>
							<td rel="L330" class="lines-code chroma">
								<code>      },</code>
							</td>
						</tr>
						
						<tr>
							<td id="L331" class="lines-num">
								<span id="L331" data-line-number="331"></span>
							</td>
							<td rel="L331" class="lines-code chroma">
								<code>      &#34;source&#34;: [</code>
							</td>
						</tr>
						
						<tr>
							<td id="L332" class="lines-num">
								<span id="L332" data-line-number="332"></span>
							</td>
							<td rel="L332" class="lines-code chroma">
								<code>        &#34;# Test&#34;</code>
							</td>
						</tr>
						
						<tr>
							<td id="L333" class="lines-num">
								<span id="L333" data-line-number="333"></span>
							</td>
							<td rel="L333" class="lines-code chroma">
								<code>      ]</code>
							</td>
						</tr>
						
						<tr>
							<td id="L334" class="lines-num">
								<span id="L334" data-line-number="334"></span>
							</td>
							<td rel="L334" class="lines-code chroma">
								<code>    },</code>
							</td>
						</tr>
						
						<tr>
							<td id="L335" class="lines-num">
								<span id="L335" data-line-number="335"></span>
							</td>
							<td rel="L335" class="lines-code chroma">
								<code>    {</code>
							</td>
						</tr>
						
						<tr>
							<td id="L336" class="lines-num">
								<span id="L336" data-line-number="336"></span>
							</td>
							<td rel="L336" class="lines-code chroma">
								<code>      &#34;cell_type&#34;: &#34;code&#34;,</code>
							</td>
						</tr>
						
						<tr>
							<td id="L337" class="lines-num">
								<span id="L337" data-line-number="337"></span>
							</td>
							<td rel="L337" class="lines-code chroma">
								<code>      &#34;execution_count&#34;: null,</code>
							</td>
						</tr>
						
						<tr>
							<td id="L338" class="lines-num">
								<span id="L338" data-line-number="338"></span>
							</td>
							<td rel="L338" class="lines-code chroma">
								<code>      &#34;id&#34;: &#34;b923a1f6-69dc-4df8-a124-2f1d05d4d92f&#34;,</code>
							</td>
						</tr>
						
						<tr>
							<td id="L339" class="lines-num">
								<span id="L339" data-line-number="339"></span>
							</td>
							<td rel="L339" class="lines-code chroma">
								<code>      &#34;metadata&#34;: {</code>
							</td>
						</tr>
						
						<tr>
							<td id="L340" class="lines-num">
								<span id="L340" data-line-number="340"></span>
							</td>
							<td rel="L340" class="lines-code chroma">
								<code>        &#34;id&#34;: &#34;b923a1f6-69dc-4df8-a124-2f1d05d4d92f&#34;,</code>
							</td>
						</tr>
						
						<tr>
							<td id="L341" class="lines-num">
								<span id="L341" data-line-number="341"></span>
							</td>
							<td rel="L341" class="lines-code chroma">
								<code>        &#34;outputId&#34;: &#34;d1db54a6-2eaf-4443-a17d-8b01da9b56fc&#34;</code>
							</td>
						</tr>
						
						<tr>
							<td id="L342" class="lines-num">
								<span id="L342" data-line-number="342"></span>
							</td>
							<td rel="L342" class="lines-code chroma">
								<code>      },</code>
							</td>
						</tr>
						
						<tr>
							<td id="L343" class="lines-num">
								<span id="L343" data-line-number="343"></span>
							</td>
							<td rel="L343" class="lines-code chroma">
								<code>      &#34;outputs&#34;: [</code>
							</td>
						</tr>
						
						<tr>
							<td id="L344" class="lines-num">
								<span id="L344" data-line-number="344"></span>
							</td>
							<td rel="L344" class="lines-code chroma">
								<code>        {</code>
							</td>
						</tr>
						
						<tr>
							<td id="L345" class="lines-num">
								<span id="L345" data-line-number="345"></span>
							</td>
							<td rel="L345" class="lines-code chroma">
								<code>          &#34;name&#34;: &#34;stdout&#34;,</code>
							</td>
						</tr>
						
						<tr>
							<td id="L346" class="lines-num">
								<span id="L346" data-line-number="346"></span>
							</td>
							<td rel="L346" class="lines-code chroma">
								<code>          &#34;output_type&#34;: &#34;stream&#34;,</code>
							</td>
						</tr>
						
						<tr>
							<td id="L347" class="lines-num">
								<span id="L347" data-line-number="347"></span>
							</td>
							<td rel="L347" class="lines-code chroma">
								<code>          &#34;text&#34;: [</code>
							</td>
						</tr>
						
						<tr>
							<td id="L348" class="lines-num">
								<span id="L348" data-line-number="348"></span>
							</td>
							<td rel="L348" class="lines-code chroma">
								<code>            &#34;Test Episode 0, Reward: 500.0\n&#34;,</code>
							</td>
						</tr>
						
						<tr>
							<td id="L349" class="lines-num">
								<span id="L349" data-line-number="349"></span>
							</td>
							<td rel="L349" class="lines-code chroma">
								<code>            &#34;Test Episode 1, Reward: 500.0\n&#34;,</code>
							</td>
						</tr>
						
						<tr>
							<td id="L350" class="lines-num">
								<span id="L350" data-line-number="350"></span>
							</td>
							<td rel="L350" class="lines-code chroma">
								<code>            &#34;Test Episode 2, Reward: 500.0\n&#34;,</code>
							</td>
						</tr>
						
						<tr>
							<td id="L351" class="lines-num">
								<span id="L351" data-line-number="351"></span>
							</td>
							<td rel="L351" class="lines-code chroma">
								<code>            &#34;Test Episode 3, Reward: 500.0\n&#34;,</code>
							</td>
						</tr>
						
						<tr>
							<td id="L352" class="lines-num">
								<span id="L352" data-line-number="352"></span>
							</td>
							<td rel="L352" class="lines-code chroma">
								<code>            &#34;Test Episode 4, Reward: 500.0\n&#34;</code>
							</td>
						</tr>
						
						<tr>
							<td id="L353" class="lines-num">
								<span id="L353" data-line-number="353"></span>
							</td>
							<td rel="L353" class="lines-code chroma">
								<code>          ]</code>
							</td>
						</tr>
						
						<tr>
							<td id="L354" class="lines-num">
								<span id="L354" data-line-number="354"></span>
							</td>
							<td rel="L354" class="lines-code chroma">
								<code>        }</code>
							</td>
						</tr>
						
						<tr>
							<td id="L355" class="lines-num">
								<span id="L355" data-line-number="355"></span>
							</td>
							<td rel="L355" class="lines-code chroma">
								<code>      ],</code>
							</td>
						</tr>
						
						<tr>
							<td id="L356" class="lines-num">
								<span id="L356" data-line-number="356"></span>
							</td>
							<td rel="L356" class="lines-code chroma">
								<code>      &#34;source&#34;: [</code>
							</td>
						</tr>
						
						<tr>
							<td id="L357" class="lines-num">
								<span id="L357" data-line-number="357"></span>
							</td>
							<td rel="L357" class="lines-code chroma">
								<code>        &#34;env = gym.make(&#39;CartPole-v1&#39;)\n&#34;,</code>
							</td>
						</tr>
						
						<tr>
							<td id="L358" class="lines-num">
								<span id="L358" data-line-number="358"></span>
							</td>
							<td rel="L358" class="lines-code chroma">
								<code>        &#34;frames = []\n&#34;,</code>
							</td>
						</tr>
						
						<tr>
							<td id="L359" class="lines-num">
								<span id="L359" data-line-number="359"></span>
							</td>
							<td rel="L359" class="lines-code chroma">
								<code>        &#34;for episode in range(5):\n&#34;,</code>
							</td>
						</tr>
						
						<tr>
							<td id="L360" class="lines-num">
								<span id="L360" data-line-number="360"></span>
							</td>
							<td rel="L360" class="lines-code chroma">
								<code>        &#34;    state, _ = env.reset()\n&#34;,</code>
							</td>
						</tr>
						
						<tr>
							<td id="L361" class="lines-num">
								<span id="L361" data-line-number="361"></span>
							</td>
							<td rel="L361" class="lines-code chroma">
								<code>        &#34;    done = False\n&#34;,</code>
							</td>
						</tr>
						
						<tr>
							<td id="L362" class="lines-num">
								<span id="L362" data-line-number="362"></span>
							</td>
							<td rel="L362" class="lines-code chroma">
								<code>        &#34;    total_reward = 0\n&#34;,</code>
							</td>
						</tr>
						
						<tr>
							<td id="L363" class="lines-num">
								<span id="L363" data-line-number="363"></span>
							</td>
							<td rel="L363" class="lines-code chroma">
								<code>        &#34;    while not done:\n&#34;,</code>
							</td>
						</tr>
						
						<tr>
							<td id="L364" class="lines-num">
								<span id="L364" data-line-number="364"></span>
							</td>
							<td rel="L364" class="lines-code chroma">
								<code>        &#34;        action = agent.select_action(state)\n&#34;,</code>
							</td>
						</tr>
						
						<tr>
							<td id="L365" class="lines-num">
								<span id="L365" data-line-number="365"></span>
							</td>
							<td rel="L365" class="lines-code chroma">
								<code>        &#34;        state, reward, terminated, truncated, _ = env.step(action)\n&#34;,</code>
							</td>
						</tr>
						
						<tr>
							<td id="L366" class="lines-num">
								<span id="L366" data-line-number="366"></span>
							</td>
							<td rel="L366" class="lines-code chroma">
								<code>        &#34;        done = terminated or truncated\n&#34;,</code>
							</td>
						</tr>
						
						<tr>
							<td id="L367" class="lines-num">
								<span id="L367" data-line-number="367"></span>
							</td>
							<td rel="L367" class="lines-code chroma">
								<code>        &#34;        total_reward += reward\n&#34;,</code>
							</td>
						</tr>
						
						<tr>
							<td id="L368" class="lines-num">
								<span id="L368" data-line-number="368"></span>
							</td>
							<td rel="L368" class="lines-code chroma">
								<code>        &#34;    print(f\&#34;Test Episode {episode}, Reward: {total_reward}\&#34;)\n&#34;,</code>
							</td>
						</tr>
						
						<tr>
							<td id="L369" class="lines-num">
								<span id="L369" data-line-number="369"></span>
							</td>
							<td rel="L369" class="lines-code chroma">
								<code>        &#34;env.close()&#34;</code>
							</td>
						</tr>
						
						<tr>
							<td id="L370" class="lines-num">
								<span id="L370" data-line-number="370"></span>
							</td>
							<td rel="L370" class="lines-code chroma">
								<code>      ]</code>
							</td>
						</tr>
						
						<tr>
							<td id="L371" class="lines-num">
								<span id="L371" data-line-number="371"></span>
							</td>
							<td rel="L371" class="lines-code chroma">
								<code>    },</code>
							</td>
						</tr>
						
						<tr>
							<td id="L372" class="lines-num">
								<span id="L372" data-line-number="372"></span>
							</td>
							<td rel="L372" class="lines-code chroma">
								<code>    {</code>
							</td>
						</tr>
						
						<tr>
							<td id="L373" class="lines-num">
								<span id="L373" data-line-number="373"></span>
							</td>
							<td rel="L373" class="lines-code chroma">
								<code>      &#34;cell_type&#34;: &#34;markdown&#34;,</code>
							</td>
						</tr>
						
						<tr>
							<td id="L374" class="lines-num">
								<span id="L374" data-line-number="374"></span>
							</td>
							<td rel="L374" class="lines-code chroma">
								<code>      &#34;source&#34;: [</code>
							</td>
						</tr>
						
						<tr>
							<td id="L375" class="lines-num">
								<span id="L375" data-line-number="375"></span>
							</td>
							<td rel="L375" class="lines-code chroma">
								<code>        &#34;# Space Invaders &amp; Pacman&#34;</code>
							</td>
						</tr>
						
						<tr>
							<td id="L376" class="lines-num">
								<span id="L376" data-line-number="376"></span>
							</td>
							<td rel="L376" class="lines-code chroma">
								<code>      ],</code>
							</td>
						</tr>
						
						<tr>
							<td id="L377" class="lines-num">
								<span id="L377" data-line-number="377"></span>
							</td>
							<td rel="L377" class="lines-code chroma">
								<code>      &#34;metadata&#34;: {</code>
							</td>
						</tr>
						
						<tr>
							<td id="L378" class="lines-num">
								<span id="L378" data-line-number="378"></span>
							</td>
							<td rel="L378" class="lines-code chroma">
								<code>        &#34;id&#34;: &#34;ZCQ58xvxnKYv&#34;</code>
							</td>
						</tr>
						
						<tr>
							<td id="L379" class="lines-num">
								<span id="L379" data-line-number="379"></span>
							</td>
							<td rel="L379" class="lines-code chroma">
								<code>      },</code>
							</td>
						</tr>
						
						<tr>
							<td id="L380" class="lines-num">
								<span id="L380" data-line-number="380"></span>
							</td>
							<td rel="L380" class="lines-code chroma">
								<code>      &#34;id&#34;: &#34;ZCQ58xvxnKYv&#34;</code>
							</td>
						</tr>
						
						<tr>
							<td id="L381" class="lines-num">
								<span id="L381" data-line-number="381"></span>
							</td>
							<td rel="L381" class="lines-code chroma">
								<code>    },</code>
							</td>
						</tr>
						
						<tr>
							<td id="L382" class="lines-num">
								<span id="L382" data-line-number="382"></span>
							</td>
							<td rel="L382" class="lines-code chroma">
								<code>    {</code>
							</td>
						</tr>
						
						<tr>
							<td id="L383" class="lines-num">
								<span id="L383" data-line-number="383"></span>
							</td>
							<td rel="L383" class="lines-code chroma">
								<code>      &#34;cell_type&#34;: &#34;markdown&#34;,</code>
							</td>
						</tr>
						
						<tr>
							<td id="L384" class="lines-num">
								<span id="L384" data-line-number="384"></span>
							</td>
							<td rel="L384" class="lines-code chroma">
								<code>      &#34;source&#34;: [</code>
							</td>
						</tr>
						
						<tr>
							<td id="L385" class="lines-num">
								<span id="L385" data-line-number="385"></span>
							</td>
							<td rel="L385" class="lines-code chroma">
								<code>        &#34;# Hyperparameters&#34;</code>
							</td>
						</tr>
						
						<tr>
							<td id="L386" class="lines-num">
								<span id="L386" data-line-number="386"></span>
							</td>
							<td rel="L386" class="lines-code chroma">
								<code>      ],</code>
							</td>
						</tr>
						
						<tr>
							<td id="L387" class="lines-num">
								<span id="L387" data-line-number="387"></span>
							</td>
							<td rel="L387" class="lines-code chroma">
								<code>      &#34;metadata&#34;: {</code>
							</td>
						</tr>
						
						<tr>
							<td id="L388" class="lines-num">
								<span id="L388" data-line-number="388"></span>
							</td>
							<td rel="L388" class="lines-code chroma">
								<code>        &#34;id&#34;: &#34;KAN9Rqk9HhfL&#34;</code>
							</td>
						</tr>
						
						<tr>
							<td id="L389" class="lines-num">
								<span id="L389" data-line-number="389"></span>
							</td>
							<td rel="L389" class="lines-code chroma">
								<code>      },</code>
							</td>
						</tr>
						
						<tr>
							<td id="L390" class="lines-num">
								<span id="L390" data-line-number="390"></span>
							</td>
							<td rel="L390" class="lines-code chroma">
								<code>      &#34;id&#34;: &#34;KAN9Rqk9HhfL&#34;</code>
							</td>
						</tr>
						
						<tr>
							<td id="L391" class="lines-num">
								<span id="L391" data-line-number="391"></span>
							</td>
							<td rel="L391" class="lines-code chroma">
								<code>    },</code>
							</td>
						</tr>
						
						<tr>
							<td id="L392" class="lines-num">
								<span id="L392" data-line-number="392"></span>
							</td>
							<td rel="L392" class="lines-code chroma">
								<code>    {</code>
							</td>
						</tr>
						
						<tr>
							<td id="L393" class="lines-num">
								<span id="L393" data-line-number="393"></span>
							</td>
							<td rel="L393" class="lines-code chroma">
								<code>      &#34;cell_type&#34;: &#34;code&#34;,</code>
							</td>
						</tr>
						
						<tr>
							<td id="L394" class="lines-num">
								<span id="L394" data-line-number="394"></span>
							</td>
							<td rel="L394" class="lines-code chroma">
								<code>      &#34;source&#34;: [</code>
							</td>
						</tr>
						
						<tr>
							<td id="L395" class="lines-num">
								<span id="L395" data-line-number="395"></span>
							</td>
							<td rel="L395" class="lines-code chroma">
								<code>        &#34;EPISODES = 1000\n&#34;,</code>
							</td>
						</tr>
						
						<tr>
							<td id="L396" class="lines-num">
								<span id="L396" data-line-number="396"></span>
							</td>
							<td rel="L396" class="lines-code chroma">
								<code>        &#34;BATCH_SIZE = 32\n&#34;,</code>
							</td>
						</tr>
						
						<tr>
							<td id="L397" class="lines-num">
								<span id="L397" data-line-number="397"></span>
							</td>
							<td rel="L397" class="lines-code chroma">
								<code>        &#34;GAMMA = 0.99\n&#34;,</code>
							</td>
						</tr>
						
						<tr>
							<td id="L398" class="lines-num">
								<span id="L398" data-line-number="398"></span>
							</td>
							<td rel="L398" class="lines-code chroma">
								<code>        &#34;EPSILON_START = 1.0\n&#34;,</code>
							</td>
						</tr>
						
						<tr>
							<td id="L399" class="lines-num">
								<span id="L399" data-line-number="399"></span>
							</td>
							<td rel="L399" class="lines-code chroma">
								<code>        &#34;EPSILON_END = 0.1\n&#34;,</code>
							</td>
						</tr>
						
						<tr>
							<td id="L400" class="lines-num">
								<span id="L400" data-line-number="400"></span>
							</td>
							<td rel="L400" class="lines-code chroma">
								<code>        &#34;EPSILON_DECAY = 0.999\n&#34;,</code>
							</td>
						</tr>
						
						<tr>
							<td id="L401" class="lines-num">
								<span id="L401" data-line-number="401"></span>
							</td>
							<td rel="L401" class="lines-code chroma">
								<code>        &#34;LEARNING_RATE = 0.00025\n&#34;,</code>
							</td>
						</tr>
						
						<tr>
							<td id="L402" class="lines-num">
								<span id="L402" data-line-number="402"></span>
							</td>
							<td rel="L402" class="lines-code chroma">
								<code>        &#34;MEMORY_SIZE = 100000\n&#34;,</code>
							</td>
						</tr>
						
						<tr>
							<td id="L403" class="lines-num">
								<span id="L403" data-line-number="403"></span>
							</td>
							<td rel="L403" class="lines-code chroma">
								<code>        &#34;TARGET_UPDATE = 1000\n&#34;,</code>
							</td>
						</tr>
						
						<tr>
							<td id="L404" class="lines-num">
								<span id="L404" data-line-number="404"></span>
							</td>
							<td rel="L404" class="lines-code chroma">
								<code>        &#34;FRAME_STACK = 4\n&#34;,</code>
							</td>
						</tr>
						
						<tr>
							<td id="L405" class="lines-num">
								<span id="L405" data-line-number="405"></span>
							</td>
							<td rel="L405" class="lines-code chroma">
								<code>        &#34;IMG_SIZE = 84&#34;</code>
							</td>
						</tr>
						
						<tr>
							<td id="L406" class="lines-num">
								<span id="L406" data-line-number="406"></span>
							</td>
							<td rel="L406" class="lines-code chroma">
								<code>      ],</code>
							</td>
						</tr>
						
						<tr>
							<td id="L407" class="lines-num">
								<span id="L407" data-line-number="407"></span>
							</td>
							<td rel="L407" class="lines-code chroma">
								<code>      &#34;metadata&#34;: {</code>
							</td>
						</tr>
						
						<tr>
							<td id="L408" class="lines-num">
								<span id="L408" data-line-number="408"></span>
							</td>
							<td rel="L408" class="lines-code chroma">
								<code>        &#34;id&#34;: &#34;fobc9ptvnPx4&#34;</code>
							</td>
						</tr>
						
						<tr>
							<td id="L409" class="lines-num">
								<span id="L409" data-line-number="409"></span>
							</td>
							<td rel="L409" class="lines-code chroma">
								<code>      },</code>
							</td>
						</tr>
						
						<tr>
							<td id="L410" class="lines-num">
								<span id="L410" data-line-number="410"></span>
							</td>
							<td rel="L410" class="lines-code chroma">
								<code>      &#34;id&#34;: &#34;fobc9ptvnPx4&#34;,</code>
							</td>
						</tr>
						
						<tr>
							<td id="L411" class="lines-num">
								<span id="L411" data-line-number="411"></span>
							</td>
							<td rel="L411" class="lines-code chroma">
								<code>      &#34;execution_count&#34;: 2,</code>
							</td>
						</tr>
						
						<tr>
							<td id="L412" class="lines-num">
								<span id="L412" data-line-number="412"></span>
							</td>
							<td rel="L412" class="lines-code chroma">
								<code>      &#34;outputs&#34;: []</code>
							</td>
						</tr>
						
						<tr>
							<td id="L413" class="lines-num">
								<span id="L413" data-line-number="413"></span>
							</td>
							<td rel="L413" class="lines-code chroma">
								<code>    },</code>
							</td>
						</tr>
						
						<tr>
							<td id="L414" class="lines-num">
								<span id="L414" data-line-number="414"></span>
							</td>
							<td rel="L414" class="lines-code chroma">
								<code>    {</code>
							</td>
						</tr>
						
						<tr>
							<td id="L415" class="lines-num">
								<span id="L415" data-line-number="415"></span>
							</td>
							<td rel="L415" class="lines-code chroma">
								<code>      &#34;cell_type&#34;: &#34;markdown&#34;,</code>
							</td>
						</tr>
						
						<tr>
							<td id="L416" class="lines-num">
								<span id="L416" data-line-number="416"></span>
							</td>
							<td rel="L416" class="lines-code chroma">
								<code>      &#34;source&#34;: [</code>
							</td>
						</tr>
						
						<tr>
							<td id="L417" class="lines-num">
								<span id="L417" data-line-number="417"></span>
							</td>
							<td rel="L417" class="lines-code chroma">
								<code>        &#34;# DQN Model&#34;</code>
							</td>
						</tr>
						
						<tr>
							<td id="L418" class="lines-num">
								<span id="L418" data-line-number="418"></span>
							</td>
							<td rel="L418" class="lines-code chroma">
								<code>      ],</code>
							</td>
						</tr>
						
						<tr>
							<td id="L419" class="lines-num">
								<span id="L419" data-line-number="419"></span>
							</td>
							<td rel="L419" class="lines-code chroma">
								<code>      &#34;metadata&#34;: {</code>
							</td>
						</tr>
						
						<tr>
							<td id="L420" class="lines-num">
								<span id="L420" data-line-number="420"></span>
							</td>
							<td rel="L420" class="lines-code chroma">
								<code>        &#34;id&#34;: &#34;q9fnW59VHo3y&#34;</code>
							</td>
						</tr>
						
						<tr>
							<td id="L421" class="lines-num">
								<span id="L421" data-line-number="421"></span>
							</td>
							<td rel="L421" class="lines-code chroma">
								<code>      },</code>
							</td>
						</tr>
						
						<tr>
							<td id="L422" class="lines-num">
								<span id="L422" data-line-number="422"></span>
							</td>
							<td rel="L422" class="lines-code chroma">
								<code>      &#34;id&#34;: &#34;q9fnW59VHo3y&#34;</code>
							</td>
						</tr>
						
						<tr>
							<td id="L423" class="lines-num">
								<span id="L423" data-line-number="423"></span>
							</td>
							<td rel="L423" class="lines-code chroma">
								<code>    },</code>
							</td>
						</tr>
						
						<tr>
							<td id="L424" class="lines-num">
								<span id="L424" data-line-number="424"></span>
							</td>
							<td rel="L424" class="lines-code chroma">
								<code>    {</code>
							</td>
						</tr>
						
						<tr>
							<td id="L425" class="lines-num">
								<span id="L425" data-line-number="425"></span>
							</td>
							<td rel="L425" class="lines-code chroma">
								<code>      &#34;cell_type&#34;: &#34;code&#34;,</code>
							</td>
						</tr>
						
						<tr>
							<td id="L426" class="lines-num">
								<span id="L426" data-line-number="426"></span>
							</td>
							<td rel="L426" class="lines-code chroma">
								<code>      &#34;source&#34;: [</code>
							</td>
						</tr>
						
						<tr>
							<td id="L427" class="lines-num">
								<span id="L427" data-line-number="427"></span>
							</td>
							<td rel="L427" class="lines-code chroma">
								<code>        &#34;def preprocess_frame(frame):\n&#34;,</code>
							</td>
						</tr>
						
						<tr>
							<td id="L428" class="lines-num">
								<span id="L428" data-line-number="428"></span>
							</td>
							<td rel="L428" class="lines-code chroma">
								<code>        &#34;    frame = cv2.cvtColor(frame, cv2.COLOR_RGB2GRAY)\n&#34;,</code>
							</td>
						</tr>
						
						<tr>
							<td id="L429" class="lines-num">
								<span id="L429" data-line-number="429"></span>
							</td>
							<td rel="L429" class="lines-code chroma">
								<code>        &#34;    frame = cv2.resize(frame, (IMG_SIZE, IMG_SIZE), interpolation=cv2.INTER_AREA)\n&#34;,</code>
							</td>
						</tr>
						
						<tr>
							<td id="L430" class="lines-num">
								<span id="L430" data-line-number="430"></span>
							</td>
							<td rel="L430" class="lines-code chroma">
								<code>        &#34;    return frame / 255.0&#34;</code>
							</td>
						</tr>
						
						<tr>
							<td id="L431" class="lines-num">
								<span id="L431" data-line-number="431"></span>
							</td>
							<td rel="L431" class="lines-code chroma">
								<code>      ],</code>
							</td>
						</tr>
						
						<tr>
							<td id="L432" class="lines-num">
								<span id="L432" data-line-number="432"></span>
							</td>
							<td rel="L432" class="lines-code chroma">
								<code>      &#34;metadata&#34;: {</code>
							</td>
						</tr>
						
						<tr>
							<td id="L433" class="lines-num">
								<span id="L433" data-line-number="433"></span>
							</td>
							<td rel="L433" class="lines-code chroma">
								<code>        &#34;id&#34;: &#34;dwPW6CwqFCJR&#34;</code>
							</td>
						</tr>
						
						<tr>
							<td id="L434" class="lines-num">
								<span id="L434" data-line-number="434"></span>
							</td>
							<td rel="L434" class="lines-code chroma">
								<code>      },</code>
							</td>
						</tr>
						
						<tr>
							<td id="L435" class="lines-num">
								<span id="L435" data-line-number="435"></span>
							</td>
							<td rel="L435" class="lines-code chroma">
								<code>      &#34;id&#34;: &#34;dwPW6CwqFCJR&#34;,</code>
							</td>
						</tr>
						
						<tr>
							<td id="L436" class="lines-num">
								<span id="L436" data-line-number="436"></span>
							</td>
							<td rel="L436" class="lines-code chroma">
								<code>      &#34;execution_count&#34;: 3,</code>
							</td>
						</tr>
						
						<tr>
							<td id="L437" class="lines-num">
								<span id="L437" data-line-number="437"></span>
							</td>
							<td rel="L437" class="lines-code chroma">
								<code>      &#34;outputs&#34;: []</code>
							</td>
						</tr>
						
						<tr>
							<td id="L438" class="lines-num">
								<span id="L438" data-line-number="438"></span>
							</td>
							<td rel="L438" class="lines-code chroma">
								<code>    },</code>
							</td>
						</tr>
						
						<tr>
							<td id="L439" class="lines-num">
								<span id="L439" data-line-number="439"></span>
							</td>
							<td rel="L439" class="lines-code chroma">
								<code>    {</code>
							</td>
						</tr>
						
						<tr>
							<td id="L440" class="lines-num">
								<span id="L440" data-line-number="440"></span>
							</td>
							<td rel="L440" class="lines-code chroma">
								<code>      &#34;cell_type&#34;: &#34;markdown&#34;,</code>
							</td>
						</tr>
						
						<tr>
							<td id="L441" class="lines-num">
								<span id="L441" data-line-number="441"></span>
							</td>
							<td rel="L441" class="lines-code chroma">
								<code>      &#34;source&#34;: [</code>
							</td>
						</tr>
						
						<tr>
							<td id="L442" class="lines-num">
								<span id="L442" data-line-number="442"></span>
							</td>
							<td rel="L442" class="lines-code chroma">
								<code>        &#34;# Agent&#34;</code>
							</td>
						</tr>
						
						<tr>
							<td id="L443" class="lines-num">
								<span id="L443" data-line-number="443"></span>
							</td>
							<td rel="L443" class="lines-code chroma">
								<code>      ],</code>
							</td>
						</tr>
						
						<tr>
							<td id="L444" class="lines-num">
								<span id="L444" data-line-number="444"></span>
							</td>
							<td rel="L444" class="lines-code chroma">
								<code>      &#34;metadata&#34;: {</code>
							</td>
						</tr>
						
						<tr>
							<td id="L445" class="lines-num">
								<span id="L445" data-line-number="445"></span>
							</td>
							<td rel="L445" class="lines-code chroma">
								<code>        &#34;id&#34;: &#34;VRgl99XWGjt8&#34;</code>
							</td>
						</tr>
						
						<tr>
							<td id="L446" class="lines-num">
								<span id="L446" data-line-number="446"></span>
							</td>
							<td rel="L446" class="lines-code chroma">
								<code>      },</code>
							</td>
						</tr>
						
						<tr>
							<td id="L447" class="lines-num">
								<span id="L447" data-line-number="447"></span>
							</td>
							<td rel="L447" class="lines-code chroma">
								<code>      &#34;id&#34;: &#34;VRgl99XWGjt8&#34;</code>
							</td>
						</tr>
						
						<tr>
							<td id="L448" class="lines-num">
								<span id="L448" data-line-number="448"></span>
							</td>
							<td rel="L448" class="lines-code chroma">
								<code>    },</code>
							</td>
						</tr>
						
						<tr>
							<td id="L449" class="lines-num">
								<span id="L449" data-line-number="449"></span>
							</td>
							<td rel="L449" class="lines-code chroma">
								<code>    {</code>
							</td>
						</tr>
						
						<tr>
							<td id="L450" class="lines-num">
								<span id="L450" data-line-number="450"></span>
							</td>
							<td rel="L450" class="lines-code chroma">
								<code>      &#34;cell_type&#34;: &#34;code&#34;,</code>
							</td>
						</tr>
						
						<tr>
							<td id="L451" class="lines-num">
								<span id="L451" data-line-number="451"></span>
							</td>
							<td rel="L451" class="lines-code chroma">
								<code>      &#34;source&#34;: [</code>
							</td>
						</tr>
						
						<tr>
							<td id="L452" class="lines-num">
								<span id="L452" data-line-number="452"></span>
							</td>
							<td rel="L452" class="lines-code chroma">
								<code>        &#34;class AtariDQN(nn.Module):\n&#34;,</code>
							</td>
						</tr>
						
						<tr>
							<td id="L453" class="lines-num">
								<span id="L453" data-line-number="453"></span>
							</td>
							<td rel="L453" class="lines-code chroma">
								<code>        &#34;    def __init__(self, action_size):\n&#34;,</code>
							</td>
						</tr>
						
						<tr>
							<td id="L454" class="lines-num">
								<span id="L454" data-line-number="454"></span>
							</td>
							<td rel="L454" class="lines-code chroma">
								<code>        &#34;        super(AtariDQN, self).__init__()\n&#34;,</code>
							</td>
						</tr>
						
						<tr>
							<td id="L455" class="lines-num">
								<span id="L455" data-line-number="455"></span>
							</td>
							<td rel="L455" class="lines-code chroma">
								<code>        &#34;        self.conv = nn.Sequential(\n&#34;,</code>
							</td>
						</tr>
						
						<tr>
							<td id="L456" class="lines-num">
								<span id="L456" data-line-number="456"></span>
							</td>
							<td rel="L456" class="lines-code chroma">
								<code>        &#34;            nn.Conv2d(FRAME_STACK, 32, kernel_size=8, stride=4),\n&#34;,</code>
							</td>
						</tr>
						
						<tr>
							<td id="L457" class="lines-num">
								<span id="L457" data-line-number="457"></span>
							</td>
							<td rel="L457" class="lines-code chroma">
								<code>        &#34;            nn.ReLU(),\n&#34;,</code>
							</td>
						</tr>
						
						<tr>
							<td id="L458" class="lines-num">
								<span id="L458" data-line-number="458"></span>
							</td>
							<td rel="L458" class="lines-code chroma">
								<code>        &#34;            nn.Conv2d(32, 64, kernel_size=4, stride=2),\n&#34;,</code>
							</td>
						</tr>
						
						<tr>
							<td id="L459" class="lines-num">
								<span id="L459" data-line-number="459"></span>
							</td>
							<td rel="L459" class="lines-code chroma">
								<code>        &#34;            nn.ReLU(),\n&#34;,</code>
							</td>
						</tr>
						
						<tr>
							<td id="L460" class="lines-num">
								<span id="L460" data-line-number="460"></span>
							</td>
							<td rel="L460" class="lines-code chroma">
								<code>        &#34;            nn.Conv2d(64, 64, kernel_size=3, stride=1),\n&#34;,</code>
							</td>
						</tr>
						
						<tr>
							<td id="L461" class="lines-num">
								<span id="L461" data-line-number="461"></span>
							</td>
							<td rel="L461" class="lines-code chroma">
								<code>        &#34;            nn.ReLU()\n&#34;,</code>
							</td>
						</tr>
						
						<tr>
							<td id="L462" class="lines-num">
								<span id="L462" data-line-number="462"></span>
							</td>
							<td rel="L462" class="lines-code chroma">
								<code>        &#34;        )\n&#34;,</code>
							</td>
						</tr>
						
						<tr>
							<td id="L463" class="lines-num">
								<span id="L463" data-line-number="463"></span>
							</td>
							<td rel="L463" class="lines-code chroma">
								<code>        &#34;        self.fc = nn.Sequential(\n&#34;,</code>
							</td>
						</tr>
						
						<tr>
							<td id="L464" class="lines-num">
								<span id="L464" data-line-number="464"></span>
							</td>
							<td rel="L464" class="lines-code chroma">
								<code>        &#34;            nn.Linear(64 * 7 * 7, 512),\n&#34;,</code>
							</td>
						</tr>
						
						<tr>
							<td id="L465" class="lines-num">
								<span id="L465" data-line-number="465"></span>
							</td>
							<td rel="L465" class="lines-code chroma">
								<code>        &#34;            nn.ReLU(),\n&#34;,</code>
							</td>
						</tr>
						
						<tr>
							<td id="L466" class="lines-num">
								<span id="L466" data-line-number="466"></span>
							</td>
							<td rel="L466" class="lines-code chroma">
								<code>        &#34;            nn.Linear(512, action_size)\n&#34;,</code>
							</td>
						</tr>
						
						<tr>
							<td id="L467" class="lines-num">
								<span id="L467" data-line-number="467"></span>
							</td>
							<td rel="L467" class="lines-code chroma">
								<code>        &#34;        )\n&#34;,</code>
							</td>
						</tr>
						
						<tr>
							<td id="L468" class="lines-num">
								<span id="L468" data-line-number="468"></span>
							</td>
							<td rel="L468" class="lines-code chroma">
								<code>        &#34;\n&#34;,</code>
							</td>
						</tr>
						
						<tr>
							<td id="L469" class="lines-num">
								<span id="L469" data-line-number="469"></span>
							</td>
							<td rel="L469" class="lines-code chroma">
								<code>        &#34;    def forward(self, x):\n&#34;,</code>
							</td>
						</tr>
						
						<tr>
							<td id="L470" class="lines-num">
								<span id="L470" data-line-number="470"></span>
							</td>
							<td rel="L470" class="lines-code chroma">
								<code>        &#34;        x = self.conv(x)\n&#34;,</code>
							</td>
						</tr>
						
						<tr>
							<td id="L471" class="lines-num">
								<span id="L471" data-line-number="471"></span>
							</td>
							<td rel="L471" class="lines-code chroma">
								<code>        &#34;        x = x.view(x.size(0), -1)\n&#34;,</code>
							</td>
						</tr>
						
						<tr>
							<td id="L472" class="lines-num">
								<span id="L472" data-line-number="472"></span>
							</td>
							<td rel="L472" class="lines-code chroma">
								<code>        &#34;        return self.fc(x)\n&#34;,</code>
							</td>
						</tr>
						
						<tr>
							<td id="L473" class="lines-num">
								<span id="L473" data-line-number="473"></span>
							</td>
							<td rel="L473" class="lines-code chroma">
								<code>        &#34;\n&#34;,</code>
							</td>
						</tr>
						
						<tr>
							<td id="L474" class="lines-num">
								<span id="L474" data-line-number="474"></span>
							</td>
							<td rel="L474" class="lines-code chroma">
								<code>        &#34;class AtariAgent:\n&#34;,</code>
							</td>
						</tr>
						
						<tr>
							<td id="L475" class="lines-num">
								<span id="L475" data-line-number="475"></span>
							</td>
							<td rel="L475" class="lines-code chroma">
								<code>        &#34;    def __init__(self, env):\n&#34;,</code>
							</td>
						</tr>
						
						<tr>
							<td id="L476" class="lines-num">
								<span id="L476" data-line-number="476"></span>
							</td>
							<td rel="L476" class="lines-code chroma">
								<code>        &#34;        self.env = env\n&#34;,</code>
							</td>
						</tr>
						
						<tr>
							<td id="L477" class="lines-num">
								<span id="L477" data-line-number="477"></span>
							</td>
							<td rel="L477" class="lines-code chroma">
								<code>        &#34;        self.action_size = env.action_space.n\n&#34;,</code>
							</td>
						</tr>
						
						<tr>
							<td id="L478" class="lines-num">
								<span id="L478" data-line-number="478"></span>
							</td>
							<td rel="L478" class="lines-code chroma">
								<code>        &#34;        self.memory = deque(maxlen=MEMORY_SIZE)\n&#34;,</code>
							</td>
						</tr>
						
						<tr>
							<td id="L479" class="lines-num">
								<span id="L479" data-line-number="479"></span>
							</td>
							<td rel="L479" class="lines-code chroma">
								<code>        &#34;        self.epsilon = EPSILON_START\n&#34;,</code>
							</td>
						</tr>
						
						<tr>
							<td id="L480" class="lines-num">
								<span id="L480" data-line-number="480"></span>
							</td>
							<td rel="L480" class="lines-code chroma">
								<code>        &#34;        self.device = torch.device(\&#34;cuda\&#34; if torch.cuda.is_available() else \&#34;cpu\&#34;)\n&#34;,</code>
							</td>
						</tr>
						
						<tr>
							<td id="L481" class="lines-num">
								<span id="L481" data-line-number="481"></span>
							</td>
							<td rel="L481" class="lines-code chroma">
								<code>        &#34;        self.policy_net = AtariDQN(self.action_size).to(self.device)\n&#34;,</code>
							</td>
						</tr>
						
						<tr>
							<td id="L482" class="lines-num">
								<span id="L482" data-line-number="482"></span>
							</td>
							<td rel="L482" class="lines-code chroma">
								<code>        &#34;        self.target_net = AtariDQN(self.action_size).to(self.device)\n&#34;,</code>
							</td>
						</tr>
						
						<tr>
							<td id="L483" class="lines-num">
								<span id="L483" data-line-number="483"></span>
							</td>
							<td rel="L483" class="lines-code chroma">
								<code>        &#34;        self.target_net.load_state_dict(self.policy_net.state_dict())\n&#34;,</code>
							</td>
						</tr>
						
						<tr>
							<td id="L484" class="lines-num">
								<span id="L484" data-line-number="484"></span>
							</td>
							<td rel="L484" class="lines-code chroma">
								<code>        &#34;        self.target_net.eval()\n&#34;,</code>
							</td>
						</tr>
						
						<tr>
							<td id="L485" class="lines-num">
								<span id="L485" data-line-number="485"></span>
							</td>
							<td rel="L485" class="lines-code chroma">
								<code>        &#34;        self.optimizer = optim.Adam(self.policy_net.parameters(), lr=LEARNING_RATE)\n&#34;,</code>
							</td>
						</tr>
						
						<tr>
							<td id="L486" class="lines-num">
								<span id="L486" data-line-number="486"></span>
							</td>
							<td rel="L486" class="lines-code chroma">
								<code>        &#34;        self.frame_stack = deque(maxlen=FRAME_STACK)\n&#34;,</code>
							</td>
						</tr>
						
						<tr>
							<td id="L487" class="lines-num">
								<span id="L487" data-line-number="487"></span>
							</td>
							<td rel="L487" class="lines-code chroma">
								<code>        &#34;\n&#34;,</code>
							</td>
						</tr>
						
						<tr>
							<td id="L488" class="lines-num">
								<span id="L488" data-line-number="488"></span>
							</td>
							<td rel="L488" class="lines-code chroma">
								<code>        &#34;    def stack_frames(self, frame, is_new_episode):\n&#34;,</code>
							</td>
						</tr>
						
						<tr>
							<td id="L489" class="lines-num">
								<span id="L489" data-line-number="489"></span>
							</td>
							<td rel="L489" class="lines-code chroma">
								<code>        &#34;        frame = preprocess_frame(frame)\n&#34;,</code>
							</td>
						</tr>
						
						<tr>
							<td id="L490" class="lines-num">
								<span id="L490" data-line-number="490"></span>
							</td>
							<td rel="L490" class="lines-code chroma">
								<code>        &#34;        if is_new_episode:\n&#34;,</code>
							</td>
						</tr>
						
						<tr>
							<td id="L491" class="lines-num">
								<span id="L491" data-line-number="491"></span>
							</td>
							<td rel="L491" class="lines-code chroma">
								<code>        &#34;            self.frame_stack.clear()\n&#34;,</code>
							</td>
						</tr>
						
						<tr>
							<td id="L492" class="lines-num">
								<span id="L492" data-line-number="492"></span>
							</td>
							<td rel="L492" class="lines-code chroma">
								<code>        &#34;            for _ in range(FRAME_STACK):\n&#34;,</code>
							</td>
						</tr>
						
						<tr>
							<td id="L493" class="lines-num">
								<span id="L493" data-line-number="493"></span>
							</td>
							<td rel="L493" class="lines-code chroma">
								<code>        &#34;                self.frame_stack.append(frame)\n&#34;,</code>
							</td>
						</tr>
						
						<tr>
							<td id="L494" class="lines-num">
								<span id="L494" data-line-number="494"></span>
							</td>
							<td rel="L494" class="lines-code chroma">
								<code>        &#34;        else:\n&#34;,</code>
							</td>
						</tr>
						
						<tr>
							<td id="L495" class="lines-num">
								<span id="L495" data-line-number="495"></span>
							</td>
							<td rel="L495" class="lines-code chroma">
								<code>        &#34;            self.frame_stack.append(frame)\n&#34;,</code>
							</td>
						</tr>
						
						<tr>
							<td id="L496" class="lines-num">
								<span id="L496" data-line-number="496"></span>
							</td>
							<td rel="L496" class="lines-code chroma">
								<code>        &#34;        return np.stack(self.frame_stack, axis=0)\n&#34;,</code>
							</td>
						</tr>
						
						<tr>
							<td id="L497" class="lines-num">
								<span id="L497" data-line-number="497"></span>
							</td>
							<td rel="L497" class="lines-code chroma">
								<code>        &#34;\n&#34;,</code>
							</td>
						</tr>
						
						<tr>
							<td id="L498" class="lines-num">
								<span id="L498" data-line-number="498"></span>
							</td>
							<td rel="L498" class="lines-code chroma">
								<code>        &#34;    def select_action(self, state):\n&#34;,</code>
							</td>
						</tr>
						
						<tr>
							<td id="L499" class="lines-num">
								<span id="L499" data-line-number="499"></span>
							</td>
							<td rel="L499" class="lines-code chroma">
								<code>        &#34;        if random.random() &lt; self.epsilon:\n&#34;,</code>
							</td>
						</tr>
						
						<tr>
							<td id="L500" class="lines-num">
								<span id="L500" data-line-number="500"></span>
							</td>
							<td rel="L500" class="lines-code chroma">
								<code>        &#34;            return self.env.action_space.sample()\n&#34;,</code>
							</td>
						</tr>
						
						<tr>
							<td id="L501" class="lines-num">
								<span id="L501" data-line-number="501"></span>
							</td>
							<td rel="L501" class="lines-code chroma">
								<code>        &#34;        with torch.no_grad():\n&#34;,</code>
							</td>
						</tr>
						
						<tr>
							<td id="L502" class="lines-num">
								<span id="L502" data-line-number="502"></span>
							</td>
							<td rel="L502" class="lines-code chroma">
								<code>        &#34;            state = torch.FloatTensor(state).unsqueeze(0).to(self.device)\n&#34;,</code>
							</td>
						</tr>
						
						<tr>
							<td id="L503" class="lines-num">
								<span id="L503" data-line-number="503"></span>
							</td>
							<td rel="L503" class="lines-code chroma">
								<code>        &#34;            q_values = self.policy_net(state)\n&#34;,</code>
							</td>
						</tr>
						
						<tr>
							<td id="L504" class="lines-num">
								<span id="L504" data-line-number="504"></span>
							</td>
							<td rel="L504" class="lines-code chroma">
								<code>        &#34;            return q_values.argmax().item()\n&#34;,</code>
							</td>
						</tr>
						
						<tr>
							<td id="L505" class="lines-num">
								<span id="L505" data-line-number="505"></span>
							</td>
							<td rel="L505" class="lines-code chroma">
								<code>        &#34;\n&#34;,</code>
							</td>
						</tr>
						
						<tr>
							<td id="L506" class="lines-num">
								<span id="L506" data-line-number="506"></span>
							</td>
							<td rel="L506" class="lines-code chroma">
								<code>        &#34;    def store(self, state, action, reward, next_state, done):\n&#34;,</code>
							</td>
						</tr>
						
						<tr>
							<td id="L507" class="lines-num">
								<span id="L507" data-line-number="507"></span>
							</td>
							<td rel="L507" class="lines-code chroma">
								<code>        &#34;        self.memory.append((state, action, reward, next_state, float(done)))\n&#34;,</code>
							</td>
						</tr>
						
						<tr>
							<td id="L508" class="lines-num">
								<span id="L508" data-line-number="508"></span>
							</td>
							<td rel="L508" class="lines-code chroma">
								<code>        &#34;\n&#34;,</code>
							</td>
						</tr>
						
						<tr>
							<td id="L509" class="lines-num">
								<span id="L509" data-line-number="509"></span>
							</td>
							<td rel="L509" class="lines-code chroma">
								<code>        &#34;    def train(self):\n&#34;,</code>
							</td>
						</tr>
						
						<tr>
							<td id="L510" class="lines-num">
								<span id="L510" data-line-number="510"></span>
							</td>
							<td rel="L510" class="lines-code chroma">
								<code>        &#34;        if len(self.memory) &lt; BATCH_SIZE:\n&#34;,</code>
							</td>
						</tr>
						
						<tr>
							<td id="L511" class="lines-num">
								<span id="L511" data-line-number="511"></span>
							</td>
							<td rel="L511" class="lines-code chroma">
								<code>        &#34;            return\n&#34;,</code>
							</td>
						</tr>
						
						<tr>
							<td id="L512" class="lines-num">
								<span id="L512" data-line-number="512"></span>
							</td>
							<td rel="L512" class="lines-code chroma">
								<code>        &#34;        batch = random.sample(self.memory, BATCH_SIZE)\n&#34;,</code>
							</td>
						</tr>
						
						<tr>
							<td id="L513" class="lines-num">
								<span id="L513" data-line-number="513"></span>
							</td>
							<td rel="L513" class="lines-code chroma">
								<code>        &#34;        states, actions, rewards, next_states, dones = zip(*batch)\n&#34;,</code>
							</td>
						</tr>
						
						<tr>
							<td id="L514" class="lines-num">
								<span id="L514" data-line-number="514"></span>
							</td>
							<td rel="L514" class="lines-code chroma">
								<code>        &#34;\n&#34;,</code>
							</td>
						</tr>
						
						<tr>
							<td id="L515" class="lines-num">
								<span id="L515" data-line-number="515"></span>
							</td>
							<td rel="L515" class="lines-code chroma">
								<code>        &#34;        states = torch.FloatTensor(np.array(states)).to(self.device)\n&#34;,</code>
							</td>
						</tr>
						
						<tr>
							<td id="L516" class="lines-num">
								<span id="L516" data-line-number="516"></span>
							</td>
							<td rel="L516" class="lines-code chroma">
								<code>        &#34;        actions = torch.LongTensor(actions).to(self.device)\n&#34;,</code>
							</td>
						</tr>
						
						<tr>
							<td id="L517" class="lines-num">
								<span id="L517" data-line-number="517"></span>
							</td>
							<td rel="L517" class="lines-code chroma">
								<code>        &#34;        rewards = torch.FloatTensor(rewards).to(self.device)\n&#34;,</code>
							</td>
						</tr>
						
						<tr>
							<td id="L518" class="lines-num">
								<span id="L518" data-line-number="518"></span>
							</td>
							<td rel="L518" class="lines-code chroma">
								<code>        &#34;        next_states = torch.FloatTensor(np.array(next_states)).to(self.device)\n&#34;,</code>
							</td>
						</tr>
						
						<tr>
							<td id="L519" class="lines-num">
								<span id="L519" data-line-number="519"></span>
							</td>
							<td rel="L519" class="lines-code chroma">
								<code>        &#34;        dones = torch.FloatTensor(dones).to(self.device)\n&#34;,</code>
							</td>
						</tr>
						
						<tr>
							<td id="L520" class="lines-num">
								<span id="L520" data-line-number="520"></span>
							</td>
							<td rel="L520" class="lines-code chroma">
								<code>        &#34;\n&#34;,</code>
							</td>
						</tr>
						
						<tr>
							<td id="L521" class="lines-num">
								<span id="L521" data-line-number="521"></span>
							</td>
							<td rel="L521" class="lines-code chroma">
								<code>        &#34;        q_values = self.policy_net(states).gather(1, actions.unsqueeze(1)).squeeze(1)\n&#34;,</code>
							</td>
						</tr>
						
						<tr>
							<td id="L522" class="lines-num">
								<span id="L522" data-line-number="522"></span>
							</td>
							<td rel="L522" class="lines-code chroma">
								<code>        &#34;        next_q_values = self.target_net(next_states).max(1)[0].detach()\n&#34;,</code>
							</td>
						</tr>
						
						<tr>
							<td id="L523" class="lines-num">
								<span id="L523" data-line-number="523"></span>
							</td>
							<td rel="L523" class="lines-code chroma">
								<code>        &#34;        targets = rewards + GAMMA * next_q_values * (1 - dones)\n&#34;,</code>
							</td>
						</tr>
						
						<tr>
							<td id="L524" class="lines-num">
								<span id="L524" data-line-number="524"></span>
							</td>
							<td rel="L524" class="lines-code chroma">
								<code>        &#34;\n&#34;,</code>
							</td>
						</tr>
						
						<tr>
							<td id="L525" class="lines-num">
								<span id="L525" data-line-number="525"></span>
							</td>
							<td rel="L525" class="lines-code chroma">
								<code>        &#34;        loss = nn.MSELoss()(q_values, targets)\n&#34;,</code>
							</td>
						</tr>
						
						<tr>
							<td id="L526" class="lines-num">
								<span id="L526" data-line-number="526"></span>
							</td>
							<td rel="L526" class="lines-code chroma">
								<code>        &#34;        self.optimizer.zero_grad()\n&#34;,</code>
							</td>
						</tr>
						
						<tr>
							<td id="L527" class="lines-num">
								<span id="L527" data-line-number="527"></span>
							</td>
							<td rel="L527" class="lines-code chroma">
								<code>        &#34;        loss.backward()\n&#34;,</code>
							</td>
						</tr>
						
						<tr>
							<td id="L528" class="lines-num">
								<span id="L528" data-line-number="528"></span>
							</td>
							<td rel="L528" class="lines-code chroma">
								<code>        &#34;        self.optimizer.step()\n&#34;,</code>
							</td>
						</tr>
						
						<tr>
							<td id="L529" class="lines-num">
								<span id="L529" data-line-number="529"></span>
							</td>
							<td rel="L529" class="lines-code chroma">
								<code>        &#34;\n&#34;,</code>
							</td>
						</tr>
						
						<tr>
							<td id="L530" class="lines-num">
								<span id="L530" data-line-number="530"></span>
							</td>
							<td rel="L530" class="lines-code chroma">
								<code>        &#34;    def update_target(self):\n&#34;,</code>
							</td>
						</tr>
						
						<tr>
							<td id="L531" class="lines-num">
								<span id="L531" data-line-number="531"></span>
							</td>
							<td rel="L531" class="lines-code chroma">
								<code>        &#34;        self.target_net.load_state_dict(self.policy_net.state_dict())\n&#34;,</code>
							</td>
						</tr>
						
						<tr>
							<td id="L532" class="lines-num">
								<span id="L532" data-line-number="532"></span>
							</td>
							<td rel="L532" class="lines-code chroma">
								<code>        &#34;\n&#34;,</code>
							</td>
						</tr>
						
						<tr>
							<td id="L533" class="lines-num">
								<span id="L533" data-line-number="533"></span>
							</td>
							<td rel="L533" class="lines-code chroma">
								<code>        &#34;    def decay_epsilon(self):\n&#34;,</code>
							</td>
						</tr>
						
						<tr>
							<td id="L534" class="lines-num">
								<span id="L534" data-line-number="534"></span>
							</td>
							<td rel="L534" class="lines-code chroma">
								<code>        &#34;        self.epsilon = max(EPSILON_END, self.epsilon * EPSILON_DECAY)&#34;</code>
							</td>
						</tr>
						
						<tr>
							<td id="L535" class="lines-num">
								<span id="L535" data-line-number="535"></span>
							</td>
							<td rel="L535" class="lines-code chroma">
								<code>      ],</code>
							</td>
						</tr>
						
						<tr>
							<td id="L536" class="lines-num">
								<span id="L536" data-line-number="536"></span>
							</td>
							<td rel="L536" class="lines-code chroma">
								<code>      &#34;metadata&#34;: {</code>
							</td>
						</tr>
						
						<tr>
							<td id="L537" class="lines-num">
								<span id="L537" data-line-number="537"></span>
							</td>
							<td rel="L537" class="lines-code chroma">
								<code>        &#34;id&#34;: &#34;uWmxhB_UFjgb&#34;</code>
							</td>
						</tr>
						
						<tr>
							<td id="L538" class="lines-num">
								<span id="L538" data-line-number="538"></span>
							</td>
							<td rel="L538" class="lines-code chroma">
								<code>      },</code>
							</td>
						</tr>
						
						<tr>
							<td id="L539" class="lines-num">
								<span id="L539" data-line-number="539"></span>
							</td>
							<td rel="L539" class="lines-code chroma">
								<code>      &#34;id&#34;: &#34;uWmxhB_UFjgb&#34;,</code>
							</td>
						</tr>
						
						<tr>
							<td id="L540" class="lines-num">
								<span id="L540" data-line-number="540"></span>
							</td>
							<td rel="L540" class="lines-code chroma">
								<code>      &#34;execution_count&#34;: 4,</code>
							</td>
						</tr>
						
						<tr>
							<td id="L541" class="lines-num">
								<span id="L541" data-line-number="541"></span>
							</td>
							<td rel="L541" class="lines-code chroma">
								<code>      &#34;outputs&#34;: []</code>
							</td>
						</tr>
						
						<tr>
							<td id="L542" class="lines-num">
								<span id="L542" data-line-number="542"></span>
							</td>
							<td rel="L542" class="lines-code chroma">
								<code>    },</code>
							</td>
						</tr>
						
						<tr>
							<td id="L543" class="lines-num">
								<span id="L543" data-line-number="543"></span>
							</td>
							<td rel="L543" class="lines-code chroma">
								<code>    {</code>
							</td>
						</tr>
						
						<tr>
							<td id="L544" class="lines-num">
								<span id="L544" data-line-number="544"></span>
							</td>
							<td rel="L544" class="lines-code chroma">
								<code>      &#34;cell_type&#34;: &#34;markdown&#34;,</code>
							</td>
						</tr>
						
						<tr>
							<td id="L545" class="lines-num">
								<span id="L545" data-line-number="545"></span>
							</td>
							<td rel="L545" class="lines-code chroma">
								<code>      &#34;source&#34;: [</code>
							</td>
						</tr>
						
						<tr>
							<td id="L546" class="lines-num">
								<span id="L546" data-line-number="546"></span>
							</td>
							<td rel="L546" class="lines-code chroma">
								<code>        &#34;# Training&#34;</code>
							</td>
						</tr>
						
						<tr>
							<td id="L547" class="lines-num">
								<span id="L547" data-line-number="547"></span>
							</td>
							<td rel="L547" class="lines-code chroma">
								<code>      ],</code>
							</td>
						</tr>
						
						<tr>
							<td id="L548" class="lines-num">
								<span id="L548" data-line-number="548"></span>
							</td>
							<td rel="L548" class="lines-code chroma">
								<code>      &#34;metadata&#34;: {</code>
							</td>
						</tr>
						
						<tr>
							<td id="L549" class="lines-num">
								<span id="L549" data-line-number="549"></span>
							</td>
							<td rel="L549" class="lines-code chroma">
								<code>        &#34;id&#34;: &#34;YiNEml-KGxDL&#34;</code>
							</td>
						</tr>
						
						<tr>
							<td id="L550" class="lines-num">
								<span id="L550" data-line-number="550"></span>
							</td>
							<td rel="L550" class="lines-code chroma">
								<code>      },</code>
							</td>
						</tr>
						
						<tr>
							<td id="L551" class="lines-num">
								<span id="L551" data-line-number="551"></span>
							</td>
							<td rel="L551" class="lines-code chroma">
								<code>      &#34;id&#34;: &#34;YiNEml-KGxDL&#34;</code>
							</td>
						</tr>
						
						<tr>
							<td id="L552" class="lines-num">
								<span id="L552" data-line-number="552"></span>
							</td>
							<td rel="L552" class="lines-code chroma">
								<code>    },</code>
							</td>
						</tr>
						
						<tr>
							<td id="L553" class="lines-num">
								<span id="L553" data-line-number="553"></span>
							</td>
							<td rel="L553" class="lines-code chroma">
								<code>    {</code>
							</td>
						</tr>
						
						<tr>
							<td id="L554" class="lines-num">
								<span id="L554" data-line-number="554"></span>
							</td>
							<td rel="L554" class="lines-code chroma">
								<code>      &#34;cell_type&#34;: &#34;code&#34;,</code>
							</td>
						</tr>
						
						<tr>
							<td id="L555" class="lines-num">
								<span id="L555" data-line-number="555"></span>
							</td>
							<td rel="L555" class="lines-code chroma">
								<code>      &#34;source&#34;: [</code>
							</td>
						</tr>
						
						<tr>
							<td id="L556" class="lines-num">
								<span id="L556" data-line-number="556"></span>
							</td>
							<td rel="L556" class="lines-code chroma">
								<code>        &#34;def train_atari(game_name):\n&#34;,</code>
							</td>
						</tr>
						
						<tr>
							<td id="L557" class="lines-num">
								<span id="L557" data-line-number="557"></span>
							</td>
							<td rel="L557" class="lines-code chroma">
								<code>        &#34;    env = gym.make(f\&#34;ALE/{game_name}-v5\&#34;, render_mode=\&#34;rgb_array\&#34;)\n&#34;,</code>
							</td>
						</tr>
						
						<tr>
							<td id="L558" class="lines-num">
								<span id="L558" data-line-number="558"></span>
							</td>
							<td rel="L558" class="lines-code chroma">
								<code>        &#34;    agent = AtariAgent(env)\n&#34;,</code>
							</td>
						</tr>
						
						<tr>
							<td id="L559" class="lines-num">
								<span id="L559" data-line-number="559"></span>
							</td>
							<td rel="L559" class="lines-code chroma">
								<code>        &#34;    step_count = 0\n&#34;,</code>
							</td>
						</tr>
						
						<tr>
							<td id="L560" class="lines-num">
								<span id="L560" data-line-number="560"></span>
							</td>
							<td rel="L560" class="lines-code chroma">
								<code>        &#34;\n&#34;,</code>
							</td>
						</tr>
						
						<tr>
							<td id="L561" class="lines-num">
								<span id="L561" data-line-number="561"></span>
							</td>
							<td rel="L561" class="lines-code chroma">
								<code>        &#34;    for episode in range(EPISODES):\n&#34;,</code>
							</td>
						</tr>
						
						<tr>
							<td id="L562" class="lines-num">
								<span id="L562" data-line-number="562"></span>
							</td>
							<td rel="L562" class="lines-code chroma">
								<code>        &#34;        state, _ = env.reset()\n&#34;,</code>
							</td>
						</tr>
						
						<tr>
							<td id="L563" class="lines-num">
								<span id="L563" data-line-number="563"></span>
							</td>
							<td rel="L563" class="lines-code chroma">
								<code>        &#34;        state = agent.stack_frames(state, True)\n&#34;,</code>
							</td>
						</tr>
						
						<tr>
							<td id="L564" class="lines-num">
								<span id="L564" data-line-number="564"></span>
							</td>
							<td rel="L564" class="lines-code chroma">
								<code>        &#34;        total_reward = 0\n&#34;,</code>
							</td>
						</tr>
						
						<tr>
							<td id="L565" class="lines-num">
								<span id="L565" data-line-number="565"></span>
							</td>
							<td rel="L565" class="lines-code chroma">
								<code>        &#34;        done = False\n&#34;,</code>
							</td>
						</tr>
						
						<tr>
							<td id="L566" class="lines-num">
								<span id="L566" data-line-number="566"></span>
							</td>
							<td rel="L566" class="lines-code chroma">
								<code>        &#34;\n&#34;,</code>
							</td>
						</tr>
						
						<tr>
							<td id="L567" class="lines-num">
								<span id="L567" data-line-number="567"></span>
							</td>
							<td rel="L567" class="lines-code chroma">
								<code>        &#34;        while not done:\n&#34;,</code>
							</td>
						</tr>
						
						<tr>
							<td id="L568" class="lines-num">
								<span id="L568" data-line-number="568"></span>
							</td>
							<td rel="L568" class="lines-code chroma">
								<code>        &#34;            action = agent.select_action(state)\n&#34;,</code>
							</td>
						</tr>
						
						<tr>
							<td id="L569" class="lines-num">
								<span id="L569" data-line-number="569"></span>
							</td>
							<td rel="L569" class="lines-code chroma">
								<code>        &#34;            next_state, reward, terminated, truncated, _ = env.step(action)\n&#34;,</code>
							</td>
						</tr>
						
						<tr>
							<td id="L570" class="lines-num">
								<span id="L570" data-line-number="570"></span>
							</td>
							<td rel="L570" class="lines-code chroma">
								<code>        &#34;            done = terminated or truncated\n&#34;,</code>
							</td>
						</tr>
						
						<tr>
							<td id="L571" class="lines-num">
								<span id="L571" data-line-number="571"></span>
							</td>
							<td rel="L571" class="lines-code chroma">
								<code>        &#34;            next_state = agent.stack_frames(next_state, False)\n&#34;,</code>
							</td>
						</tr>
						
						<tr>
							<td id="L572" class="lines-num">
								<span id="L572" data-line-number="572"></span>
							</td>
							<td rel="L572" class="lines-code chroma">
								<code>        &#34;            agent.store(state, action, reward, next_state, done)\n&#34;,</code>
							</td>
						</tr>
						
						<tr>
							<td id="L573" class="lines-num">
								<span id="L573" data-line-number="573"></span>
							</td>
							<td rel="L573" class="lines-code chroma">
								<code>        &#34;            agent.train()\n&#34;,</code>
							</td>
						</tr>
						
						<tr>
							<td id="L574" class="lines-num">
								<span id="L574" data-line-number="574"></span>
							</td>
							<td rel="L574" class="lines-code chroma">
								<code>        &#34;            state = next_state\n&#34;,</code>
							</td>
						</tr>
						
						<tr>
							<td id="L575" class="lines-num">
								<span id="L575" data-line-number="575"></span>
							</td>
							<td rel="L575" class="lines-code chroma">
								<code>        &#34;            total_reward += reward\n&#34;,</code>
							</td>
						</tr>
						
						<tr>
							<td id="L576" class="lines-num">
								<span id="L576" data-line-number="576"></span>
							</td>
							<td rel="L576" class="lines-code chroma">
								<code>        &#34;            step_count += 1\n&#34;,</code>
							</td>
						</tr>
						
						<tr>
							<td id="L577" class="lines-num">
								<span id="L577" data-line-number="577"></span>
							</td>
							<td rel="L577" class="lines-code chroma">
								<code>        &#34;\n&#34;,</code>
							</td>
						</tr>
						
						<tr>
							<td id="L578" class="lines-num">
								<span id="L578" data-line-number="578"></span>
							</td>
							<td rel="L578" class="lines-code chroma">
								<code>        &#34;            if step_count % TARGET_UPDATE == 0:\n&#34;,</code>
							</td>
						</tr>
						
						<tr>
							<td id="L579" class="lines-num">
								<span id="L579" data-line-number="579"></span>
							</td>
							<td rel="L579" class="lines-code chroma">
								<code>        &#34;                agent.update_target()\n&#34;,</code>
							</td>
						</tr>
						
						<tr>
							<td id="L580" class="lines-num">
								<span id="L580" data-line-number="580"></span>
							</td>
							<td rel="L580" class="lines-code chroma">
								<code>        &#34;\n&#34;,</code>
							</td>
						</tr>
						
						<tr>
							<td id="L581" class="lines-num">
								<span id="L581" data-line-number="581"></span>
							</td>
							<td rel="L581" class="lines-code chroma">
								<code>        &#34;        agent.decay_epsilon()\n&#34;,</code>
							</td>
						</tr>
						
						<tr>
							<td id="L582" class="lines-num">
								<span id="L582" data-line-number="582"></span>
							</td>
							<td rel="L582" class="lines-code chroma">
								<code>        &#34;        if episode % 10 == 0:\n&#34;,</code>
							</td>
						</tr>
						
						<tr>
							<td id="L583" class="lines-num">
								<span id="L583" data-line-number="583"></span>
							</td>
							<td rel="L583" class="lines-code chroma">
								<code>        &#34;            print(f\&#34;{game_name} - Episode {episode}, Reward: {total_reward}, Epsilon: {agent.epsilon:.4f}\&#34;)\n&#34;,</code>
							</td>
						</tr>
						
						<tr>
							<td id="L584" class="lines-num">
								<span id="L584" data-line-number="584"></span>
							</td>
							<td rel="L584" class="lines-code chroma">
								<code>        &#34;\n&#34;,</code>
							</td>
						</tr>
						
						<tr>
							<td id="L585" class="lines-num">
								<span id="L585" data-line-number="585"></span>
							</td>
							<td rel="L585" class="lines-code chroma">
								<code>        &#34;    env.close()&#34;</code>
							</td>
						</tr>
						
						<tr>
							<td id="L586" class="lines-num">
								<span id="L586" data-line-number="586"></span>
							</td>
							<td rel="L586" class="lines-code chroma">
								<code>      ],</code>
							</td>
						</tr>
						
						<tr>
							<td id="L587" class="lines-num">
								<span id="L587" data-line-number="587"></span>
							</td>
							<td rel="L587" class="lines-code chroma">
								<code>      &#34;metadata&#34;: {</code>
							</td>
						</tr>
						
						<tr>
							<td id="L588" class="lines-num">
								<span id="L588" data-line-number="588"></span>
							</td>
							<td rel="L588" class="lines-code chroma">
								<code>        &#34;id&#34;: &#34;vWDJYOMFGjIM&#34;</code>
							</td>
						</tr>
						
						<tr>
							<td id="L589" class="lines-num">
								<span id="L589" data-line-number="589"></span>
							</td>
							<td rel="L589" class="lines-code chroma">
								<code>      },</code>
							</td>
						</tr>
						
						<tr>
							<td id="L590" class="lines-num">
								<span id="L590" data-line-number="590"></span>
							</td>
							<td rel="L590" class="lines-code chroma">
								<code>      &#34;id&#34;: &#34;vWDJYOMFGjIM&#34;,</code>
							</td>
						</tr>
						
						<tr>
							<td id="L591" class="lines-num">
								<span id="L591" data-line-number="591"></span>
							</td>
							<td rel="L591" class="lines-code chroma">
								<code>      &#34;execution_count&#34;: 5,</code>
							</td>
						</tr>
						
						<tr>
							<td id="L592" class="lines-num">
								<span id="L592" data-line-number="592"></span>
							</td>
							<td rel="L592" class="lines-code chroma">
								<code>      &#34;outputs&#34;: []</code>
							</td>
						</tr>
						
						<tr>
							<td id="L593" class="lines-num">
								<span id="L593" data-line-number="593"></span>
							</td>
							<td rel="L593" class="lines-code chroma">
								<code>    },</code>
							</td>
						</tr>
						
						<tr>
							<td id="L594" class="lines-num">
								<span id="L594" data-line-number="594"></span>
							</td>
							<td rel="L594" class="lines-code chroma">
								<code>    {</code>
							</td>
						</tr>
						
						<tr>
							<td id="L595" class="lines-num">
								<span id="L595" data-line-number="595"></span>
							</td>
							<td rel="L595" class="lines-code chroma">
								<code>      &#34;cell_type&#34;: &#34;markdown&#34;,</code>
							</td>
						</tr>
						
						<tr>
							<td id="L596" class="lines-num">
								<span id="L596" data-line-number="596"></span>
							</td>
							<td rel="L596" class="lines-code chroma">
								<code>      &#34;source&#34;: [</code>
							</td>
						</tr>
						
						<tr>
							<td id="L597" class="lines-num">
								<span id="L597" data-line-number="597"></span>
							</td>
							<td rel="L597" class="lines-code chroma">
								<code>        &#34;# Train games&#34;</code>
							</td>
						</tr>
						
						<tr>
							<td id="L598" class="lines-num">
								<span id="L598" data-line-number="598"></span>
							</td>
							<td rel="L598" class="lines-code chroma">
								<code>      ],</code>
							</td>
						</tr>
						
						<tr>
							<td id="L599" class="lines-num">
								<span id="L599" data-line-number="599"></span>
							</td>
							<td rel="L599" class="lines-code chroma">
								<code>      &#34;metadata&#34;: {</code>
							</td>
						</tr>
						
						<tr>
							<td id="L600" class="lines-num">
								<span id="L600" data-line-number="600"></span>
							</td>
							<td rel="L600" class="lines-code chroma">
								<code>        &#34;id&#34;: &#34;Uz9b2vbOHQhU&#34;</code>
							</td>
						</tr>
						
						<tr>
							<td id="L601" class="lines-num">
								<span id="L601" data-line-number="601"></span>
							</td>
							<td rel="L601" class="lines-code chroma">
								<code>      },</code>
							</td>
						</tr>
						
						<tr>
							<td id="L602" class="lines-num">
								<span id="L602" data-line-number="602"></span>
							</td>
							<td rel="L602" class="lines-code chroma">
								<code>      &#34;id&#34;: &#34;Uz9b2vbOHQhU&#34;</code>
							</td>
						</tr>
						
						<tr>
							<td id="L603" class="lines-num">
								<span id="L603" data-line-number="603"></span>
							</td>
							<td rel="L603" class="lines-code chroma">
								<code>    },</code>
							</td>
						</tr>
						
						<tr>
							<td id="L604" class="lines-num">
								<span id="L604" data-line-number="604"></span>
							</td>
							<td rel="L604" class="lines-code chroma">
								<code>    {</code>
							</td>
						</tr>
						
						<tr>
							<td id="L605" class="lines-num">
								<span id="L605" data-line-number="605"></span>
							</td>
							<td rel="L605" class="lines-code chroma">
								<code>      &#34;cell_type&#34;: &#34;code&#34;,</code>
							</td>
						</tr>
						
						<tr>
							<td id="L606" class="lines-num">
								<span id="L606" data-line-number="606"></span>
							</td>
							<td rel="L606" class="lines-code chroma">
								<code>      &#34;source&#34;: [</code>
							</td>
						</tr>
						
						<tr>
							<td id="L607" class="lines-num">
								<span id="L607" data-line-number="607"></span>
							</td>
							<td rel="L607" class="lines-code chroma">
								<code>        &#34;train_atari(\&#34;SpaceInvaders\&#34;)\n&#34;,</code>
							</td>
						</tr>
						
						<tr>
							<td id="L608" class="lines-num">
								<span id="L608" data-line-number="608"></span>
							</td>
							<td rel="L608" class="lines-code chroma">
								<code>        &#34;train_atari(\&#34;MsPacman\&#34;)&#34;</code>
							</td>
						</tr>
						
						<tr>
							<td id="L609" class="lines-num">
								<span id="L609" data-line-number="609"></span>
							</td>
							<td rel="L609" class="lines-code chroma">
								<code>      ],</code>
							</td>
						</tr>
						
						<tr>
							<td id="L610" class="lines-num">
								<span id="L610" data-line-number="610"></span>
							</td>
							<td rel="L610" class="lines-code chroma">
								<code>      &#34;metadata&#34;: {</code>
							</td>
						</tr>
						
						<tr>
							<td id="L611" class="lines-num">
								<span id="L611" data-line-number="611"></span>
							</td>
							<td rel="L611" class="lines-code chroma">
								<code>        &#34;colab&#34;: {</code>
							</td>
						</tr>
						
						<tr>
							<td id="L612" class="lines-num">
								<span id="L612" data-line-number="612"></span>
							</td>
							<td rel="L612" class="lines-code chroma">
								<code>          &#34;base_uri&#34;: &#34;https://localhost:8080/&#34;</code>
							</td>
						</tr>
						
						<tr>
							<td id="L613" class="lines-num">
								<span id="L613" data-line-number="613"></span>
							</td>
							<td rel="L613" class="lines-code chroma">
								<code>        },</code>
							</td>
						</tr>
						
						<tr>
							<td id="L614" class="lines-num">
								<span id="L614" data-line-number="614"></span>
							</td>
							<td rel="L614" class="lines-code chroma">
								<code>        &#34;id&#34;: &#34;k9AxbWGHHNNz&#34;,</code>
							</td>
						</tr>
						
						<tr>
							<td id="L615" class="lines-num">
								<span id="L615" data-line-number="615"></span>
							</td>
							<td rel="L615" class="lines-code chroma">
								<code>        &#34;outputId&#34;: &#34;4baf6487-7d5f-44e9-cdef-c17544a97140&#34;</code>
							</td>
						</tr>
						
						<tr>
							<td id="L616" class="lines-num">
								<span id="L616" data-line-number="616"></span>
							</td>
							<td rel="L616" class="lines-code chroma">
								<code>      },</code>
							</td>
						</tr>
						
						<tr>
							<td id="L617" class="lines-num">
								<span id="L617" data-line-number="617"></span>
							</td>
							<td rel="L617" class="lines-code chroma">
								<code>      &#34;id&#34;: &#34;k9AxbWGHHNNz&#34;,</code>
							</td>
						</tr>
						
						<tr>
							<td id="L618" class="lines-num">
								<span id="L618" data-line-number="618"></span>
							</td>
							<td rel="L618" class="lines-code chroma">
								<code>      &#34;execution_count&#34;: null,</code>
							</td>
						</tr>
						
						<tr>
							<td id="L619" class="lines-num">
								<span id="L619" data-line-number="619"></span>
							</td>
							<td rel="L619" class="lines-code chroma">
								<code>      &#34;outputs&#34;: [</code>
							</td>
						</tr>
						
						<tr>
							<td id="L620" class="lines-num">
								<span id="L620" data-line-number="620"></span>
							</td>
							<td rel="L620" class="lines-code chroma">
								<code>        {</code>
							</td>
						</tr>
						
						<tr>
							<td id="L621" class="lines-num">
								<span id="L621" data-line-number="621"></span>
							</td>
							<td rel="L621" class="lines-code chroma">
								<code>          &#34;output_type&#34;: &#34;stream&#34;,</code>
							</td>
						</tr>
						
						<tr>
							<td id="L622" class="lines-num">
								<span id="L622" data-line-number="622"></span>
							</td>
							<td rel="L622" class="lines-code chroma">
								<code>          &#34;name&#34;: &#34;stdout&#34;,</code>
							</td>
						</tr>
						
						<tr>
							<td id="L623" class="lines-num">
								<span id="L623" data-line-number="623"></span>
							</td>
							<td rel="L623" class="lines-code chroma">
								<code>          &#34;text&#34;: [</code>
							</td>
						</tr>
						
						<tr>
							<td id="L624" class="lines-num">
								<span id="L624" data-line-number="624"></span>
							</td>
							<td rel="L624" class="lines-code chroma">
								<code>            &#34;SpaceInvaders - Episode 0, Reward: 155.0, Epsilon: 0.9990\n&#34;</code>
							</td>
						</tr>
						
						<tr>
							<td id="L625" class="lines-num">
								<span id="L625" data-line-number="625"></span>
							</td>
							<td rel="L625" class="lines-code chroma">
								<code>          ]</code>
							</td>
						</tr>
						
						<tr>
							<td id="L626" class="lines-num">
								<span id="L626" data-line-number="626"></span>
							</td>
							<td rel="L626" class="lines-code chroma">
								<code>        }</code>
							</td>
						</tr>
						
						<tr>
							<td id="L627" class="lines-num">
								<span id="L627" data-line-number="627"></span>
							</td>
							<td rel="L627" class="lines-code chroma">
								<code>      ]</code>
							</td>
						</tr>
						
						<tr>
							<td id="L628" class="lines-num">
								<span id="L628" data-line-number="628"></span>
							</td>
							<td rel="L628" class="lines-code chroma">
								<code>    },</code>
							</td>
						</tr>
						
						<tr>
							<td id="L629" class="lines-num">
								<span id="L629" data-line-number="629"></span>
							</td>
							<td rel="L629" class="lines-code chroma">
								<code>    {</code>
							</td>
						</tr>
						
						<tr>
							<td id="L630" class="lines-num">
								<span id="L630" data-line-number="630"></span>
							</td>
							<td rel="L630" class="lines-code chroma">
								<code>      &#34;cell_type&#34;: &#34;code&#34;,</code>
							</td>
						</tr>
						
						<tr>
							<td id="L631" class="lines-num">
								<span id="L631" data-line-number="631"></span>
							</td>
							<td rel="L631" class="lines-code chroma">
								<code>      &#34;source&#34;: [],</code>
							</td>
						</tr>
						
						<tr>
							<td id="L632" class="lines-num">
								<span id="L632" data-line-number="632"></span>
							</td>
							<td rel="L632" class="lines-code chroma">
								<code>      &#34;metadata&#34;: {</code>
							</td>
						</tr>
						
						<tr>
							<td id="L633" class="lines-num">
								<span id="L633" data-line-number="633"></span>
							</td>
							<td rel="L633" class="lines-code chroma">
								<code>        &#34;id&#34;: &#34;hVX1JZ7HHVDX&#34;</code>
							</td>
						</tr>
						
						<tr>
							<td id="L634" class="lines-num">
								<span id="L634" data-line-number="634"></span>
							</td>
							<td rel="L634" class="lines-code chroma">
								<code>      },</code>
							</td>
						</tr>
						
						<tr>
							<td id="L635" class="lines-num">
								<span id="L635" data-line-number="635"></span>
							</td>
							<td rel="L635" class="lines-code chroma">
								<code>      &#34;id&#34;: &#34;hVX1JZ7HHVDX&#34;,</code>
							</td>
						</tr>
						
						<tr>
							<td id="L636" class="lines-num">
								<span id="L636" data-line-number="636"></span>
							</td>
							<td rel="L636" class="lines-code chroma">
								<code>      &#34;execution_count&#34;: null,</code>
							</td>
						</tr>
						
						<tr>
							<td id="L637" class="lines-num">
								<span id="L637" data-line-number="637"></span>
							</td>
							<td rel="L637" class="lines-code chroma">
								<code>      &#34;outputs&#34;: []</code>
							</td>
						</tr>
						
						<tr>
							<td id="L638" class="lines-num">
								<span id="L638" data-line-number="638"></span>
							</td>
							<td rel="L638" class="lines-code chroma">
								<code>    }</code>
							</td>
						</tr>
						
						<tr>
							<td id="L639" class="lines-num">
								<span id="L639" data-line-number="639"></span>
							</td>
							<td rel="L639" class="lines-code chroma">
								<code>  ],</code>
							</td>
						</tr>
						
						<tr>
							<td id="L640" class="lines-num">
								<span id="L640" data-line-number="640"></span>
							</td>
							<td rel="L640" class="lines-code chroma">
								<code>  &#34;metadata&#34;: {</code>
							</td>
						</tr>
						
						<tr>
							<td id="L641" class="lines-num">
								<span id="L641" data-line-number="641"></span>
							</td>
							<td rel="L641" class="lines-code chroma">
								<code>    &#34;kernelspec&#34;: {</code>
							</td>
						</tr>
						
						<tr>
							<td id="L642" class="lines-num">
								<span id="L642" data-line-number="642"></span>
							</td>
							<td rel="L642" class="lines-code chroma">
								<code>      &#34;display_name&#34;: &#34;Python 3&#34;,</code>
							</td>
						</tr>
						
						<tr>
							<td id="L643" class="lines-num">
								<span id="L643" data-line-number="643"></span>
							</td>
							<td rel="L643" class="lines-code chroma">
								<code>      &#34;name&#34;: &#34;python3&#34;</code>
							</td>
						</tr>
						
						<tr>
							<td id="L644" class="lines-num">
								<span id="L644" data-line-number="644"></span>
							</td>
							<td rel="L644" class="lines-code chroma">
								<code>    },</code>
							</td>
						</tr>
						
						<tr>
							<td id="L645" class="lines-num">
								<span id="L645" data-line-number="645"></span>
							</td>
							<td rel="L645" class="lines-code chroma">
								<code>    &#34;language_info&#34;: {</code>
							</td>
						</tr>
						
						<tr>
							<td id="L646" class="lines-num">
								<span id="L646" data-line-number="646"></span>
							</td>
							<td rel="L646" class="lines-code chroma">
								<code>      &#34;codemirror_mode&#34;: {</code>
							</td>
						</tr>
						
						<tr>
							<td id="L647" class="lines-num">
								<span id="L647" data-line-number="647"></span>
							</td>
							<td rel="L647" class="lines-code chroma">
								<code>        &#34;name&#34;: &#34;ipython&#34;,</code>
							</td>
						</tr>
						
						<tr>
							<td id="L648" class="lines-num">
								<span id="L648" data-line-number="648"></span>
							</td>
							<td rel="L648" class="lines-code chroma">
								<code>        &#34;version&#34;: 3</code>
							</td>
						</tr>
						
						<tr>
							<td id="L649" class="lines-num">
								<span id="L649" data-line-number="649"></span>
							</td>
							<td rel="L649" class="lines-code chroma">
								<code>      },</code>
							</td>
						</tr>
						
						<tr>
							<td id="L650" class="lines-num">
								<span id="L650" data-line-number="650"></span>
							</td>
							<td rel="L650" class="lines-code chroma">
								<code>      &#34;file_extension&#34;: &#34;.py&#34;,</code>
							</td>
						</tr>
						
						<tr>
							<td id="L651" class="lines-num">
								<span id="L651" data-line-number="651"></span>
							</td>
							<td rel="L651" class="lines-code chroma">
								<code>      &#34;mimetype&#34;: &#34;text/x-python&#34;,</code>
							</td>
						</tr>
						
						<tr>
							<td id="L652" class="lines-num">
								<span id="L652" data-line-number="652"></span>
							</td>
							<td rel="L652" class="lines-code chroma">
								<code>      &#34;name&#34;: &#34;python&#34;,</code>
							</td>
						</tr>
						
						<tr>
							<td id="L653" class="lines-num">
								<span id="L653" data-line-number="653"></span>
							</td>
							<td rel="L653" class="lines-code chroma">
								<code>      &#34;nbconvert_exporter&#34;: &#34;python&#34;,</code>
							</td>
						</tr>
						
						<tr>
							<td id="L654" class="lines-num">
								<span id="L654" data-line-number="654"></span>
							</td>
							<td rel="L654" class="lines-code chroma">
								<code>      &#34;pygments_lexer&#34;: &#34;ipython3&#34;,</code>
							</td>
						</tr>
						
						<tr>
							<td id="L655" class="lines-num">
								<span id="L655" data-line-number="655"></span>
							</td>
							<td rel="L655" class="lines-code chroma">
								<code>      &#34;version&#34;: &#34;3.12.7&#34;</code>
							</td>
						</tr>
						
						<tr>
							<td id="L656" class="lines-num">
								<span id="L656" data-line-number="656"></span>
							</td>
							<td rel="L656" class="lines-code chroma">
								<code>    },</code>
							</td>
						</tr>
						
						<tr>
							<td id="L657" class="lines-num">
								<span id="L657" data-line-number="657"></span>
							</td>
							<td rel="L657" class="lines-code chroma">
								<code>    &#34;colab&#34;: {</code>
							</td>
						</tr>
						
						<tr>
							<td id="L658" class="lines-num">
								<span id="L658" data-line-number="658"></span>
							</td>
							<td rel="L658" class="lines-code chroma">
								<code>      &#34;provenance&#34;: [],</code>
							</td>
						</tr>
						
						<tr>
							<td id="L659" class="lines-num">
								<span id="L659" data-line-number="659"></span>
							</td>
							<td rel="L659" class="lines-code chroma">
								<code>      &#34;gpuType&#34;: &#34;T4&#34;</code>
							</td>
						</tr>
						
						<tr>
							<td id="L660" class="lines-num">
								<span id="L660" data-line-number="660"></span>
							</td>
							<td rel="L660" class="lines-code chroma">
								<code>    },</code>
							</td>
						</tr>
						
						<tr>
							<td id="L661" class="lines-num">
								<span id="L661" data-line-number="661"></span>
							</td>
							<td rel="L661" class="lines-code chroma">
								<code>    &#34;accelerator&#34;: &#34;GPU&#34;</code>
							</td>
						</tr>
						
						<tr>
							<td id="L662" class="lines-num">
								<span id="L662" data-line-number="662"></span>
							</td>
							<td rel="L662" class="lines-code chroma">
								<code>  },</code>
							</td>
						</tr>
						
						<tr>
							<td id="L663" class="lines-num">
								<span id="L663" data-line-number="663"></span>
							</td>
							<td rel="L663" class="lines-code chroma">
								<code>  &#34;nbformat&#34;: 4,</code>
							</td>
						</tr>
						
						<tr>
							<td id="L664" class="lines-num">
								<span id="L664" data-line-number="664"></span>
							</td>
							<td rel="L664" class="lines-code chroma">
								<code>  &#34;nbformat_minor&#34;: 5</code>
							</td>
						</tr>
						
						<tr>
							<td id="L665" class="lines-num">
								<span id="L665" data-line-number="665"></span>
							</td>
							<td rel="L665" class="lines-code chroma">
								<code>}</code>
							</td>
						</tr>
						
					</tbody>
				</table>
				
			
		</div>
	</div>
</div>

<script>
function submitDeleteForm() {
    var message = prompt("delete_confirm_message\n\ndelete_commit_summary", "Delete ''");
    if (message != null) {
        $("#delete-message").val(message);
        $("#delete-file-form").submit()
    }
}
</script>

		
	</div>
</div>


	

	</div>

	

	<footer>
	<div class="ui container">
		<div class="ui left">
			Powered by Gitea Version:  Page: <strong>258ms</strong> Template: <strong>138ms</strong>
		</div>
		<div class="ui right links">
			
			<div class="ui language bottom floating slide up dropdown link item">
				<i class="world icon"></i>
				<div class="text">English</div>
				<div class="menu language-menu">
					
						<a lang="en-US" data-url="/?lang=en-US" class="item active selected">English</a>
					
						<a lang="zh-CN" data-url="/?lang=zh-CN" class="item ">简体中文</a>
					
						<a lang="zh-HK" data-url="/?lang=zh-HK" class="item ">繁體中文（香港）</a>
					
						<a lang="zh-TW" data-url="/?lang=zh-TW" class="item ">繁體中文（台灣）</a>
					
						<a lang="de-DE" data-url="/?lang=de-DE" class="item ">Deutsch</a>
					
						<a lang="fr-FR" data-url="/?lang=fr-FR" class="item ">français</a>
					
						<a lang="nl-NL" data-url="/?lang=nl-NL" class="item ">Nederlands</a>
					
						<a lang="lv-LV" data-url="/?lang=lv-LV" class="item ">latviešu</a>
					
						<a lang="ru-RU" data-url="/?lang=ru-RU" class="item ">русский</a>
					
						<a lang="uk-UA" data-url="/?lang=uk-UA" class="item ">Українська</a>
					
						<a lang="ja-JP" data-url="/?lang=ja-JP" class="item ">日本語</a>
					
						<a lang="es-ES" data-url="/?lang=es-ES" class="item ">español</a>
					
						<a lang="pt-BR" data-url="/?lang=pt-BR" class="item ">português do Brasil</a>
					
						<a lang="pt-PT" data-url="/?lang=pt-PT" class="item ">Português de Portugal</a>
					
						<a lang="pl-PL" data-url="/?lang=pl-PL" class="item ">polski</a>
					
						<a lang="bg-BG" data-url="/?lang=bg-BG" class="item ">български</a>
					
						<a lang="it-IT" data-url="/?lang=it-IT" class="item ">italiano</a>
					
						<a lang="fi-FI" data-url="/?lang=fi-FI" class="item ">suomi</a>
					
						<a lang="tr-TR" data-url="/?lang=tr-TR" class="item ">Türkçe</a>
					
						<a lang="cs-CZ" data-url="/?lang=cs-CZ" class="item ">čeština</a>
					
						<a lang="sr-SP" data-url="/?lang=sr-SP" class="item ">српски</a>
					
						<a lang="sv-SE" data-url="/?lang=sv-SE" class="item ">svenska</a>
					
						<a lang="ko-KR" data-url="/?lang=ko-KR" class="item ">한국어</a>
					
				</div>
			</div>
			<a href="/js/licenses.txt">Licenses</a>
			<a href="/api/swagger">API</a>
			<a target="_blank" rel="noopener noreferrer" href="https://gitea.io">Website</a>
			
			<span class="version">Go1.15.2</span>
		</div>
	</div>
</footer>






	<script src="/js/index.js?v=d41d8cd98f00b204e9800998ecf8427e"></script>

</body>
</html>

